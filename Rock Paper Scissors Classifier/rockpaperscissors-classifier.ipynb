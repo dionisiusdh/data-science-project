{
 "cells": [
  {
   "cell_type": "markdown",
   "metadata": {
    "colab_type": "text",
    "id": "lsEvELdzJHBL"
   },
   "source": [
    "<h1>Rock, Paper, Scissors Image Classifier</h1>"
   ]
  },
  {
   "cell_type": "markdown",
   "metadata": {
    "colab_type": "text",
    "id": "QhCu18u_KQkz"
   },
   "source": [
    "https://github.com/dionisiusdh"
   ]
  },
  {
   "cell_type": "markdown",
   "metadata": {},
   "source": [
    "This project implemented Convolutional Neural Network with TensorFlow and Keras library to classify an image of rock, paper, or scissors hand gesture"
   ]
  },
  {
   "cell_type": "markdown",
   "metadata": {
    "colab_type": "text",
    "id": "iJAnc1uGJcMZ"
   },
   "source": [
    "**Importing Packages and Module**\n"
   ]
  },
  {
   "cell_type": "code",
   "execution_count": 0,
   "metadata": {
    "colab": {},
    "colab_type": "code",
    "id": "mfh2TJ9RJQG5"
   },
   "outputs": [],
   "source": [
    "import tensorflow as tf\n",
    "from tensorflow.keras.optimizers import RMSprop\n",
    "from tensorflow.keras.preprocessing.image import ImageDataGenerator"
   ]
  },
  {
   "cell_type": "markdown",
   "metadata": {
    "colab_type": "text",
    "id": "u7Ol9hMXMavp"
   },
   "source": [
    "**Importing Datasets & Extracting**"
   ]
  },
  {
   "cell_type": "code",
   "execution_count": 116,
   "metadata": {
    "colab": {
     "base_uri": "https://localhost:8080/",
     "height": 202
    },
    "colab_type": "code",
    "id": "t-sThWDgJQLT",
    "outputId": "5e12bf1d-58bf-4273-d03b-3102020df2d3"
   },
   "outputs": [
    {
     "name": "stdout",
     "output_type": "stream",
     "text": [
      "--2020-05-29 12:40:08--  https://dicodingacademy.blob.core.windows.net/picodiploma/ml_pemula_academy/rockpaperscissors.zip\n",
      "Resolving dicodingacademy.blob.core.windows.net (dicodingacademy.blob.core.windows.net)... 52.239.197.36\n",
      "Connecting to dicodingacademy.blob.core.windows.net (dicodingacademy.blob.core.windows.net)|52.239.197.36|:443... connected.\n",
      "HTTP request sent, awaiting response... 200 OK\n",
      "Length: 322873683 (308M) [application/zip]\n",
      "Saving to: ‘/tmp/rockpaperscissors.zip’\n",
      "\n",
      "/tmp/rockpapersciss 100%[===================>] 307.92M  5.54MB/s    in 62s     \n",
      "\n",
      "2020-05-29 12:41:11 (4.95 MB/s) - ‘/tmp/rockpaperscissors.zip’ saved [322873683/322873683]\n",
      "\n"
     ]
    }
   ],
   "source": [
    "\"\"\"\n",
    "You can get the datasets here: https://github.com/DrGFreeman/rps-cv\n",
    "\"\"\"\n",
    "!wget --no-check-certificate \\\n",
    "  https://dicodingacademy.blob.core.windows.net/picodiploma/ml_pemula_academy/rockpaperscissors.zip \\\n",
    "  -O /tmp/rockpaperscissors.zip"
   ]
  },
  {
   "cell_type": "code",
   "execution_count": 0,
   "metadata": {
    "colab": {},
    "colab_type": "code",
    "id": "gurtToKqJQOB"
   },
   "outputs": [],
   "source": [
    "# Unzipping filees\n",
    "import zipfile,os\n",
    "import shutil\n",
    "\n",
    "local_zip = '/tmp/rockpaperscissors.zip'\n",
    "zip_ref = zipfile.ZipFile(local_zip, 'r')\n",
    "zip_ref.extractall('/tmp')\n",
    "zip_ref.close()\n",
    "\n",
    "# Deleting redundant data\n",
    "shutil.rmtree('/tmp/rockpaperscissors/rps-cv-images')\n",
    "\n",
    "# Create a validation directory\n",
    "os.mkdir('/tmp/val')\n",
    "\n",
    "base_dir = '/tmp/'\n",
    "train_dir = os.path.join(base_dir, 'rockpaperscissors')\n",
    "validation_dir = os.path.join(base_dir, 'val')"
   ]
  },
  {
   "cell_type": "code",
   "execution_count": 119,
   "metadata": {
    "colab": {
     "base_uri": "https://localhost:8080/",
     "height": 101
    },
    "colab_type": "code",
    "id": "rCnCqJ_0LaLU",
    "outputId": "f02c5ac5-9ace-4607-ccbc-eff6b323f3aa"
   },
   "outputs": [
    {
     "data": {
      "text/plain": [
       "['c1rdxANL8E7yG3ZI.png',\n",
       " 'gutk3kRhu9AfjYWQ.png',\n",
       " 'd5fTHW3xnYsDhax5.png',\n",
       " 'aa9v011U1AB9hK5v.png',\n",
       " 'FVTXzNJQnU231QXO.png']"
      ]
     },
     "execution_count": 119,
     "metadata": {
      "tags": []
     },
     "output_type": "execute_result"
    }
   ],
   "source": [
    "# Sample from the data\n",
    "os.listdir('/tmp/rockpaperscissors/rock')[:5]"
   ]
  },
  {
   "cell_type": "code",
   "execution_count": 0,
   "metadata": {
    "colab": {},
    "colab_type": "code",
    "id": "7zpKx9htM47K"
   },
   "outputs": [],
   "source": [
    "# Making a training directory for 'rock', 'paper', and 'scissors'\n",
    "train_rock_dir = os.path.join(train_dir, 'rock')\n",
    "train_paper_dir = os.path.join(train_dir, 'paper')\n",
    "train_scissors_dir = os.path.join(train_dir, 'scissors')\n",
    "\n",
    "# Making a validation directory for 'rock', 'paper', and 'scissors'\n",
    "validation_rock_dir = os.path.join(validation_dir, 'rock')\n",
    "validation_paper_dir = os.path.join(validation_dir, 'paper')\n",
    "validation_scissors_dir = os.path.join(validation_dir, 'scissors')"
   ]
  },
  {
   "cell_type": "markdown",
   "metadata": {
    "colab_type": "text",
    "id": "YH_WSfEVOYDq"
   },
   "source": [
    "**Picture Processing & Augmentation with ImageDataGenerator**"
   ]
  },
  {
   "cell_type": "code",
   "execution_count": 0,
   "metadata": {
    "colab": {},
    "colab_type": "code",
    "id": "FK_YeVFQOHW7"
   },
   "outputs": [],
   "source": [
    "datagen = ImageDataGenerator(\n",
    "                    rescale=1./255,\n",
    "                    rotation_range=20,\n",
    "                    horizontal_flip=True,\n",
    "                    shear_range = 0.2,\n",
    "                    fill_mode = 'nearest',\n",
    "                    validation_split=0.2, # Memisahkan 20% data menjadi data validasi\n",
    "                    )"
   ]
  },
  {
   "cell_type": "code",
   "execution_count": 170,
   "metadata": {
    "colab": {
     "base_uri": "https://localhost:8080/",
     "height": 50
    },
    "colab_type": "code",
    "id": "onUqtaqxOpNB",
    "outputId": "488ada98-4039-4871-b60d-8edbe068ec32"
   },
   "outputs": [
    {
     "name": "stdout",
     "output_type": "stream",
     "text": [
      "Found 1751 images belonging to 3 classes.\n",
      "Found 437 images belonging to 3 classes.\n"
     ]
    }
   ],
   "source": [
    "train_generator = datagen.flow_from_directory(\n",
    "        train_dir,\n",
    "        target_size=(150, 150),\n",
    "        batch_size=10,\n",
    "        class_mode='categorical', # Kelas objek >2\n",
    "        subset='training'\n",
    "        )\n",
    "\n",
    "validation_generator = datagen.flow_from_directory(\n",
    "        train_dir,\n",
    "        target_size=(150, 150),\n",
    "        batch_size=10,\n",
    "        class_mode='categorical', # Kelas objek >2\n",
    "        subset='validation'\n",
    "        )"
   ]
  },
  {
   "cell_type": "markdown",
   "metadata": {
    "colab_type": "text",
    "id": "t8m8JbAuSzSq"
   },
   "source": [
    "**CNN Modeling and Training**"
   ]
  },
  {
   "cell_type": "code",
   "execution_count": 0,
   "metadata": {
    "colab": {},
    "colab_type": "code",
    "id": "Ju3rNVndS4Co"
   },
   "outputs": [],
   "source": [
    "model = tf.keras.models.Sequential([\n",
    "      # 1st layer\n",
    "      tf.keras.layers.Conv2D(32, (3,3), activation='relu', input_shape=(150,150,3)),\n",
    "      tf.keras.layers.MaxPooling2D(2, 2),\n",
    "      # 2nd layer\n",
    "      tf.keras.layers.Conv2D(64, (3,3), activation='relu'),\n",
    "      tf.keras.layers.MaxPooling2D(2,2),\n",
    "      # 3rd layer\n",
    "      tf.keras.layers.Conv2D(128, (3,3), activation='relu'),\n",
    "      tf.keras.layers.MaxPooling2D(2,2),\n",
    "      # 4th layer\n",
    "      tf.keras.layers.Conv2D(128, (3,3), activation='relu'),\n",
    "      tf.keras.layers.MaxPooling2D(2,2),\n",
    "      # Flattening process\n",
    "      tf.keras.layers.Flatten(),\n",
    "      # Dropout regularization to prevent overfitting\n",
    "      tf.keras.layers.Dropout(0.5),\n",
    "      # 5th layer (Hidden layer)\n",
    "      tf.keras.layers.Dense(512, activation='relu'),\n",
    "      tf.keras.layers.Dense(3, activation='softmax')                   \n",
    "])"
   ]
  },
  {
   "cell_type": "code",
   "execution_count": 0,
   "metadata": {
    "colab": {},
    "colab_type": "code",
    "id": "0c33S6FvS4Qg"
   },
   "outputs": [],
   "source": [
    "# Compiling model\n",
    "model.compile(\n",
    "    loss = 'categorical_crossentropy', \n",
    "    optimizer='rmsprop', \n",
    "    metrics=['accuracy'])"
   ]
  },
  {
   "cell_type": "code",
   "execution_count": 173,
   "metadata": {
    "colab": {
     "base_uri": "https://localhost:8080/",
     "height": 1000
    },
    "colab_type": "code",
    "id": "Rc9oEP8HT-WC",
    "outputId": "fd1f34fc-355b-42d3-f878-18bd9872b812"
   },
   "outputs": [
    {
     "name": "stdout",
     "output_type": "stream",
     "text": [
      "Epoch 1/30\n",
      "25/25 [==============================] - 11s 451ms/step - loss: 1.3758 - accuracy: 0.4280 - val_loss: 1.4591 - val_accuracy: 0.4000\n",
      "Epoch 2/30\n",
      "25/25 [==============================] - 11s 451ms/step - loss: 1.0763 - accuracy: 0.4920 - val_loss: 0.9277 - val_accuracy: 0.8333\n",
      "Epoch 3/30\n",
      "25/25 [==============================] - 11s 438ms/step - loss: 0.8954 - accuracy: 0.6390 - val_loss: 0.8865 - val_accuracy: 0.6000\n",
      "Epoch 4/30\n",
      "25/25 [==============================] - 11s 440ms/step - loss: 0.7948 - accuracy: 0.6760 - val_loss: 0.4607 - val_accuracy: 0.8333\n",
      "Epoch 5/30\n",
      "25/25 [==============================] - 11s 441ms/step - loss: 0.5794 - accuracy: 0.7960 - val_loss: 0.4679 - val_accuracy: 0.8667\n",
      "Epoch 6/30\n",
      "25/25 [==============================] - 11s 445ms/step - loss: 0.4275 - accuracy: 0.8360 - val_loss: 0.2034 - val_accuracy: 0.9333\n",
      "Epoch 7/30\n",
      "25/25 [==============================] - 11s 443ms/step - loss: 0.4398 - accuracy: 0.8640 - val_loss: 0.1928 - val_accuracy: 0.9333\n",
      "Epoch 8/30\n",
      "25/25 [==============================] - 11s 445ms/step - loss: 0.3587 - accuracy: 0.8880 - val_loss: 0.5212 - val_accuracy: 0.8333\n",
      "Epoch 9/30\n",
      "25/25 [==============================] - 11s 441ms/step - loss: 0.4332 - accuracy: 0.8760 - val_loss: 0.2490 - val_accuracy: 0.9333\n",
      "Epoch 10/30\n",
      "25/25 [==============================] - 11s 449ms/step - loss: 0.3169 - accuracy: 0.8838 - val_loss: 0.1921 - val_accuracy: 0.9667\n",
      "Epoch 11/30\n",
      "25/25 [==============================] - 11s 447ms/step - loss: 0.3463 - accuracy: 0.8720 - val_loss: 0.2899 - val_accuracy: 0.9000\n",
      "Epoch 12/30\n",
      "25/25 [==============================] - 11s 441ms/step - loss: 0.3200 - accuracy: 0.9000 - val_loss: 0.3326 - val_accuracy: 0.9000\n",
      "Epoch 13/30\n",
      "25/25 [==============================] - 11s 439ms/step - loss: 0.3685 - accuracy: 0.8640 - val_loss: 0.3882 - val_accuracy: 0.8667\n",
      "Epoch 14/30\n",
      "25/25 [==============================] - 11s 435ms/step - loss: 0.2465 - accuracy: 0.9240 - val_loss: 0.0531 - val_accuracy: 0.9667\n",
      "Epoch 15/30\n",
      "25/25 [==============================] - 11s 439ms/step - loss: 0.3062 - accuracy: 0.9160 - val_loss: 0.1573 - val_accuracy: 0.9333\n",
      "Epoch 16/30\n",
      "25/25 [==============================] - 11s 441ms/step - loss: 0.2192 - accuracy: 0.9280 - val_loss: 0.3684 - val_accuracy: 0.8000\n",
      "Epoch 17/30\n",
      "25/25 [==============================] - 11s 423ms/step - loss: 0.2494 - accuracy: 0.8880 - val_loss: 0.5770 - val_accuracy: 0.9000\n",
      "Epoch 18/30\n",
      "25/25 [==============================] - 11s 438ms/step - loss: 0.1995 - accuracy: 0.9640 - val_loss: 0.1525 - val_accuracy: 0.9333\n",
      "Epoch 19/30\n",
      "25/25 [==============================] - 11s 439ms/step - loss: 0.2843 - accuracy: 0.9000 - val_loss: 0.2771 - val_accuracy: 0.9333\n",
      "Epoch 20/30\n",
      "25/25 [==============================] - 11s 425ms/step - loss: 0.2095 - accuracy: 0.9212 - val_loss: 0.6355 - val_accuracy: 0.8000\n",
      "Epoch 21/30\n",
      "25/25 [==============================] - 11s 436ms/step - loss: 0.2550 - accuracy: 0.9320 - val_loss: 0.1589 - val_accuracy: 0.9333\n",
      "Epoch 22/30\n",
      "25/25 [==============================] - 11s 440ms/step - loss: 0.1810 - accuracy: 0.9600 - val_loss: 0.2906 - val_accuracy: 0.9000\n",
      "Epoch 23/30\n",
      "25/25 [==============================] - 11s 445ms/step - loss: 0.2187 - accuracy: 0.9400 - val_loss: 0.2634 - val_accuracy: 0.9333\n",
      "Epoch 24/30\n",
      "25/25 [==============================] - 11s 439ms/step - loss: 0.1752 - accuracy: 0.9320 - val_loss: 0.0846 - val_accuracy: 0.9667\n",
      "Epoch 25/30\n",
      "25/25 [==============================] - 11s 441ms/step - loss: 0.1934 - accuracy: 0.9400 - val_loss: 0.0272 - val_accuracy: 1.0000\n",
      "Epoch 26/30\n",
      "25/25 [==============================] - 11s 437ms/step - loss: 0.1825 - accuracy: 0.9360 - val_loss: 0.0782 - val_accuracy: 0.9667\n",
      "Epoch 27/30\n",
      "25/25 [==============================] - 11s 425ms/step - loss: 0.2190 - accuracy: 0.9419 - val_loss: 0.3714 - val_accuracy: 0.8333\n",
      "Epoch 28/30\n",
      "25/25 [==============================] - 11s 440ms/step - loss: 0.1888 - accuracy: 0.9360 - val_loss: 0.3284 - val_accuracy: 0.8667\n",
      "Epoch 29/30\n",
      "25/25 [==============================] - 11s 444ms/step - loss: 0.2157 - accuracy: 0.9600 - val_loss: 0.1572 - val_accuracy: 0.9333\n",
      "Epoch 30/30\n",
      "25/25 [==============================] - 11s 432ms/step - loss: 0.2658 - accuracy: 0.9212 - val_loss: 0.0448 - val_accuracy: 1.0000\n"
     ]
    }
   ],
   "source": [
    "# CNN Training\n",
    "result = model.fit(\n",
    "            train_generator,\n",
    "            steps_per_epoch=25,\n",
    "            epochs=30,\n",
    "            validation_data=validation_generator,\n",
    "            validation_steps=3,\n",
    "            verbose=1)"
   ]
  },
  {
   "cell_type": "markdown",
   "metadata": {
    "colab_type": "text",
    "id": "h0db-MyTib7s"
   },
   "source": [
    "**Model evaluation based on Accuracy & Val_Accuracy**"
   ]
  },
  {
   "cell_type": "code",
   "execution_count": 0,
   "metadata": {
    "colab": {},
    "colab_type": "code",
    "id": "11T6bmC_ibKG"
   },
   "outputs": [],
   "source": [
    "import matplotlib.pyplot as plt\n",
    "\n",
    "# Getting the accuracy and val_accuracy from result's history\n",
    "accuracy = result.history['accuracy']\n",
    "val_accuracy = result.history['val_accuracy']\n",
    "\n",
    "epoch = range(len(result.history['accuracy']))"
   ]
  },
  {
   "cell_type": "code",
   "execution_count": 181,
   "metadata": {
    "colab": {
     "base_uri": "https://localhost:8080/",
     "height": 512
    },
    "colab_type": "code",
    "id": "cStDCjqXibPN",
    "outputId": "d22d32b0-872d-460e-9cf9-fc197905f19f"
   },
   "outputs": [
    {
     "data": {
      "image/png": "[encoded data removed]",
      "text/plain": [
       "<Figure size 864x576 with 1 Axes>"
      ]
     },
     "metadata": {
      "tags": []
     },
     "output_type": "display_data"
    }
   ],
   "source": [
    "# Data plotting\n",
    "plt.style.use('seaborn')\n",
    "\n",
    "fig, ax = plt.subplots(figsize=(12,8))\n",
    "ax.plot(epoch, accuracy, color='red', label='Training accuracy', marker='o')\n",
    "ax.plot(epoch, val_accuracy, color='blue', label='Validation accuracy', marker='o')\n",
    "\n",
    "plt.xlabel('Epochs')\n",
    "plt.ylabel('Score')\n",
    "\n",
    "plt.title('Training and Validation Accuracy per Epoch')\n",
    "plt.legend()\n",
    "plt.show()"
   ]
  },
  {
   "cell_type": "markdown",
   "metadata": {
    "colab_type": "text",
    "id": "sVZKZofVkSuF"
   },
   "source": [
    "#### Maximum training accuracy:  0.964\n",
    "#### Maximum validation accuracy: 1.0"
   ]
  }
 ],
 "metadata": {
  "colab": {
   "collapsed_sections": [],
   "name": "FinalSubmissionDicoding.ipynb",
   "provenance": []
  },
  "kernelspec": {
   "display_name": "Python 3",
   "language": "python",
   "name": "python3"
  },
  "language_info": {
   "codemirror_mode": {
    "name": "ipython",
    "version": 3
   },
   "file_extension": ".py",
   "mimetype": "text/x-python",
   "name": "python",
   "nbconvert_exporter": "python",
   "pygments_lexer": "ipython3",
   "version": "3.7.4"
  }
 },
 "nbformat": 4,
 "nbformat_minor": 1
}
