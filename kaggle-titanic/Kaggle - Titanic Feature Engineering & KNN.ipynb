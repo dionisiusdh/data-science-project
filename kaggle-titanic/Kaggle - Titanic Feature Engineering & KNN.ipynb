{
 "cells": [
  {
   "cell_type": "markdown",
   "execution_count": null,
   "metadata": {
    "papermill": {
     "duration": 0.013217,
     "end_time": "2020-08-29T10:20:36.263908",
     "exception": false,
     "start_time": "2020-08-29T10:20:36.250691",
     "status": "completed"
    },
    "tags": []
   },
   "source": [
    "# 🚢 Titanic : Feature Engineering & KNN [6%]\n",
    "\n",
    "- Feature Engineering\n",
    "- Handling Missing Value\n",
    "- Scaling\n",
    "- Modeling\n",
    "- Hyperparameter Tuning\n",
    "- Prediction"
   ]
  },
  {
   "cell_type": "markdown",
   "execution_count": null,
   "metadata": {
    "papermill": {
     "duration": 0.00971,
     "end_time": "2020-08-29T10:20:36.283910",
     "exception": false,
     "start_time": "2020-08-29T10:20:36.274200",
     "status": "completed"
    },
    "tags": []
   },
   "source": [
    "## Importing Libraries"
   ]
  },
  {
   "cell_type": "code",
   "execution_count": 1,
   "metadata": {
    "execution": {
     "iopub.execute_input": "2020-08-29T10:20:36.322099Z",
     "iopub.status.busy": "2020-08-29T10:20:36.320949Z",
     "iopub.status.idle": "2020-08-29T10:20:38.539596Z",
     "shell.execute_reply": "2020-08-29T10:20:38.538380Z"
    },
    "papermill": {
     "duration": 2.245895,
     "end_time": "2020-08-29T10:20:38.539756",
     "exception": false,
     "start_time": "2020-08-29T10:20:36.293861",
     "status": "completed"
    },
    "tags": []
   },
   "outputs": [],
   "source": [
    "import pandas as pd\n",
    "import numpy as np\n",
    "import matplotlib.pyplot as plt\n",
    "%matplotlib inline\n",
    "\n",
    "pd.set_option('display.max_rows', 500)\n",
    "pd.set_option('display.max_columns', 100)\n",
    "\n",
    "import warnings\n",
    "warnings.filterwarnings('ignore')\n",
    "\n",
    "import seaborn as sns\n",
    "\n",
    "from sklearn.neighbors import KNeighborsClassifier\n",
    "from sklearn.model_selection import cross_val_score,GridSearchCV,RepeatedStratifiedKFold\n",
    "from sklearn.feature_selection import SelectKBest, f_classif"
   ]
  },
  {
   "cell_type": "code",
   "execution_count": 2,
   "metadata": {
    "execution": {
     "iopub.execute_input": "2020-08-29T10:20:38.573914Z",
     "iopub.status.busy": "2020-08-29T10:20:38.572948Z",
     "iopub.status.idle": "2020-08-29T10:20:38.628333Z",
     "shell.execute_reply": "2020-08-29T10:20:38.627420Z"
    },
    "papermill": {
     "duration": 0.077064,
     "end_time": "2020-08-29T10:20:38.628538",
     "exception": false,
     "start_time": "2020-08-29T10:20:38.551474",
     "status": "completed"
    },
    "tags": []
   },
   "outputs": [],
   "source": [
    "train = pd.read_csv('../input/titanic/train.csv')\n",
    "test = pd.read_csv('../input/titanic/test.csv')\n",
    "df = train.append(test)"
   ]
  },
  {
   "cell_type": "code",
   "execution_count": 3,
   "metadata": {
    "execution": {
     "iopub.execute_input": "2020-08-29T10:20:38.678069Z",
     "iopub.status.busy": "2020-08-29T10:20:38.677213Z",
     "iopub.status.idle": "2020-08-29T10:20:38.702099Z",
     "shell.execute_reply": "2020-08-29T10:20:38.701254Z"
    },
    "papermill": {
     "duration": 0.059829,
     "end_time": "2020-08-29T10:20:38.702228",
     "exception": false,
     "start_time": "2020-08-29T10:20:38.642399",
     "status": "completed"
    },
    "tags": []
   },
   "outputs": [
    {
     "data": {
      "text/html": [
       "<div>\n",
       "<style scoped>\n",
       "    .dataframe tbody tr th:only-of-type {\n",
       "        vertical-align: middle;\n",
       "    }\n",
       "\n",
       "    .dataframe tbody tr th {\n",
       "        vertical-align: top;\n",
       "    }\n",
       "\n",
       "    .dataframe thead th {\n",
       "        text-align: right;\n",
       "    }\n",
       "</style>\n",
       "<table border=\"1\" class=\"dataframe\">\n",
       "  <thead>\n",
       "    <tr style=\"text-align: right;\">\n",
       "      <th></th>\n",
       "      <th>PassengerId</th>\n",
       "      <th>Survived</th>\n",
       "      <th>Pclass</th>\n",
       "      <th>Name</th>\n",
       "      <th>Sex</th>\n",
       "      <th>Age</th>\n",
       "      <th>SibSp</th>\n",
       "      <th>Parch</th>\n",
       "      <th>Ticket</th>\n",
       "      <th>Fare</th>\n",
       "      <th>Cabin</th>\n",
       "      <th>Embarked</th>\n",
       "    </tr>\n",
       "  </thead>\n",
       "  <tbody>\n",
       "    <tr>\n",
       "      <th>0</th>\n",
       "      <td>1</td>\n",
       "      <td>0.0</td>\n",
       "      <td>3</td>\n",
       "      <td>Braund, Mr. Owen Harris</td>\n",
       "      <td>male</td>\n",
       "      <td>22.0</td>\n",
       "      <td>1</td>\n",
       "      <td>0</td>\n",
       "      <td>A/5 21171</td>\n",
       "      <td>7.2500</td>\n",
       "      <td>NaN</td>\n",
       "      <td>S</td>\n",
       "    </tr>\n",
       "    <tr>\n",
       "      <th>1</th>\n",
       "      <td>2</td>\n",
       "      <td>1.0</td>\n",
       "      <td>1</td>\n",
       "      <td>Cumings, Mrs. John Bradley (Florence Briggs Th...</td>\n",
       "      <td>female</td>\n",
       "      <td>38.0</td>\n",
       "      <td>1</td>\n",
       "      <td>0</td>\n",
       "      <td>PC 17599</td>\n",
       "      <td>71.2833</td>\n",
       "      <td>C85</td>\n",
       "      <td>C</td>\n",
       "    </tr>\n",
       "    <tr>\n",
       "      <th>2</th>\n",
       "      <td>3</td>\n",
       "      <td>1.0</td>\n",
       "      <td>3</td>\n",
       "      <td>Heikkinen, Miss. Laina</td>\n",
       "      <td>female</td>\n",
       "      <td>26.0</td>\n",
       "      <td>0</td>\n",
       "      <td>0</td>\n",
       "      <td>STON/O2. 3101282</td>\n",
       "      <td>7.9250</td>\n",
       "      <td>NaN</td>\n",
       "      <td>S</td>\n",
       "    </tr>\n",
       "    <tr>\n",
       "      <th>3</th>\n",
       "      <td>4</td>\n",
       "      <td>1.0</td>\n",
       "      <td>1</td>\n",
       "      <td>Futrelle, Mrs. Jacques Heath (Lily May Peel)</td>\n",
       "      <td>female</td>\n",
       "      <td>35.0</td>\n",
       "      <td>1</td>\n",
       "      <td>0</td>\n",
       "      <td>113803</td>\n",
       "      <td>53.1000</td>\n",
       "      <td>C123</td>\n",
       "      <td>S</td>\n",
       "    </tr>\n",
       "    <tr>\n",
       "      <th>4</th>\n",
       "      <td>5</td>\n",
       "      <td>0.0</td>\n",
       "      <td>3</td>\n",
       "      <td>Allen, Mr. William Henry</td>\n",
       "      <td>male</td>\n",
       "      <td>35.0</td>\n",
       "      <td>0</td>\n",
       "      <td>0</td>\n",
       "      <td>373450</td>\n",
       "      <td>8.0500</td>\n",
       "      <td>NaN</td>\n",
       "      <td>S</td>\n",
       "    </tr>\n",
       "  </tbody>\n",
       "</table>\n",
       "</div>"
      ],
      "text/plain": [
       "   PassengerId  Survived  Pclass  \\\n",
       "0            1       0.0       3   \n",
       "1            2       1.0       1   \n",
       "2            3       1.0       3   \n",
       "3            4       1.0       1   \n",
       "4            5       0.0       3   \n",
       "\n",
       "                                                Name     Sex   Age  SibSp  \\\n",
       "0                            Braund, Mr. Owen Harris    male  22.0      1   \n",
       "1  Cumings, Mrs. John Bradley (Florence Briggs Th...  female  38.0      1   \n",
       "2                             Heikkinen, Miss. Laina  female  26.0      0   \n",
       "3       Futrelle, Mrs. Jacques Heath (Lily May Peel)  female  35.0      1   \n",
       "4                           Allen, Mr. William Henry    male  35.0      0   \n",
       "\n",
       "   Parch            Ticket     Fare Cabin Embarked  \n",
       "0      0         A/5 21171   7.2500   NaN        S  \n",
       "1      0          PC 17599  71.2833   C85        C  \n",
       "2      0  STON/O2. 3101282   7.9250   NaN        S  \n",
       "3      0            113803  53.1000  C123        S  \n",
       "4      0            373450   8.0500   NaN        S  "
      ]
     },
     "execution_count": 3,
     "metadata": {},
     "output_type": "execute_result"
    }
   ],
   "source": [
    "df.head()"
   ]
  },
  {
   "cell_type": "code",
   "execution_count": 4,
   "metadata": {
    "execution": {
     "iopub.execute_input": "2020-08-29T10:20:38.729258Z",
     "iopub.status.busy": "2020-08-29T10:20:38.728282Z",
     "iopub.status.idle": "2020-08-29T10:20:38.732811Z",
     "shell.execute_reply": "2020-08-29T10:20:38.733599Z"
    },
    "papermill": {
     "duration": 0.02089,
     "end_time": "2020-08-29T10:20:38.733782",
     "exception": false,
     "start_time": "2020-08-29T10:20:38.712892",
     "status": "completed"
    },
    "tags": []
   },
   "outputs": [
    {
     "name": "stdout",
     "output_type": "stream",
     "text": [
      "(891, 12)\n",
      "(418, 11)\n"
     ]
    }
   ],
   "source": [
    "print(train.shape)\n",
    "print(test.shape)"
   ]
  },
  {
   "cell_type": "code",
   "execution_count": 5,
   "metadata": {
    "execution": {
     "iopub.execute_input": "2020-08-29T10:20:38.766690Z",
     "iopub.status.busy": "2020-08-29T10:20:38.765662Z",
     "iopub.status.idle": "2020-08-29T10:20:38.770918Z",
     "shell.execute_reply": "2020-08-29T10:20:38.770094Z"
    },
    "papermill": {
     "duration": 0.026753,
     "end_time": "2020-08-29T10:20:38.771059",
     "exception": false,
     "start_time": "2020-08-29T10:20:38.744306",
     "status": "completed"
    },
    "tags": []
   },
   "outputs": [
    {
     "name": "stdout",
     "output_type": "stream",
     "text": [
      "PassengerId      0\n",
      "Survived         0\n",
      "Pclass           0\n",
      "Name             0\n",
      "Sex              0\n",
      "Age            177\n",
      "SibSp            0\n",
      "Parch            0\n",
      "Ticket           0\n",
      "Fare             0\n",
      "Cabin          687\n",
      "Embarked         2\n",
      "dtype: int64\n",
      "\n",
      "PassengerId      0\n",
      "Pclass           0\n",
      "Name             0\n",
      "Sex              0\n",
      "Age             86\n",
      "SibSp            0\n",
      "Parch            0\n",
      "Ticket           0\n",
      "Fare             1\n",
      "Cabin          327\n",
      "Embarked         0\n",
      "dtype: int64\n"
     ]
    }
   ],
   "source": [
    "print(train.isnull().sum())\n",
    "print()\n",
    "print(test.isnull().sum())"
   ]
  },
  {
   "cell_type": "markdown",
   "execution_count": null,
   "metadata": {
    "papermill": {
     "duration": 0.010928,
     "end_time": "2020-08-29T10:20:38.792763",
     "exception": false,
     "start_time": "2020-08-29T10:20:38.781835",
     "status": "completed"
    },
    "tags": []
   },
   "source": [
    "There are some <strong>missing values</strong> in the train and test datasets"
   ]
  },
  {
   "cell_type": "markdown",
   "execution_count": null,
   "metadata": {
    "papermill": {
     "duration": 0.010495,
     "end_time": "2020-08-29T10:20:38.814335",
     "exception": false,
     "start_time": "2020-08-29T10:20:38.803840",
     "status": "completed"
    },
    "tags": []
   },
   "source": [
    "## Feature Engineering"
   ]
  },
  {
   "cell_type": "markdown",
   "execution_count": null,
   "metadata": {
    "papermill": {
     "duration": 0.010623,
     "end_time": "2020-08-29T10:20:38.835648",
     "exception": false,
     "start_time": "2020-08-29T10:20:38.825025",
     "status": "completed"
    },
    "tags": []
   },
   "source": [
    "<strong>Sex</strong>"
   ]
  },
  {
   "cell_type": "code",
   "execution_count": 6,
   "metadata": {
    "execution": {
     "iopub.execute_input": "2020-08-29T10:20:38.867201Z",
     "iopub.status.busy": "2020-08-29T10:20:38.866264Z",
     "iopub.status.idle": "2020-08-29T10:20:38.874546Z",
     "shell.execute_reply": "2020-08-29T10:20:38.873710Z"
    },
    "papermill": {
     "duration": 0.028193,
     "end_time": "2020-08-29T10:20:38.874692",
     "exception": false,
     "start_time": "2020-08-29T10:20:38.846499",
     "status": "completed"
    },
    "tags": []
   },
   "outputs": [],
   "source": [
    "#0=Male; 1=Female\n",
    "df['Sex'] = pd.get_dummies(df['Sex'])"
   ]
  },
  {
   "cell_type": "markdown",
   "execution_count": null,
   "metadata": {
    "papermill": {
     "duration": 0.010136,
     "end_time": "2020-08-29T10:20:38.895393",
     "exception": false,
     "start_time": "2020-08-29T10:20:38.885257",
     "status": "completed"
    },
    "tags": []
   },
   "source": [
    "**Family Size**"
   ]
  },
  {
   "cell_type": "code",
   "execution_count": 7,
   "metadata": {
    "execution": {
     "iopub.execute_input": "2020-08-29T10:20:38.923496Z",
     "iopub.status.busy": "2020-08-29T10:20:38.922495Z",
     "iopub.status.idle": "2020-08-29T10:20:38.956109Z",
     "shell.execute_reply": "2020-08-29T10:20:38.955242Z"
    },
    "papermill": {
     "duration": 0.050056,
     "end_time": "2020-08-29T10:20:38.956258",
     "exception": false,
     "start_time": "2020-08-29T10:20:38.906202",
     "status": "completed"
    },
    "tags": []
   },
   "outputs": [],
   "source": [
    "df['Family_Size'] = df['Parch'] + df['SibSp']"
   ]
  },
  {
   "cell_type": "markdown",
   "execution_count": null,
   "metadata": {
    "papermill": {
     "duration": 0.010226,
     "end_time": "2020-08-29T10:20:38.977122",
     "exception": false,
     "start_time": "2020-08-29T10:20:38.966896",
     "status": "completed"
    },
    "tags": []
   },
   "source": [
    "**Title**"
   ]
  },
  {
   "cell_type": "code",
   "execution_count": 8,
   "metadata": {
    "execution": {
     "iopub.execute_input": "2020-08-29T10:20:39.014180Z",
     "iopub.status.busy": "2020-08-29T10:20:39.013239Z",
     "iopub.status.idle": "2020-08-29T10:20:39.016566Z",
     "shell.execute_reply": "2020-08-29T10:20:39.017180Z"
    },
    "papermill": {
     "duration": 0.029623,
     "end_time": "2020-08-29T10:20:39.017348",
     "exception": false,
     "start_time": "2020-08-29T10:20:38.987725",
     "status": "completed"
    },
    "tags": []
   },
   "outputs": [],
   "source": [
    "#Finding Passenger's Title\n",
    "df['Title'] = df['Name'].str.extract(' ([A-Za-z]+)\\.', expand=False)"
   ]
  },
  {
   "cell_type": "code",
   "execution_count": 9,
   "metadata": {
    "execution": {
     "iopub.execute_input": "2020-08-29T10:20:39.059591Z",
     "iopub.status.busy": "2020-08-29T10:20:39.058509Z",
     "iopub.status.idle": "2020-08-29T10:20:39.085285Z",
     "shell.execute_reply": "2020-08-29T10:20:39.084308Z"
    },
    "papermill": {
     "duration": 0.056515,
     "end_time": "2020-08-29T10:20:39.085499",
     "exception": false,
     "start_time": "2020-08-29T10:20:39.028984",
     "status": "completed"
    },
    "tags": []
   },
   "outputs": [],
   "source": [
    "df['Title'] = df['Title'].replace(['Mlle', 'Ms'], 'Miss')\n",
    "df['Title'] = df['Title'].replace(['Mme',\"Countess\",\"Lady\",\"Dona\"], 'Mrs')    \n",
    "df['Title'] = df['Title'].replace(['Capt',\"Col\",\"Don\",\"Jonkheer\",\"Major\", \"Rev\",\"Sir\", \"Master\"],\"Other\")\n",
    "\n",
    "df.loc[((df.Title == \"Dr\") & (df.Sex==1)), 'Title'] = \"Mrs\"\n",
    "df.loc[((df.Title == \"Dr\") & (df.Sex==0)), 'Title'] = \"Mr\"\n",
    "\n",
    "titles = list(df.Title.unique())\n",
    "for title in titles:\n",
    "    age = df.groupby('Title')['Age'].median().loc[title]\n",
    "    df.loc[(df.Age.isnull()) & (df.Title == title),'Age'] = age"
   ]
  },
  {
   "cell_type": "code",
   "execution_count": 10,
   "metadata": {
    "execution": {
     "iopub.execute_input": "2020-08-29T10:20:39.126185Z",
     "iopub.status.busy": "2020-08-29T10:20:39.125077Z",
     "iopub.status.idle": "2020-08-29T10:20:39.128419Z",
     "shell.execute_reply": "2020-08-29T10:20:39.129254Z"
    },
    "papermill": {
     "duration": 0.029227,
     "end_time": "2020-08-29T10:20:39.129503",
     "exception": false,
     "start_time": "2020-08-29T10:20:39.100276",
     "status": "completed"
    },
    "tags": []
   },
   "outputs": [],
   "source": [
    "title_mapping = {\"Mr\": 0, \"Miss\": 1, \n",
    "                 \"Mrs\": 2, \"Other\":3}\n",
    "\n",
    "df.replace({'Title': title_mapping}, inplace=True)"
   ]
  },
  {
   "cell_type": "markdown",
   "execution_count": null,
   "metadata": {
    "papermill": {
     "duration": 0.014107,
     "end_time": "2020-08-29T10:20:39.158180",
     "exception": false,
     "start_time": "2020-08-29T10:20:39.144073",
     "status": "completed"
    },
    "tags": []
   },
   "source": [
    "**Fare & Age Binning**"
   ]
  },
  {
   "cell_type": "code",
   "execution_count": 11,
   "metadata": {
    "execution": {
     "iopub.execute_input": "2020-08-29T10:20:39.192351Z",
     "iopub.status.busy": "2020-08-29T10:20:39.191557Z",
     "iopub.status.idle": "2020-08-29T10:20:39.197904Z",
     "shell.execute_reply": "2020-08-29T10:20:39.197183Z"
    },
    "papermill": {
     "duration": 0.027013,
     "end_time": "2020-08-29T10:20:39.198041",
     "exception": false,
     "start_time": "2020-08-29T10:20:39.171028",
     "status": "completed"
    },
    "tags": []
   },
   "outputs": [],
   "source": [
    "df[\"Age\"].fillna(df.Age.median(), inplace=True)\n",
    "df['Fare'].fillna(value = df[df.Pclass==3]['Fare'].median(), inplace = True)"
   ]
  },
  {
   "cell_type": "code",
   "execution_count": 12,
   "metadata": {
    "execution": {
     "iopub.execute_input": "2020-08-29T10:20:39.230490Z",
     "iopub.status.busy": "2020-08-29T10:20:39.227093Z",
     "iopub.status.idle": "2020-08-29T10:20:39.237339Z",
     "shell.execute_reply": "2020-08-29T10:20:39.236642Z"
    },
    "papermill": {
     "duration": 0.02848,
     "end_time": "2020-08-29T10:20:39.237500",
     "exception": false,
     "start_time": "2020-08-29T10:20:39.209020",
     "status": "completed"
    },
    "tags": []
   },
   "outputs": [],
   "source": [
    "# Quantile-based discretization function\n",
    "df['Fare_Bin'] = pd.qcut(df['Fare'], 5, labels=False)\n",
    "df['Age_Bin'] = pd.qcut(df['Age'], 4, labels=False)"
   ]
  },
  {
   "cell_type": "markdown",
   "execution_count": null,
   "metadata": {
    "papermill": {
     "duration": 0.014515,
     "end_time": "2020-08-29T10:20:39.263246",
     "exception": false,
     "start_time": "2020-08-29T10:20:39.248731",
     "status": "completed"
    },
    "tags": []
   },
   "source": [
    "**Family Survival**"
   ]
  },
  {
   "cell_type": "code",
   "execution_count": 13,
   "metadata": {
    "execution": {
     "iopub.execute_input": "2020-08-29T10:20:39.313183Z",
     "iopub.status.busy": "2020-08-29T10:20:39.308166Z",
     "iopub.status.idle": "2020-08-29T10:20:40.701759Z",
     "shell.execute_reply": "2020-08-29T10:20:40.701097Z"
    },
    "papermill": {
     "duration": 1.422929,
     "end_time": "2020-08-29T10:20:40.701927",
     "exception": false,
     "start_time": "2020-08-29T10:20:39.278998",
     "status": "completed"
    },
    "tags": []
   },
   "outputs": [
    {
     "name": "stdout",
     "output_type": "stream",
     "text": [
      "Number of passengers with family survival information: 420\n"
     ]
    }
   ],
   "source": [
    "# This feature is inspired by https://www.kaggle.com/shunjiangxu/blood-is-thicker-than-water-friendship-forever\n",
    "df['Last_Name'] = df['Name'].apply(lambda x: str.split(x, \",\")[0])\n",
    "df['Fare'].fillna(df['Fare'].mean(), inplace=True)\n",
    "\n",
    "DEFAULT_SURVIVAL_VALUE = 0.5\n",
    "df['Family_Survival'] = DEFAULT_SURVIVAL_VALUE\n",
    "\n",
    "for grp, grp_df in df[['Survived','Name', 'Last_Name', 'Fare', 'Ticket', 'PassengerId',\n",
    "                           'SibSp', 'Parch', 'Age', 'Cabin']].groupby(['Last_Name', 'Fare']):\n",
    "    \n",
    "    if (len(grp_df) != 1):\n",
    "        # A Family group is found.\n",
    "        for ind, row in grp_df.iterrows():\n",
    "            smax = grp_df.drop(ind)['Survived'].max()\n",
    "            smin = grp_df.drop(ind)['Survived'].min()\n",
    "            passID = row['PassengerId']\n",
    "            if (smax == 1.0):\n",
    "                df.loc[df['PassengerId'] == passID, 'Family_Survival'] = 1\n",
    "            elif (smin==0.0):\n",
    "                df.loc[df['PassengerId'] == passID, 'Family_Survival'] = 0\n",
    "\n",
    "print(\"Number of passengers with family survival information:\", \n",
    "      df.loc[df['Family_Survival']!=0.5].shape[0])"
   ]
  },
  {
   "cell_type": "code",
   "execution_count": 14,
   "metadata": {
    "execution": {
     "iopub.execute_input": "2020-08-29T10:20:40.738372Z",
     "iopub.status.busy": "2020-08-29T10:20:40.732842Z",
     "iopub.status.idle": "2020-08-29T10:20:41.741332Z",
     "shell.execute_reply": "2020-08-29T10:20:41.740734Z"
    },
    "papermill": {
     "duration": 1.0285,
     "end_time": "2020-08-29T10:20:41.741488",
     "exception": false,
     "start_time": "2020-08-29T10:20:40.712988",
     "status": "completed"
    },
    "tags": []
   },
   "outputs": [
    {
     "name": "stdout",
     "output_type": "stream",
     "text": [
      "Number of passenger with family/group survival information: 546\n"
     ]
    }
   ],
   "source": [
    "for _, grp_df in df.groupby('Ticket'):\n",
    "    if (len(grp_df) != 1):\n",
    "        for ind, row in grp_df.iterrows():\n",
    "            if (row['Family_Survival'] == 0) | (row['Family_Survival']== 0.5):\n",
    "                smax = grp_df.drop(ind)['Survived'].max()\n",
    "                smin = grp_df.drop(ind)['Survived'].min()\n",
    "                passID = row['PassengerId']\n",
    "                if (smax == 1.0):\n",
    "                    df.loc[df['PassengerId'] == passID, 'Family_Survival'] = 1\n",
    "                elif (smin==0.0):\n",
    "                    df.loc[df['PassengerId'] == passID, 'Family_Survival'] = 0\n",
    "                        \n",
    "print(\"Number of passenger with family/group survival information: \" \n",
    "      +str(df[df['Family_Survival']!=0.5].shape[0]))\n",
    "\n",
    "# # Family_Survival in TRAIN_DF and TEST_DF:\n",
    "train['Family_Survival'] = df['Family_Survival'][:891]\n",
    "test['Family_Survival'] = df['Family_Survival'][891:]"
   ]
  },
  {
   "cell_type": "markdown",
   "execution_count": null,
   "metadata": {
    "papermill": {
     "duration": 0.011403,
     "end_time": "2020-08-29T10:20:41.764087",
     "exception": false,
     "start_time": "2020-08-29T10:20:41.752684",
     "status": "completed"
    },
    "tags": []
   },
   "source": [
    "## Feature Selection"
   ]
  },
  {
   "cell_type": "code",
   "execution_count": 15,
   "metadata": {
    "execution": {
     "iopub.execute_input": "2020-08-29T10:20:41.794498Z",
     "iopub.status.busy": "2020-08-29T10:20:41.793653Z",
     "iopub.status.idle": "2020-08-29T10:20:41.797324Z",
     "shell.execute_reply": "2020-08-29T10:20:41.796596Z"
    },
    "papermill": {
     "duration": 0.022055,
     "end_time": "2020-08-29T10:20:41.797472",
     "exception": false,
     "start_time": "2020-08-29T10:20:41.775417",
     "status": "completed"
    },
    "tags": []
   },
   "outputs": [],
   "source": [
    "features = ['Survived','Title', 'Pclass','Sex','Family_Size','Family_Survival','Fare_Bin','Age_Bin']\n",
    "df = df[features]"
   ]
  },
  {
   "cell_type": "markdown",
   "execution_count": null,
   "metadata": {
    "papermill": {
     "duration": 0.010818,
     "end_time": "2020-08-29T10:20:41.819232",
     "exception": false,
     "start_time": "2020-08-29T10:20:41.808414",
     "status": "completed"
    },
    "tags": []
   },
   "source": [
    "**Splitting Data Back into Train and Test**"
   ]
  },
  {
   "cell_type": "code",
   "execution_count": 16,
   "metadata": {
    "execution": {
     "iopub.execute_input": "2020-08-29T10:20:41.852271Z",
     "iopub.status.busy": "2020-08-29T10:20:41.851218Z",
     "iopub.status.idle": "2020-08-29T10:20:41.854960Z",
     "shell.execute_reply": "2020-08-29T10:20:41.854312Z"
    },
    "papermill": {
     "duration": 0.024693,
     "end_time": "2020-08-29T10:20:41.855098",
     "exception": false,
     "start_time": "2020-08-29T10:20:41.830405",
     "status": "completed"
    },
    "tags": []
   },
   "outputs": [],
   "source": [
    "train = df[:len(train)]\n",
    "\n",
    "x_train = train.drop('Survived', axis=1)\n",
    "y_train = train['Survived'].astype(int)\n",
    "\n",
    "x_test = df[len(train):].drop('Survived', axis=1)"
   ]
  },
  {
   "cell_type": "markdown",
   "execution_count": null,
   "metadata": {
    "papermill": {
     "duration": 0.010872,
     "end_time": "2020-08-29T10:20:41.877218",
     "exception": false,
     "start_time": "2020-08-29T10:20:41.866346",
     "status": "completed"
    },
    "tags": []
   },
   "source": [
    "## Scaling"
   ]
  },
  {
   "cell_type": "code",
   "execution_count": 17,
   "metadata": {
    "execution": {
     "iopub.execute_input": "2020-08-29T10:20:41.909002Z",
     "iopub.status.busy": "2020-08-29T10:20:41.908165Z",
     "iopub.status.idle": "2020-08-29T10:20:41.920015Z",
     "shell.execute_reply": "2020-08-29T10:20:41.919202Z"
    },
    "papermill": {
     "duration": 0.03153,
     "end_time": "2020-08-29T10:20:41.920135",
     "exception": false,
     "start_time": "2020-08-29T10:20:41.888605",
     "status": "completed"
    },
    "tags": []
   },
   "outputs": [],
   "source": [
    "from sklearn.preprocessing import StandardScaler\n",
    "\n",
    "scaler = StandardScaler()\n",
    "x_train = pd.DataFrame(scaler.fit_transform(x_train))\n",
    "x_test = pd.DataFrame(scaler.fit_transform(x_test))"
   ]
  },
  {
   "cell_type": "markdown",
   "execution_count": null,
   "metadata": {
    "papermill": {
     "duration": 0.010883,
     "end_time": "2020-08-29T10:20:41.942171",
     "exception": false,
     "start_time": "2020-08-29T10:20:41.931288",
     "status": "completed"
    },
    "tags": []
   },
   "source": [
    "## Modeling"
   ]
  },
  {
   "cell_type": "code",
   "execution_count": 18,
   "metadata": {
    "execution": {
     "iopub.execute_input": "2020-08-29T10:20:41.971057Z",
     "iopub.status.busy": "2020-08-29T10:20:41.970198Z",
     "iopub.status.idle": "2020-08-29T10:20:41.973420Z",
     "shell.execute_reply": "2020-08-29T10:20:41.972833Z"
    },
    "papermill": {
     "duration": 0.02014,
     "end_time": "2020-08-29T10:20:41.973602",
     "exception": false,
     "start_time": "2020-08-29T10:20:41.953462",
     "status": "completed"
    },
    "tags": []
   },
   "outputs": [],
   "source": [
    "# Model\n",
    "model = KNeighborsClassifier()\n",
    "\n",
    "# KFold\n",
    "kfold = RepeatedStratifiedKFold(n_splits=10,n_repeats=3,random_state=420)"
   ]
  },
  {
   "cell_type": "markdown",
   "execution_count": null,
   "metadata": {
    "papermill": {
     "duration": 0.011251,
     "end_time": "2020-08-29T10:20:41.996478",
     "exception": false,
     "start_time": "2020-08-29T10:20:41.985227",
     "status": "completed"
    },
    "tags": []
   },
   "source": [
    "## Hyperparameter Tuning"
   ]
  },
  {
   "cell_type": "code",
   "execution_count": 19,
   "metadata": {
    "execution": {
     "iopub.execute_input": "2020-08-29T10:20:42.029280Z",
     "iopub.status.busy": "2020-08-29T10:20:42.027630Z",
     "iopub.status.idle": "2020-08-29T10:21:39.523124Z",
     "shell.execute_reply": "2020-08-29T10:21:39.522194Z"
    },
    "papermill": {
     "duration": 57.515179,
     "end_time": "2020-08-29T10:21:39.523296",
     "exception": false,
     "start_time": "2020-08-29T10:20:42.008117",
     "status": "completed"
    },
    "tags": []
   },
   "outputs": [],
   "source": [
    "# GSCV\n",
    "from sklearn.model_selection import GridSearchCV\n",
    "\n",
    "param_grid = {\n",
    "    \"n_neighbors\":np.arange(2,20,2),\n",
    "    \"weights\":[\"uniform\",\"distance\"],\n",
    "    \"leaf_size\":np.arange(1,50,5)\n",
    "}\n",
    "\n",
    "gscv = GridSearchCV(model, cv=kfold, param_grid=param_grid, scoring='accuracy')\n",
    "gscv_result = gscv.fit(x_train,y_train)"
   ]
  },
  {
   "cell_type": "code",
   "execution_count": 20,
   "metadata": {
    "execution": {
     "iopub.execute_input": "2020-08-29T10:21:39.562279Z",
     "iopub.status.busy": "2020-08-29T10:21:39.561494Z",
     "iopub.status.idle": "2020-08-29T10:21:39.564742Z",
     "shell.execute_reply": "2020-08-29T10:21:39.565271Z"
    },
    "papermill": {
     "duration": 0.026901,
     "end_time": "2020-08-29T10:21:39.565459",
     "exception": false,
     "start_time": "2020-08-29T10:21:39.538558",
     "status": "completed"
    },
    "tags": []
   },
   "outputs": [
    {
     "name": "stdout",
     "output_type": "stream",
     "text": [
      "Accuracy: 0.840995\n",
      "Params: {'leaf_size': 16, 'n_neighbors': 8, 'weights': 'uniform'}\n"
     ]
    }
   ],
   "source": [
    "# GSCV Result\n",
    "best_acc_score=gscv_result.best_score_\n",
    "best_params=gscv_result.best_params_\n",
    "\n",
    "print(\"Accuracy: {:6f}\".format(best_acc_score))\n",
    "print(\"Params: {}\".format(best_params))"
   ]
  },
  {
   "cell_type": "markdown",
   "execution_count": null,
   "metadata": {
    "papermill": {
     "duration": 0.011477,
     "end_time": "2020-08-29T10:21:39.588587",
     "exception": false,
     "start_time": "2020-08-29T10:21:39.577110",
     "status": "completed"
    },
    "tags": []
   },
   "source": [
    "## Making Prediction"
   ]
  },
  {
   "cell_type": "code",
   "execution_count": 21,
   "metadata": {
    "execution": {
     "iopub.execute_input": "2020-08-29T10:21:39.620224Z",
     "iopub.status.busy": "2020-08-29T10:21:39.619376Z",
     "iopub.status.idle": "2020-08-29T10:21:39.645109Z",
     "shell.execute_reply": "2020-08-29T10:21:39.644282Z"
    },
    "papermill": {
     "duration": 0.045101,
     "end_time": "2020-08-29T10:21:39.645249",
     "exception": false,
     "start_time": "2020-08-29T10:21:39.600148",
     "status": "completed"
    },
    "tags": []
   },
   "outputs": [],
   "source": [
    "# Model training and prediction\n",
    "result = gscv.predict(x_test)"
   ]
  },
  {
   "cell_type": "code",
   "execution_count": 22,
   "metadata": {
    "execution": {
     "iopub.execute_input": "2020-08-29T10:21:39.678028Z",
     "iopub.status.busy": "2020-08-29T10:21:39.677190Z",
     "iopub.status.idle": "2020-08-29T10:21:39.799120Z",
     "shell.execute_reply": "2020-08-29T10:21:39.798467Z"
    },
    "papermill": {
     "duration": 0.142319,
     "end_time": "2020-08-29T10:21:39.799259",
     "exception": false,
     "start_time": "2020-08-29T10:21:39.656940",
     "status": "completed"
    },
    "tags": []
   },
   "outputs": [
    {
     "data": {
      "text/html": [
       "<div>\n",
       "<style scoped>\n",
       "    .dataframe tbody tr th:only-of-type {\n",
       "        vertical-align: middle;\n",
       "    }\n",
       "\n",
       "    .dataframe tbody tr th {\n",
       "        vertical-align: top;\n",
       "    }\n",
       "\n",
       "    .dataframe thead th {\n",
       "        text-align: right;\n",
       "    }\n",
       "</style>\n",
       "<table border=\"1\" class=\"dataframe\">\n",
       "  <thead>\n",
       "    <tr style=\"text-align: right;\">\n",
       "      <th></th>\n",
       "      <th>PassengerId</th>\n",
       "      <th>Survived</th>\n",
       "    </tr>\n",
       "  </thead>\n",
       "  <tbody>\n",
       "    <tr>\n",
       "      <th>0</th>\n",
       "      <td>892</td>\n",
       "      <td>0</td>\n",
       "    </tr>\n",
       "    <tr>\n",
       "      <th>1</th>\n",
       "      <td>893</td>\n",
       "      <td>0</td>\n",
       "    </tr>\n",
       "    <tr>\n",
       "      <th>2</th>\n",
       "      <td>894</td>\n",
       "      <td>0</td>\n",
       "    </tr>\n",
       "    <tr>\n",
       "      <th>3</th>\n",
       "      <td>895</td>\n",
       "      <td>0</td>\n",
       "    </tr>\n",
       "    <tr>\n",
       "      <th>4</th>\n",
       "      <td>896</td>\n",
       "      <td>1</td>\n",
       "    </tr>\n",
       "  </tbody>\n",
       "</table>\n",
       "</div>"
      ],
      "text/plain": [
       "   PassengerId  Survived\n",
       "0          892         0\n",
       "1          893         0\n",
       "2          894         0\n",
       "3          895         0\n",
       "4          896         1"
      ]
     },
     "execution_count": 22,
     "metadata": {},
     "output_type": "execute_result"
    }
   ],
   "source": [
    "# Exporting result\n",
    "test_new = pd.read_csv('../input/titanic/test.csv')\n",
    "\n",
    "submission = pd.DataFrame({'PassengerId': test_new['PassengerId'], 'Survived': result})\n",
    "submission.to_csv('submission.csv', index = False)\n",
    "submission.head()"
   ]
  }
 ],
 "metadata": {
  "kernelspec": {
   "display_name": "Python 3",
   "language": "python",
   "name": "python3"
  },
  "language_info": {
   "codemirror_mode": {
    "name": "ipython",
    "version": 3
   },
   "file_extension": ".py",
   "mimetype": "text/x-python",
   "name": "python",
   "nbconvert_exporter": "python",
   "pygments_lexer": "ipython3",
   "version": "3.7.6"
  },
  "papermill": {
   "duration": 69.990358,
   "end_time": "2020-08-29T10:21:39.918912",
   "environment_variables": {},
   "exception": null,
   "input_path": "__notebook__.ipynb",
   "output_path": "__notebook__.ipynb",
   "parameters": {},
   "start_time": "2020-08-29T10:20:29.928554",
   "version": "2.1.0"
  }
 },
 "nbformat": 4,
 "nbformat_minor": 4
}
