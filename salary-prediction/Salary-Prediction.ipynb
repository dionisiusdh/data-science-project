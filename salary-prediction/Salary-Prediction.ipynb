{
  "nbformat": 4,
  "nbformat_minor": 0,
  "metadata": {
    "kernelspec": {
      "display_name": "Python 3",
      "language": "python",
      "name": "python3"
    },
    "language_info": {
      "codemirror_mode": {
        "name": "ipython",
        "version": 3
      },
      "file_extension": ".py",
      "mimetype": "text/x-python",
      "name": "python",
      "nbconvert_exporter": "python",
      "pygments_lexer": "ipython3",
      "version": "3.7.4"
    },
    "colab": {
      "name": "Final Project 5.ipynb",
      "provenance": []
    }
  },
  "cells": [
    {
      "cell_type": "markdown",
      "metadata": {
        "id": "h-Q6nl2yDV5_",
        "colab_type": "text"
      },
      "source": [
        "# Salary Prediction"
      ]
    },
    {
      "cell_type": "markdown",
      "metadata": {
        "id": "_B-Egfa4DkpR",
        "colab_type": "text"
      },
      "source": [
        "This project is the final assignment of Sanbercode Data Science Bootcamp with Private LB Score 0.90870"
      ]
    },
    {
      "cell_type": "markdown",
      "metadata": {
        "id": "F9b78SvrD4nR",
        "colab_type": "text"
      },
      "source": [
        "# Problem Statement\n",
        "Berikut adalah data tentang class Gaji seseorang. Data ini memilki beberapa column predictor dan 1 column output untuk 2 class label, Anda di minta untuk membuat model untuk memprediksi probabilitas gaji seseorang adalah di atas 5jt, dimana keterangan dari output adalah sebagai berikut\n",
        "\n",
        "* 0 : Gaji <= 5jt\n",
        "* 1 : Gaji > 5jt\n",
        "\n",
        "Evaluasi matriks yang di gunakan adalah AUC, jadi pastikan anda melakukan scoring metrics roc_auc terhadap model yang anda buat."
      ]
    },
    {
      "cell_type": "markdown",
      "metadata": {
        "id": "kXQrLC6FD2u-",
        "colab_type": "text"
      },
      "source": [
        "# Import Packages"
      ]
    },
    {
      "cell_type": "code",
      "metadata": {
        "id": "bH0yoxWtDMol",
        "colab_type": "code",
        "colab": {}
      },
      "source": [
        "import pandas as pd\n",
        "import numpy as np\n",
        "\n",
        "train = pd.read_csv('Pendapatan.csv')\n",
        "test = pd.read_csv('Pendapatan_test.csv')"
      ],
      "execution_count": null,
      "outputs": []
    },
    {
      "cell_type": "markdown",
      "metadata": {
        "id": "4mToVDCZDMoq",
        "colab_type": "text"
      },
      "source": [
        "<h1>EDA</h1>"
      ]
    },
    {
      "cell_type": "markdown",
      "metadata": {
        "id": "tGGoOq1RDMor",
        "colab_type": "text"
      },
      "source": [
        "<ul>\n",
        "    <li>0 : Gaji <= 5jt</li>\n",
        "    <li>1 : Gaji > 5jt</li>\n",
        "</ul>"
      ]
    },
    {
      "cell_type": "code",
      "metadata": {
        "id": "YsDbnwCsDMor",
        "colab_type": "code",
        "colab": {},
        "outputId": "b108b650-b75a-41b7-9d5f-3eb0e07aa3b7"
      },
      "source": [
        "train.info()"
      ],
      "execution_count": null,
      "outputs": [
        {
          "output_type": "stream",
          "text": [
            "<class 'pandas.core.frame.DataFrame'>\n",
            "RangeIndex: 38393 entries, 0 to 38392\n",
            "Data columns (total 13 columns):\n",
            "id                       38393 non-null int64\n",
            "Umur                     38393 non-null int64\n",
            "Kelas Pekerja            38393 non-null object\n",
            "Berat Akhir              38393 non-null int64\n",
            "Pendidikan               38393 non-null object\n",
            "Jmlh Tahun Pendidikan    38393 non-null int64\n",
            "Status Perkawinan        38393 non-null object\n",
            "Pekerjaan                38393 non-null object\n",
            "Jenis Kelamin            38393 non-null object\n",
            "Keuntungan Kapital       38393 non-null float64\n",
            "Kerugian Capital         38393 non-null float64\n",
            "Jam per Minggu           38393 non-null float64\n",
            "Gaji                     38393 non-null int64\n",
            "dtypes: float64(3), int64(5), object(5)\n",
            "memory usage: 3.8+ MB\n"
          ],
          "name": "stdout"
        }
      ]
    },
    {
      "cell_type": "code",
      "metadata": {
        "id": "e-S2NkdUDMox",
        "colab_type": "code",
        "colab": {}
      },
      "source": [
        "train.replace({'?':np.nan}, inplace=True)\n",
        "test.replace({'?':np.nan}, inplace=True)"
      ],
      "execution_count": null,
      "outputs": []
    },
    {
      "cell_type": "code",
      "metadata": {
        "id": "x19SRpYgDMo0",
        "colab_type": "code",
        "colab": {},
        "outputId": "906a7385-1d8b-46cf-819f-4b4f16ca72ca"
      },
      "source": [
        "train.isnull().sum()"
      ],
      "execution_count": null,
      "outputs": [
        {
          "output_type": "execute_result",
          "data": {
            "text/plain": [
              "id                          0\n",
              "Umur                        0\n",
              "Kelas Pekerja            2204\n",
              "Berat Akhir                 0\n",
              "Pendidikan                  0\n",
              "Jmlh Tahun Pendidikan       0\n",
              "Status Perkawinan           0\n",
              "Pekerjaan                2210\n",
              "Jenis Kelamin               0\n",
              "Keuntungan Kapital          0\n",
              "Kerugian Capital            0\n",
              "Jam per Minggu              0\n",
              "Gaji                        0\n",
              "dtype: int64"
            ]
          },
          "metadata": {
            "tags": []
          },
          "execution_count": 4
        }
      ]
    },
    {
      "cell_type": "code",
      "metadata": {
        "id": "GZ12V7PeDMo3",
        "colab_type": "code",
        "colab": {},
        "outputId": "ac941490-24a0-4a27-a68e-90600a085b2d"
      },
      "source": [
        "test.isnull().sum()"
      ],
      "execution_count": null,
      "outputs": [
        {
          "output_type": "execute_result",
          "data": {
            "text/plain": [
              "id                         0\n",
              "Umur                       0\n",
              "Kelas Pekerja            552\n",
              "Berat Akhir                0\n",
              "Pendidikan                 0\n",
              "Jmlh Tahun Pendidikan      0\n",
              "Status Perkawinan          0\n",
              "Pekerjaan                554\n",
              "Jenis Kelamin              0\n",
              "Keuntungan Kapital         0\n",
              "Kerugian Capital           0\n",
              "Jam per Minggu             0\n",
              "dtype: int64"
            ]
          },
          "metadata": {
            "tags": []
          },
          "execution_count": 5
        }
      ]
    },
    {
      "cell_type": "code",
      "metadata": {
        "id": "dGHMZtFfDMo6",
        "colab_type": "code",
        "colab": {}
      },
      "source": [
        "train['Kelas Pekerja'] = train['Kelas Pekerja'].fillna('Wiraswasta')\n",
        "test['Kelas Pekerja'] = test['Kelas Pekerja'].fillna('Wiraswasta')"
      ],
      "execution_count": null,
      "outputs": []
    },
    {
      "cell_type": "code",
      "metadata": {
        "id": "e6NAFEwqDMo9",
        "colab_type": "code",
        "colab": {}
      },
      "source": [
        "from sklearn.impute import SimpleImputer\n",
        "\n",
        "imp = SimpleImputer(missing_values=np.nan, strategy='most_frequent')\n",
        "train['Pekerjaan'] = imp.fit_transform(train['Pekerjaan'][:, np.newaxis])\n",
        "test['Pekerjaan'] = imp.fit_transform(test['Pekerjaan'][:, np.newaxis])"
      ],
      "execution_count": null,
      "outputs": []
    },
    {
      "cell_type": "markdown",
      "metadata": {
        "id": "GIYjeauBDMpB",
        "colab_type": "text"
      },
      "source": [
        "<h1>Feature Engineering</h1>"
      ]
    },
    {
      "cell_type": "code",
      "metadata": {
        "id": "uX-Gn_UDDMpC",
        "colab_type": "code",
        "colab": {}
      },
      "source": [
        "train = train.drop('id', axis=1)\n",
        "test = test.drop('id', axis=1)"
      ],
      "execution_count": null,
      "outputs": []
    },
    {
      "cell_type": "markdown",
      "metadata": {
        "id": "nsYsl_wwDMpE",
        "colab_type": "text"
      },
      "source": [
        "<strong>Jenis Kelamin</strong>"
      ]
    },
    {
      "cell_type": "code",
      "metadata": {
        "id": "SMQ2QOp4DMpF",
        "colab_type": "code",
        "colab": {}
      },
      "source": [
        "df = [train, test]\n",
        "\n",
        "for data in df:\n",
        "    data['Jenis Kelamin'] = pd.get_dummies(data['Jenis Kelamin'])"
      ],
      "execution_count": null,
      "outputs": []
    },
    {
      "cell_type": "code",
      "metadata": {
        "id": "XVmZE9X9DMpI",
        "colab_type": "code",
        "colab": {},
        "outputId": "42f82619-a260-44ea-a370-9410b3a35f58"
      },
      "source": [
        "train"
      ],
      "execution_count": null,
      "outputs": [
        {
          "output_type": "execute_result",
          "data": {
            "text/html": [
              "<div>\n",
              "<style scoped>\n",
              "    .dataframe tbody tr th:only-of-type {\n",
              "        vertical-align: middle;\n",
              "    }\n",
              "\n",
              "    .dataframe tbody tr th {\n",
              "        vertical-align: top;\n",
              "    }\n",
              "\n",
              "    .dataframe thead th {\n",
              "        text-align: right;\n",
              "    }\n",
              "</style>\n",
              "<table border=\"1\" class=\"dataframe\">\n",
              "  <thead>\n",
              "    <tr style=\"text-align: right;\">\n",
              "      <th></th>\n",
              "      <th>Umur</th>\n",
              "      <th>Kelas Pekerja</th>\n",
              "      <th>Berat Akhir</th>\n",
              "      <th>Pendidikan</th>\n",
              "      <th>Jmlh Tahun Pendidikan</th>\n",
              "      <th>Status Perkawinan</th>\n",
              "      <th>Pekerjaan</th>\n",
              "      <th>Jenis Kelamin</th>\n",
              "      <th>Keuntungan Kapital</th>\n",
              "      <th>Kerugian Capital</th>\n",
              "      <th>Jam per Minggu</th>\n",
              "      <th>Gaji</th>\n",
              "    </tr>\n",
              "  </thead>\n",
              "  <tbody>\n",
              "    <tr>\n",
              "      <td>0</td>\n",
              "      <td>59</td>\n",
              "      <td>Pemerintah Negara</td>\n",
              "      <td>139616</td>\n",
              "      <td>Master</td>\n",
              "      <td>14</td>\n",
              "      <td>Menikah</td>\n",
              "      <td>Ekesekutif Managerial</td>\n",
              "      <td>1</td>\n",
              "      <td>0.0</td>\n",
              "      <td>0.0</td>\n",
              "      <td>50.0</td>\n",
              "      <td>1</td>\n",
              "    </tr>\n",
              "    <tr>\n",
              "      <td>1</td>\n",
              "      <td>52</td>\n",
              "      <td>Wiraswasta</td>\n",
              "      <td>158993</td>\n",
              "      <td>SMA</td>\n",
              "      <td>9</td>\n",
              "      <td>Cerai</td>\n",
              "      <td>Servis Lainnya</td>\n",
              "      <td>0</td>\n",
              "      <td>0.0</td>\n",
              "      <td>0.0</td>\n",
              "      <td>38.0</td>\n",
              "      <td>0</td>\n",
              "    </tr>\n",
              "    <tr>\n",
              "      <td>2</td>\n",
              "      <td>52</td>\n",
              "      <td>Pekerja Bebas Bukan Perusahan</td>\n",
              "      <td>284648</td>\n",
              "      <td>SMA</td>\n",
              "      <td>9</td>\n",
              "      <td>Cerai</td>\n",
              "      <td>Ekesekutif Managerial</td>\n",
              "      <td>0</td>\n",
              "      <td>0.0</td>\n",
              "      <td>0.0</td>\n",
              "      <td>99.0</td>\n",
              "      <td>1</td>\n",
              "    </tr>\n",
              "    <tr>\n",
              "      <td>3</td>\n",
              "      <td>45</td>\n",
              "      <td>Wiraswasta</td>\n",
              "      <td>132847</td>\n",
              "      <td>SMA</td>\n",
              "      <td>9</td>\n",
              "      <td>Belum Pernah Menikah</td>\n",
              "      <td>Pembersih</td>\n",
              "      <td>0</td>\n",
              "      <td>0.0</td>\n",
              "      <td>0.0</td>\n",
              "      <td>40.0</td>\n",
              "      <td>0</td>\n",
              "    </tr>\n",
              "    <tr>\n",
              "      <td>4</td>\n",
              "      <td>28</td>\n",
              "      <td>Wiraswasta</td>\n",
              "      <td>103432</td>\n",
              "      <td>SMA</td>\n",
              "      <td>9</td>\n",
              "      <td>Belum Pernah Menikah</td>\n",
              "      <td>Supir</td>\n",
              "      <td>1</td>\n",
              "      <td>0.0</td>\n",
              "      <td>0.0</td>\n",
              "      <td>45.0</td>\n",
              "      <td>1</td>\n",
              "    </tr>\n",
              "    <tr>\n",
              "      <td>...</td>\n",
              "      <td>...</td>\n",
              "      <td>...</td>\n",
              "      <td>...</td>\n",
              "      <td>...</td>\n",
              "      <td>...</td>\n",
              "      <td>...</td>\n",
              "      <td>...</td>\n",
              "      <td>...</td>\n",
              "      <td>...</td>\n",
              "      <td>...</td>\n",
              "      <td>...</td>\n",
              "      <td>...</td>\n",
              "    </tr>\n",
              "    <tr>\n",
              "      <td>38388</td>\n",
              "      <td>47</td>\n",
              "      <td>Pekerja Bebas Bukan Perusahan</td>\n",
              "      <td>148169</td>\n",
              "      <td>SMA</td>\n",
              "      <td>9</td>\n",
              "      <td>Menikah</td>\n",
              "      <td>Perbaikan Kerajinan</td>\n",
              "      <td>1</td>\n",
              "      <td>0.0</td>\n",
              "      <td>0.0</td>\n",
              "      <td>40.0</td>\n",
              "      <td>0</td>\n",
              "    </tr>\n",
              "    <tr>\n",
              "      <td>38389</td>\n",
              "      <td>69</td>\n",
              "      <td>Pekerja Bebas Perusahaan</td>\n",
              "      <td>264722</td>\n",
              "      <td>D3</td>\n",
              "      <td>12</td>\n",
              "      <td>Menikah</td>\n",
              "      <td>Sales</td>\n",
              "      <td>1</td>\n",
              "      <td>0.0</td>\n",
              "      <td>0.0</td>\n",
              "      <td>40.0</td>\n",
              "      <td>1</td>\n",
              "    </tr>\n",
              "    <tr>\n",
              "      <td>38390</td>\n",
              "      <td>24</td>\n",
              "      <td>Pekerja Bebas Bukan Perusahan</td>\n",
              "      <td>31606</td>\n",
              "      <td>Sarjana</td>\n",
              "      <td>13</td>\n",
              "      <td>Menikah</td>\n",
              "      <td>Spesialis</td>\n",
              "      <td>0</td>\n",
              "      <td>0.0</td>\n",
              "      <td>0.0</td>\n",
              "      <td>20.0</td>\n",
              "      <td>1</td>\n",
              "    </tr>\n",
              "    <tr>\n",
              "      <td>38391</td>\n",
              "      <td>47</td>\n",
              "      <td>Wiraswasta</td>\n",
              "      <td>197836</td>\n",
              "      <td>SMA</td>\n",
              "      <td>9</td>\n",
              "      <td>Menikah</td>\n",
              "      <td>Sales</td>\n",
              "      <td>1</td>\n",
              "      <td>0.0</td>\n",
              "      <td>0.0</td>\n",
              "      <td>45.0</td>\n",
              "      <td>0</td>\n",
              "    </tr>\n",
              "    <tr>\n",
              "      <td>38392</td>\n",
              "      <td>45</td>\n",
              "      <td>Wiraswasta</td>\n",
              "      <td>243743</td>\n",
              "      <td>Sarjana</td>\n",
              "      <td>13</td>\n",
              "      <td>Menikah</td>\n",
              "      <td>Ekesekutif Managerial</td>\n",
              "      <td>1</td>\n",
              "      <td>0.0</td>\n",
              "      <td>0.0</td>\n",
              "      <td>60.0</td>\n",
              "      <td>1</td>\n",
              "    </tr>\n",
              "  </tbody>\n",
              "</table>\n",
              "<p>38393 rows × 12 columns</p>\n",
              "</div>"
            ],
            "text/plain": [
              "       Umur                  Kelas Pekerja  Berat Akhir Pendidikan  \\\n",
              "0        59              Pemerintah Negara       139616     Master   \n",
              "1        52                     Wiraswasta       158993        SMA   \n",
              "2        52  Pekerja Bebas Bukan Perusahan       284648        SMA   \n",
              "3        45                     Wiraswasta       132847        SMA   \n",
              "4        28                     Wiraswasta       103432        SMA   \n",
              "...     ...                            ...          ...        ...   \n",
              "38388    47  Pekerja Bebas Bukan Perusahan       148169        SMA   \n",
              "38389    69       Pekerja Bebas Perusahaan       264722         D3   \n",
              "38390    24  Pekerja Bebas Bukan Perusahan        31606    Sarjana   \n",
              "38391    47                     Wiraswasta       197836        SMA   \n",
              "38392    45                     Wiraswasta       243743    Sarjana   \n",
              "\n",
              "       Jmlh Tahun Pendidikan     Status Perkawinan              Pekerjaan  \\\n",
              "0                         14               Menikah  Ekesekutif Managerial   \n",
              "1                          9                 Cerai         Servis Lainnya   \n",
              "2                          9                 Cerai  Ekesekutif Managerial   \n",
              "3                          9  Belum Pernah Menikah              Pembersih   \n",
              "4                          9  Belum Pernah Menikah                  Supir   \n",
              "...                      ...                   ...                    ...   \n",
              "38388                      9               Menikah    Perbaikan Kerajinan   \n",
              "38389                     12               Menikah                  Sales   \n",
              "38390                     13               Menikah              Spesialis   \n",
              "38391                      9               Menikah                  Sales   \n",
              "38392                     13               Menikah  Ekesekutif Managerial   \n",
              "\n",
              "       Jenis Kelamin  Keuntungan Kapital  Kerugian Capital  Jam per Minggu  \\\n",
              "0                  1                 0.0               0.0            50.0   \n",
              "1                  0                 0.0               0.0            38.0   \n",
              "2                  0                 0.0               0.0            99.0   \n",
              "3                  0                 0.0               0.0            40.0   \n",
              "4                  1                 0.0               0.0            45.0   \n",
              "...              ...                 ...               ...             ...   \n",
              "38388              1                 0.0               0.0            40.0   \n",
              "38389              1                 0.0               0.0            40.0   \n",
              "38390              0                 0.0               0.0            20.0   \n",
              "38391              1                 0.0               0.0            45.0   \n",
              "38392              1                 0.0               0.0            60.0   \n",
              "\n",
              "       Gaji  \n",
              "0         1  \n",
              "1         0  \n",
              "2         1  \n",
              "3         0  \n",
              "4         1  \n",
              "...     ...  \n",
              "38388     0  \n",
              "38389     1  \n",
              "38390     1  \n",
              "38391     0  \n",
              "38392     1  \n",
              "\n",
              "[38393 rows x 12 columns]"
            ]
          },
          "metadata": {
            "tags": []
          },
          "execution_count": 10
        }
      ]
    },
    {
      "cell_type": "markdown",
      "metadata": {
        "id": "NDEutwdUDMpM",
        "colab_type": "text"
      },
      "source": [
        "<strong>Pendidikan</strong>"
      ]
    },
    {
      "cell_type": "code",
      "metadata": {
        "id": "Tshf1FBBDMpN",
        "colab_type": "code",
        "colab": {},
        "outputId": "2f5742d2-b973-4279-b664-a86b22733542"
      },
      "source": [
        "train['Pendidikan'].value_counts()"
      ],
      "execution_count": null,
      "outputs": [
        {
          "output_type": "execute_result",
          "data": {
            "text/plain": [
              "SMA                     12430\n",
              "Pendidikan Tinggi        8529\n",
              "Sarjana                  6320\n",
              "Master                   2093\n",
              "D4                       1603\n",
              "11th                     1407\n",
              "D3                       1260\n",
              "10th                     1096\n",
              "7th-8th                   722\n",
              "Sekolah Professional      666\n",
              "9th                       604\n",
              "12th                      509\n",
              "Doktor                    477\n",
              "5th-6th                   418\n",
              "1st-4th                   195\n",
              "SD                         64\n",
              "Name: Pendidikan, dtype: int64"
            ]
          },
          "metadata": {
            "tags": []
          },
          "execution_count": 11
        }
      ]
    },
    {
      "cell_type": "code",
      "metadata": {
        "id": "e-xPEKHxDMpS",
        "colab_type": "code",
        "colab": {},
        "outputId": "5c835842-937a-42cc-a090-4c1e9a947067"
      },
      "source": [
        "pendidikan = {\n",
        "    'SD':1,\n",
        "    '1st-4th':2.1,\n",
        "    '5th-6th':2.2,\n",
        "    '7th-8th':2.3,\n",
        "    '9th':2.5,\n",
        "    '10th':2.7,\n",
        "    '11th':2.8,\n",
        "    '12th':2.9,\n",
        "    'SMA':3,\n",
        "    'D3':4,\n",
        "    'D4':4.5,\n",
        "    'Sarjana':5,\n",
        "    'Pendidikan Tinggi':6,\n",
        "    'Sekolah Professional':6,\n",
        "    'Master':7,\n",
        "    'Doktor':8\n",
        "}\n",
        "\n",
        "df = [train, test]\n",
        "\n",
        "for data in df:\n",
        "    data['Pendidikan'] = data['Pendidikan'].map(pendidikan)\n",
        "\n",
        "train"
      ],
      "execution_count": null,
      "outputs": [
        {
          "output_type": "execute_result",
          "data": {
            "text/html": [
              "<div>\n",
              "<style scoped>\n",
              "    .dataframe tbody tr th:only-of-type {\n",
              "        vertical-align: middle;\n",
              "    }\n",
              "\n",
              "    .dataframe tbody tr th {\n",
              "        vertical-align: top;\n",
              "    }\n",
              "\n",
              "    .dataframe thead th {\n",
              "        text-align: right;\n",
              "    }\n",
              "</style>\n",
              "<table border=\"1\" class=\"dataframe\">\n",
              "  <thead>\n",
              "    <tr style=\"text-align: right;\">\n",
              "      <th></th>\n",
              "      <th>Umur</th>\n",
              "      <th>Kelas Pekerja</th>\n",
              "      <th>Berat Akhir</th>\n",
              "      <th>Pendidikan</th>\n",
              "      <th>Jmlh Tahun Pendidikan</th>\n",
              "      <th>Status Perkawinan</th>\n",
              "      <th>Pekerjaan</th>\n",
              "      <th>Jenis Kelamin</th>\n",
              "      <th>Keuntungan Kapital</th>\n",
              "      <th>Kerugian Capital</th>\n",
              "      <th>Jam per Minggu</th>\n",
              "      <th>Gaji</th>\n",
              "    </tr>\n",
              "  </thead>\n",
              "  <tbody>\n",
              "    <tr>\n",
              "      <td>0</td>\n",
              "      <td>59</td>\n",
              "      <td>Pemerintah Negara</td>\n",
              "      <td>139616</td>\n",
              "      <td>7.0</td>\n",
              "      <td>14</td>\n",
              "      <td>Menikah</td>\n",
              "      <td>Ekesekutif Managerial</td>\n",
              "      <td>1</td>\n",
              "      <td>0.0</td>\n",
              "      <td>0.0</td>\n",
              "      <td>50.0</td>\n",
              "      <td>1</td>\n",
              "    </tr>\n",
              "    <tr>\n",
              "      <td>1</td>\n",
              "      <td>52</td>\n",
              "      <td>Wiraswasta</td>\n",
              "      <td>158993</td>\n",
              "      <td>3.0</td>\n",
              "      <td>9</td>\n",
              "      <td>Cerai</td>\n",
              "      <td>Servis Lainnya</td>\n",
              "      <td>0</td>\n",
              "      <td>0.0</td>\n",
              "      <td>0.0</td>\n",
              "      <td>38.0</td>\n",
              "      <td>0</td>\n",
              "    </tr>\n",
              "    <tr>\n",
              "      <td>2</td>\n",
              "      <td>52</td>\n",
              "      <td>Pekerja Bebas Bukan Perusahan</td>\n",
              "      <td>284648</td>\n",
              "      <td>3.0</td>\n",
              "      <td>9</td>\n",
              "      <td>Cerai</td>\n",
              "      <td>Ekesekutif Managerial</td>\n",
              "      <td>0</td>\n",
              "      <td>0.0</td>\n",
              "      <td>0.0</td>\n",
              "      <td>99.0</td>\n",
              "      <td>1</td>\n",
              "    </tr>\n",
              "    <tr>\n",
              "      <td>3</td>\n",
              "      <td>45</td>\n",
              "      <td>Wiraswasta</td>\n",
              "      <td>132847</td>\n",
              "      <td>3.0</td>\n",
              "      <td>9</td>\n",
              "      <td>Belum Pernah Menikah</td>\n",
              "      <td>Pembersih</td>\n",
              "      <td>0</td>\n",
              "      <td>0.0</td>\n",
              "      <td>0.0</td>\n",
              "      <td>40.0</td>\n",
              "      <td>0</td>\n",
              "    </tr>\n",
              "    <tr>\n",
              "      <td>4</td>\n",
              "      <td>28</td>\n",
              "      <td>Wiraswasta</td>\n",
              "      <td>103432</td>\n",
              "      <td>3.0</td>\n",
              "      <td>9</td>\n",
              "      <td>Belum Pernah Menikah</td>\n",
              "      <td>Supir</td>\n",
              "      <td>1</td>\n",
              "      <td>0.0</td>\n",
              "      <td>0.0</td>\n",
              "      <td>45.0</td>\n",
              "      <td>1</td>\n",
              "    </tr>\n",
              "    <tr>\n",
              "      <td>...</td>\n",
              "      <td>...</td>\n",
              "      <td>...</td>\n",
              "      <td>...</td>\n",
              "      <td>...</td>\n",
              "      <td>...</td>\n",
              "      <td>...</td>\n",
              "      <td>...</td>\n",
              "      <td>...</td>\n",
              "      <td>...</td>\n",
              "      <td>...</td>\n",
              "      <td>...</td>\n",
              "      <td>...</td>\n",
              "    </tr>\n",
              "    <tr>\n",
              "      <td>38388</td>\n",
              "      <td>47</td>\n",
              "      <td>Pekerja Bebas Bukan Perusahan</td>\n",
              "      <td>148169</td>\n",
              "      <td>3.0</td>\n",
              "      <td>9</td>\n",
              "      <td>Menikah</td>\n",
              "      <td>Perbaikan Kerajinan</td>\n",
              "      <td>1</td>\n",
              "      <td>0.0</td>\n",
              "      <td>0.0</td>\n",
              "      <td>40.0</td>\n",
              "      <td>0</td>\n",
              "    </tr>\n",
              "    <tr>\n",
              "      <td>38389</td>\n",
              "      <td>69</td>\n",
              "      <td>Pekerja Bebas Perusahaan</td>\n",
              "      <td>264722</td>\n",
              "      <td>4.0</td>\n",
              "      <td>12</td>\n",
              "      <td>Menikah</td>\n",
              "      <td>Sales</td>\n",
              "      <td>1</td>\n",
              "      <td>0.0</td>\n",
              "      <td>0.0</td>\n",
              "      <td>40.0</td>\n",
              "      <td>1</td>\n",
              "    </tr>\n",
              "    <tr>\n",
              "      <td>38390</td>\n",
              "      <td>24</td>\n",
              "      <td>Pekerja Bebas Bukan Perusahan</td>\n",
              "      <td>31606</td>\n",
              "      <td>5.0</td>\n",
              "      <td>13</td>\n",
              "      <td>Menikah</td>\n",
              "      <td>Spesialis</td>\n",
              "      <td>0</td>\n",
              "      <td>0.0</td>\n",
              "      <td>0.0</td>\n",
              "      <td>20.0</td>\n",
              "      <td>1</td>\n",
              "    </tr>\n",
              "    <tr>\n",
              "      <td>38391</td>\n",
              "      <td>47</td>\n",
              "      <td>Wiraswasta</td>\n",
              "      <td>197836</td>\n",
              "      <td>3.0</td>\n",
              "      <td>9</td>\n",
              "      <td>Menikah</td>\n",
              "      <td>Sales</td>\n",
              "      <td>1</td>\n",
              "      <td>0.0</td>\n",
              "      <td>0.0</td>\n",
              "      <td>45.0</td>\n",
              "      <td>0</td>\n",
              "    </tr>\n",
              "    <tr>\n",
              "      <td>38392</td>\n",
              "      <td>45</td>\n",
              "      <td>Wiraswasta</td>\n",
              "      <td>243743</td>\n",
              "      <td>5.0</td>\n",
              "      <td>13</td>\n",
              "      <td>Menikah</td>\n",
              "      <td>Ekesekutif Managerial</td>\n",
              "      <td>1</td>\n",
              "      <td>0.0</td>\n",
              "      <td>0.0</td>\n",
              "      <td>60.0</td>\n",
              "      <td>1</td>\n",
              "    </tr>\n",
              "  </tbody>\n",
              "</table>\n",
              "<p>38393 rows × 12 columns</p>\n",
              "</div>"
            ],
            "text/plain": [
              "       Umur                  Kelas Pekerja  Berat Akhir  Pendidikan  \\\n",
              "0        59              Pemerintah Negara       139616         7.0   \n",
              "1        52                     Wiraswasta       158993         3.0   \n",
              "2        52  Pekerja Bebas Bukan Perusahan       284648         3.0   \n",
              "3        45                     Wiraswasta       132847         3.0   \n",
              "4        28                     Wiraswasta       103432         3.0   \n",
              "...     ...                            ...          ...         ...   \n",
              "38388    47  Pekerja Bebas Bukan Perusahan       148169         3.0   \n",
              "38389    69       Pekerja Bebas Perusahaan       264722         4.0   \n",
              "38390    24  Pekerja Bebas Bukan Perusahan        31606         5.0   \n",
              "38391    47                     Wiraswasta       197836         3.0   \n",
              "38392    45                     Wiraswasta       243743         5.0   \n",
              "\n",
              "       Jmlh Tahun Pendidikan     Status Perkawinan              Pekerjaan  \\\n",
              "0                         14               Menikah  Ekesekutif Managerial   \n",
              "1                          9                 Cerai         Servis Lainnya   \n",
              "2                          9                 Cerai  Ekesekutif Managerial   \n",
              "3                          9  Belum Pernah Menikah              Pembersih   \n",
              "4                          9  Belum Pernah Menikah                  Supir   \n",
              "...                      ...                   ...                    ...   \n",
              "38388                      9               Menikah    Perbaikan Kerajinan   \n",
              "38389                     12               Menikah                  Sales   \n",
              "38390                     13               Menikah              Spesialis   \n",
              "38391                      9               Menikah                  Sales   \n",
              "38392                     13               Menikah  Ekesekutif Managerial   \n",
              "\n",
              "       Jenis Kelamin  Keuntungan Kapital  Kerugian Capital  Jam per Minggu  \\\n",
              "0                  1                 0.0               0.0            50.0   \n",
              "1                  0                 0.0               0.0            38.0   \n",
              "2                  0                 0.0               0.0            99.0   \n",
              "3                  0                 0.0               0.0            40.0   \n",
              "4                  1                 0.0               0.0            45.0   \n",
              "...              ...                 ...               ...             ...   \n",
              "38388              1                 0.0               0.0            40.0   \n",
              "38389              1                 0.0               0.0            40.0   \n",
              "38390              0                 0.0               0.0            20.0   \n",
              "38391              1                 0.0               0.0            45.0   \n",
              "38392              1                 0.0               0.0            60.0   \n",
              "\n",
              "       Gaji  \n",
              "0         1  \n",
              "1         0  \n",
              "2         1  \n",
              "3         0  \n",
              "4         1  \n",
              "...     ...  \n",
              "38388     0  \n",
              "38389     1  \n",
              "38390     1  \n",
              "38391     0  \n",
              "38392     1  \n",
              "\n",
              "[38393 rows x 12 columns]"
            ]
          },
          "metadata": {
            "tags": []
          },
          "execution_count": 12
        }
      ]
    },
    {
      "cell_type": "markdown",
      "metadata": {
        "id": "x8EznXgtDMpV",
        "colab_type": "text"
      },
      "source": [
        "<strong>Status Perkawinan</strong>"
      ]
    },
    {
      "cell_type": "code",
      "metadata": {
        "id": "SaTSuhZ4DMpV",
        "colab_type": "code",
        "colab": {},
        "outputId": "b6eeffd4-6a4f-4a3f-f8d5-e13d6d4dc963"
      },
      "source": [
        "train['Status Perkawinan'].value_counts()"
      ],
      "execution_count": null,
      "outputs": [
        {
          "output_type": "execute_result",
          "data": {
            "text/plain": [
              "Menikah                 17640\n",
              "Belum Pernah Menikah    12650\n",
              "Cerai                    5200\n",
              "Berpisah                 1203\n",
              "Janda                    1178\n",
              "Menikah LDR               522\n",
              "Name: Status Perkawinan, dtype: int64"
            ]
          },
          "metadata": {
            "tags": []
          },
          "execution_count": 13
        }
      ]
    },
    {
      "cell_type": "code",
      "metadata": {
        "id": "GyK1yHjJDMpY",
        "colab_type": "code",
        "colab": {}
      },
      "source": [
        "train = pd.get_dummies(train, columns = ['Status Perkawinan'])\n",
        "test = pd.get_dummies(test, columns = ['Status Perkawinan'])"
      ],
      "execution_count": null,
      "outputs": []
    },
    {
      "cell_type": "code",
      "metadata": {
        "id": "XqAYIzRCDMpc",
        "colab_type": "code",
        "colab": {},
        "outputId": "7a0b11c7-8b1f-445d-8bc6-8c7c2620c2fd"
      },
      "source": [
        "train"
      ],
      "execution_count": null,
      "outputs": [
        {
          "output_type": "execute_result",
          "data": {
            "text/html": [
              "<div>\n",
              "<style scoped>\n",
              "    .dataframe tbody tr th:only-of-type {\n",
              "        vertical-align: middle;\n",
              "    }\n",
              "\n",
              "    .dataframe tbody tr th {\n",
              "        vertical-align: top;\n",
              "    }\n",
              "\n",
              "    .dataframe thead th {\n",
              "        text-align: right;\n",
              "    }\n",
              "</style>\n",
              "<table border=\"1\" class=\"dataframe\">\n",
              "  <thead>\n",
              "    <tr style=\"text-align: right;\">\n",
              "      <th></th>\n",
              "      <th>Umur</th>\n",
              "      <th>Kelas Pekerja</th>\n",
              "      <th>Berat Akhir</th>\n",
              "      <th>Pendidikan</th>\n",
              "      <th>Jmlh Tahun Pendidikan</th>\n",
              "      <th>Pekerjaan</th>\n",
              "      <th>Jenis Kelamin</th>\n",
              "      <th>Keuntungan Kapital</th>\n",
              "      <th>Kerugian Capital</th>\n",
              "      <th>Jam per Minggu</th>\n",
              "      <th>Gaji</th>\n",
              "      <th>Status Perkawinan_Belum Pernah Menikah</th>\n",
              "      <th>Status Perkawinan_Berpisah</th>\n",
              "      <th>Status Perkawinan_Cerai</th>\n",
              "      <th>Status Perkawinan_Janda</th>\n",
              "      <th>Status Perkawinan_Menikah</th>\n",
              "      <th>Status Perkawinan_Menikah LDR</th>\n",
              "    </tr>\n",
              "  </thead>\n",
              "  <tbody>\n",
              "    <tr>\n",
              "      <td>0</td>\n",
              "      <td>59</td>\n",
              "      <td>Pemerintah Negara</td>\n",
              "      <td>139616</td>\n",
              "      <td>7.0</td>\n",
              "      <td>14</td>\n",
              "      <td>Ekesekutif Managerial</td>\n",
              "      <td>1</td>\n",
              "      <td>0.0</td>\n",
              "      <td>0.0</td>\n",
              "      <td>50.0</td>\n",
              "      <td>1</td>\n",
              "      <td>0</td>\n",
              "      <td>0</td>\n",
              "      <td>0</td>\n",
              "      <td>0</td>\n",
              "      <td>1</td>\n",
              "      <td>0</td>\n",
              "    </tr>\n",
              "    <tr>\n",
              "      <td>1</td>\n",
              "      <td>52</td>\n",
              "      <td>Wiraswasta</td>\n",
              "      <td>158993</td>\n",
              "      <td>3.0</td>\n",
              "      <td>9</td>\n",
              "      <td>Servis Lainnya</td>\n",
              "      <td>0</td>\n",
              "      <td>0.0</td>\n",
              "      <td>0.0</td>\n",
              "      <td>38.0</td>\n",
              "      <td>0</td>\n",
              "      <td>0</td>\n",
              "      <td>0</td>\n",
              "      <td>1</td>\n",
              "      <td>0</td>\n",
              "      <td>0</td>\n",
              "      <td>0</td>\n",
              "    </tr>\n",
              "    <tr>\n",
              "      <td>2</td>\n",
              "      <td>52</td>\n",
              "      <td>Pekerja Bebas Bukan Perusahan</td>\n",
              "      <td>284648</td>\n",
              "      <td>3.0</td>\n",
              "      <td>9</td>\n",
              "      <td>Ekesekutif Managerial</td>\n",
              "      <td>0</td>\n",
              "      <td>0.0</td>\n",
              "      <td>0.0</td>\n",
              "      <td>99.0</td>\n",
              "      <td>1</td>\n",
              "      <td>0</td>\n",
              "      <td>0</td>\n",
              "      <td>1</td>\n",
              "      <td>0</td>\n",
              "      <td>0</td>\n",
              "      <td>0</td>\n",
              "    </tr>\n",
              "    <tr>\n",
              "      <td>3</td>\n",
              "      <td>45</td>\n",
              "      <td>Wiraswasta</td>\n",
              "      <td>132847</td>\n",
              "      <td>3.0</td>\n",
              "      <td>9</td>\n",
              "      <td>Pembersih</td>\n",
              "      <td>0</td>\n",
              "      <td>0.0</td>\n",
              "      <td>0.0</td>\n",
              "      <td>40.0</td>\n",
              "      <td>0</td>\n",
              "      <td>1</td>\n",
              "      <td>0</td>\n",
              "      <td>0</td>\n",
              "      <td>0</td>\n",
              "      <td>0</td>\n",
              "      <td>0</td>\n",
              "    </tr>\n",
              "    <tr>\n",
              "      <td>4</td>\n",
              "      <td>28</td>\n",
              "      <td>Wiraswasta</td>\n",
              "      <td>103432</td>\n",
              "      <td>3.0</td>\n",
              "      <td>9</td>\n",
              "      <td>Supir</td>\n",
              "      <td>1</td>\n",
              "      <td>0.0</td>\n",
              "      <td>0.0</td>\n",
              "      <td>45.0</td>\n",
              "      <td>1</td>\n",
              "      <td>1</td>\n",
              "      <td>0</td>\n",
              "      <td>0</td>\n",
              "      <td>0</td>\n",
              "      <td>0</td>\n",
              "      <td>0</td>\n",
              "    </tr>\n",
              "    <tr>\n",
              "      <td>...</td>\n",
              "      <td>...</td>\n",
              "      <td>...</td>\n",
              "      <td>...</td>\n",
              "      <td>...</td>\n",
              "      <td>...</td>\n",
              "      <td>...</td>\n",
              "      <td>...</td>\n",
              "      <td>...</td>\n",
              "      <td>...</td>\n",
              "      <td>...</td>\n",
              "      <td>...</td>\n",
              "      <td>...</td>\n",
              "      <td>...</td>\n",
              "      <td>...</td>\n",
              "      <td>...</td>\n",
              "      <td>...</td>\n",
              "      <td>...</td>\n",
              "    </tr>\n",
              "    <tr>\n",
              "      <td>38388</td>\n",
              "      <td>47</td>\n",
              "      <td>Pekerja Bebas Bukan Perusahan</td>\n",
              "      <td>148169</td>\n",
              "      <td>3.0</td>\n",
              "      <td>9</td>\n",
              "      <td>Perbaikan Kerajinan</td>\n",
              "      <td>1</td>\n",
              "      <td>0.0</td>\n",
              "      <td>0.0</td>\n",
              "      <td>40.0</td>\n",
              "      <td>0</td>\n",
              "      <td>0</td>\n",
              "      <td>0</td>\n",
              "      <td>0</td>\n",
              "      <td>0</td>\n",
              "      <td>1</td>\n",
              "      <td>0</td>\n",
              "    </tr>\n",
              "    <tr>\n",
              "      <td>38389</td>\n",
              "      <td>69</td>\n",
              "      <td>Pekerja Bebas Perusahaan</td>\n",
              "      <td>264722</td>\n",
              "      <td>4.0</td>\n",
              "      <td>12</td>\n",
              "      <td>Sales</td>\n",
              "      <td>1</td>\n",
              "      <td>0.0</td>\n",
              "      <td>0.0</td>\n",
              "      <td>40.0</td>\n",
              "      <td>1</td>\n",
              "      <td>0</td>\n",
              "      <td>0</td>\n",
              "      <td>0</td>\n",
              "      <td>0</td>\n",
              "      <td>1</td>\n",
              "      <td>0</td>\n",
              "    </tr>\n",
              "    <tr>\n",
              "      <td>38390</td>\n",
              "      <td>24</td>\n",
              "      <td>Pekerja Bebas Bukan Perusahan</td>\n",
              "      <td>31606</td>\n",
              "      <td>5.0</td>\n",
              "      <td>13</td>\n",
              "      <td>Spesialis</td>\n",
              "      <td>0</td>\n",
              "      <td>0.0</td>\n",
              "      <td>0.0</td>\n",
              "      <td>20.0</td>\n",
              "      <td>1</td>\n",
              "      <td>0</td>\n",
              "      <td>0</td>\n",
              "      <td>0</td>\n",
              "      <td>0</td>\n",
              "      <td>1</td>\n",
              "      <td>0</td>\n",
              "    </tr>\n",
              "    <tr>\n",
              "      <td>38391</td>\n",
              "      <td>47</td>\n",
              "      <td>Wiraswasta</td>\n",
              "      <td>197836</td>\n",
              "      <td>3.0</td>\n",
              "      <td>9</td>\n",
              "      <td>Sales</td>\n",
              "      <td>1</td>\n",
              "      <td>0.0</td>\n",
              "      <td>0.0</td>\n",
              "      <td>45.0</td>\n",
              "      <td>0</td>\n",
              "      <td>0</td>\n",
              "      <td>0</td>\n",
              "      <td>0</td>\n",
              "      <td>0</td>\n",
              "      <td>1</td>\n",
              "      <td>0</td>\n",
              "    </tr>\n",
              "    <tr>\n",
              "      <td>38392</td>\n",
              "      <td>45</td>\n",
              "      <td>Wiraswasta</td>\n",
              "      <td>243743</td>\n",
              "      <td>5.0</td>\n",
              "      <td>13</td>\n",
              "      <td>Ekesekutif Managerial</td>\n",
              "      <td>1</td>\n",
              "      <td>0.0</td>\n",
              "      <td>0.0</td>\n",
              "      <td>60.0</td>\n",
              "      <td>1</td>\n",
              "      <td>0</td>\n",
              "      <td>0</td>\n",
              "      <td>0</td>\n",
              "      <td>0</td>\n",
              "      <td>1</td>\n",
              "      <td>0</td>\n",
              "    </tr>\n",
              "  </tbody>\n",
              "</table>\n",
              "<p>38393 rows × 17 columns</p>\n",
              "</div>"
            ],
            "text/plain": [
              "       Umur                  Kelas Pekerja  Berat Akhir  Pendidikan  \\\n",
              "0        59              Pemerintah Negara       139616         7.0   \n",
              "1        52                     Wiraswasta       158993         3.0   \n",
              "2        52  Pekerja Bebas Bukan Perusahan       284648         3.0   \n",
              "3        45                     Wiraswasta       132847         3.0   \n",
              "4        28                     Wiraswasta       103432         3.0   \n",
              "...     ...                            ...          ...         ...   \n",
              "38388    47  Pekerja Bebas Bukan Perusahan       148169         3.0   \n",
              "38389    69       Pekerja Bebas Perusahaan       264722         4.0   \n",
              "38390    24  Pekerja Bebas Bukan Perusahan        31606         5.0   \n",
              "38391    47                     Wiraswasta       197836         3.0   \n",
              "38392    45                     Wiraswasta       243743         5.0   \n",
              "\n",
              "       Jmlh Tahun Pendidikan              Pekerjaan  Jenis Kelamin  \\\n",
              "0                         14  Ekesekutif Managerial              1   \n",
              "1                          9         Servis Lainnya              0   \n",
              "2                          9  Ekesekutif Managerial              0   \n",
              "3                          9              Pembersih              0   \n",
              "4                          9                  Supir              1   \n",
              "...                      ...                    ...            ...   \n",
              "38388                      9    Perbaikan Kerajinan              1   \n",
              "38389                     12                  Sales              1   \n",
              "38390                     13              Spesialis              0   \n",
              "38391                      9                  Sales              1   \n",
              "38392                     13  Ekesekutif Managerial              1   \n",
              "\n",
              "       Keuntungan Kapital  Kerugian Capital  Jam per Minggu  Gaji  \\\n",
              "0                     0.0               0.0            50.0     1   \n",
              "1                     0.0               0.0            38.0     0   \n",
              "2                     0.0               0.0            99.0     1   \n",
              "3                     0.0               0.0            40.0     0   \n",
              "4                     0.0               0.0            45.0     1   \n",
              "...                   ...               ...             ...   ...   \n",
              "38388                 0.0               0.0            40.0     0   \n",
              "38389                 0.0               0.0            40.0     1   \n",
              "38390                 0.0               0.0            20.0     1   \n",
              "38391                 0.0               0.0            45.0     0   \n",
              "38392                 0.0               0.0            60.0     1   \n",
              "\n",
              "       Status Perkawinan_Belum Pernah Menikah  Status Perkawinan_Berpisah  \\\n",
              "0                                           0                           0   \n",
              "1                                           0                           0   \n",
              "2                                           0                           0   \n",
              "3                                           1                           0   \n",
              "4                                           1                           0   \n",
              "...                                       ...                         ...   \n",
              "38388                                       0                           0   \n",
              "38389                                       0                           0   \n",
              "38390                                       0                           0   \n",
              "38391                                       0                           0   \n",
              "38392                                       0                           0   \n",
              "\n",
              "       Status Perkawinan_Cerai  Status Perkawinan_Janda  \\\n",
              "0                            0                        0   \n",
              "1                            1                        0   \n",
              "2                            1                        0   \n",
              "3                            0                        0   \n",
              "4                            0                        0   \n",
              "...                        ...                      ...   \n",
              "38388                        0                        0   \n",
              "38389                        0                        0   \n",
              "38390                        0                        0   \n",
              "38391                        0                        0   \n",
              "38392                        0                        0   \n",
              "\n",
              "       Status Perkawinan_Menikah  Status Perkawinan_Menikah LDR  \n",
              "0                              1                              0  \n",
              "1                              0                              0  \n",
              "2                              0                              0  \n",
              "3                              0                              0  \n",
              "4                              0                              0  \n",
              "...                          ...                            ...  \n",
              "38388                          1                              0  \n",
              "38389                          1                              0  \n",
              "38390                          1                              0  \n",
              "38391                          1                              0  \n",
              "38392                          1                              0  \n",
              "\n",
              "[38393 rows x 17 columns]"
            ]
          },
          "metadata": {
            "tags": []
          },
          "execution_count": 15
        }
      ]
    },
    {
      "cell_type": "markdown",
      "metadata": {
        "id": "QOvwnd_fDMpe",
        "colab_type": "text"
      },
      "source": [
        "<strong>Kelas Pekerja</strong>"
      ]
    },
    {
      "cell_type": "code",
      "metadata": {
        "id": "ovf-bFWBDMpf",
        "colab_type": "code",
        "colab": {},
        "outputId": "4b1d8c3d-ffb1-4885-9b04-81cbc4478c4a"
      },
      "source": [
        "train['Kelas Pekerja'].value_counts()"
      ],
      "execution_count": null,
      "outputs": [
        {
          "output_type": "execute_result",
          "data": {
            "text/plain": [
              "Wiraswasta                       28793\n",
              "Pekerja Bebas Bukan Perusahan     3072\n",
              "Pemerintah Lokal                  2454\n",
              "Pemerintah Negara                 1579\n",
              "Pekerja Bebas Perusahaan          1345\n",
              "Pemerintah Provinsi               1128\n",
              "Tanpa di Bayar                      16\n",
              "Tidak Pernah Bekerja                 6\n",
              "Name: Kelas Pekerja, dtype: int64"
            ]
          },
          "metadata": {
            "tags": []
          },
          "execution_count": 16
        }
      ]
    },
    {
      "cell_type": "code",
      "metadata": {
        "id": "marKBJaHDMpi",
        "colab_type": "code",
        "colab": {},
        "outputId": "178fd219-4cc2-48ab-c1f8-c1d9b06bbb84"
      },
      "source": [
        "train = pd.get_dummies(train, columns = ['Kelas Pekerja'])\n",
        "test = pd.get_dummies(test, columns = ['Kelas Pekerja'])"
      ],
      "execution_count": null,
      "outputs": [
        {
          "output_type": "execute_result",
          "data": {
            "text/plain": [
              "\"\\nkelas_pekerja = {\\n    'Tidak Pernah Bekerja': 1,\\n    'Tanpa di Bayar':2,\\n    'Pekerja Bebas Bukan Perusahan':3,\\n    'Pekerja Bebas Perusahaan':4,\\n    'Wiraswasta':5,\\n    'Pemerintah Lokal':6,\\n    'Pemerintah Provinsi':7,\\n    'Pemerintah Negara':8\\n}\\n\\ndf = [train, test]\\n\\nfor data in df:\\n    data['Kelas Pekerja'] = data['Kelas Pekerja'].map(kelas_pekerja)\\n\""
            ]
          },
          "metadata": {
            "tags": []
          },
          "execution_count": 17
        }
      ]
    },
    {
      "cell_type": "code",
      "metadata": {
        "id": "VmOp-wA7DMpl",
        "colab_type": "code",
        "colab": {},
        "outputId": "e571abc6-7586-4b01-ea67-b8cf0794d7c7"
      },
      "source": [
        "train"
      ],
      "execution_count": null,
      "outputs": [
        {
          "output_type": "execute_result",
          "data": {
            "text/html": [
              "<div>\n",
              "<style scoped>\n",
              "    .dataframe tbody tr th:only-of-type {\n",
              "        vertical-align: middle;\n",
              "    }\n",
              "\n",
              "    .dataframe tbody tr th {\n",
              "        vertical-align: top;\n",
              "    }\n",
              "\n",
              "    .dataframe thead th {\n",
              "        text-align: right;\n",
              "    }\n",
              "</style>\n",
              "<table border=\"1\" class=\"dataframe\">\n",
              "  <thead>\n",
              "    <tr style=\"text-align: right;\">\n",
              "      <th></th>\n",
              "      <th>Umur</th>\n",
              "      <th>Berat Akhir</th>\n",
              "      <th>Pendidikan</th>\n",
              "      <th>Jmlh Tahun Pendidikan</th>\n",
              "      <th>Pekerjaan</th>\n",
              "      <th>Jenis Kelamin</th>\n",
              "      <th>Keuntungan Kapital</th>\n",
              "      <th>Kerugian Capital</th>\n",
              "      <th>Jam per Minggu</th>\n",
              "      <th>Gaji</th>\n",
              "      <th>...</th>\n",
              "      <th>Status Perkawinan_Menikah</th>\n",
              "      <th>Status Perkawinan_Menikah LDR</th>\n",
              "      <th>Kelas Pekerja_Pekerja Bebas Bukan Perusahan</th>\n",
              "      <th>Kelas Pekerja_Pekerja Bebas Perusahaan</th>\n",
              "      <th>Kelas Pekerja_Pemerintah Lokal</th>\n",
              "      <th>Kelas Pekerja_Pemerintah Negara</th>\n",
              "      <th>Kelas Pekerja_Pemerintah Provinsi</th>\n",
              "      <th>Kelas Pekerja_Tanpa di Bayar</th>\n",
              "      <th>Kelas Pekerja_Tidak Pernah Bekerja</th>\n",
              "      <th>Kelas Pekerja_Wiraswasta</th>\n",
              "    </tr>\n",
              "  </thead>\n",
              "  <tbody>\n",
              "    <tr>\n",
              "      <td>0</td>\n",
              "      <td>59</td>\n",
              "      <td>139616</td>\n",
              "      <td>7.0</td>\n",
              "      <td>14</td>\n",
              "      <td>Ekesekutif Managerial</td>\n",
              "      <td>1</td>\n",
              "      <td>0.0</td>\n",
              "      <td>0.0</td>\n",
              "      <td>50.0</td>\n",
              "      <td>1</td>\n",
              "      <td>...</td>\n",
              "      <td>1</td>\n",
              "      <td>0</td>\n",
              "      <td>0</td>\n",
              "      <td>0</td>\n",
              "      <td>0</td>\n",
              "      <td>1</td>\n",
              "      <td>0</td>\n",
              "      <td>0</td>\n",
              "      <td>0</td>\n",
              "      <td>0</td>\n",
              "    </tr>\n",
              "    <tr>\n",
              "      <td>1</td>\n",
              "      <td>52</td>\n",
              "      <td>158993</td>\n",
              "      <td>3.0</td>\n",
              "      <td>9</td>\n",
              "      <td>Servis Lainnya</td>\n",
              "      <td>0</td>\n",
              "      <td>0.0</td>\n",
              "      <td>0.0</td>\n",
              "      <td>38.0</td>\n",
              "      <td>0</td>\n",
              "      <td>...</td>\n",
              "      <td>0</td>\n",
              "      <td>0</td>\n",
              "      <td>0</td>\n",
              "      <td>0</td>\n",
              "      <td>0</td>\n",
              "      <td>0</td>\n",
              "      <td>0</td>\n",
              "      <td>0</td>\n",
              "      <td>0</td>\n",
              "      <td>1</td>\n",
              "    </tr>\n",
              "    <tr>\n",
              "      <td>2</td>\n",
              "      <td>52</td>\n",
              "      <td>284648</td>\n",
              "      <td>3.0</td>\n",
              "      <td>9</td>\n",
              "      <td>Ekesekutif Managerial</td>\n",
              "      <td>0</td>\n",
              "      <td>0.0</td>\n",
              "      <td>0.0</td>\n",
              "      <td>99.0</td>\n",
              "      <td>1</td>\n",
              "      <td>...</td>\n",
              "      <td>0</td>\n",
              "      <td>0</td>\n",
              "      <td>1</td>\n",
              "      <td>0</td>\n",
              "      <td>0</td>\n",
              "      <td>0</td>\n",
              "      <td>0</td>\n",
              "      <td>0</td>\n",
              "      <td>0</td>\n",
              "      <td>0</td>\n",
              "    </tr>\n",
              "    <tr>\n",
              "      <td>3</td>\n",
              "      <td>45</td>\n",
              "      <td>132847</td>\n",
              "      <td>3.0</td>\n",
              "      <td>9</td>\n",
              "      <td>Pembersih</td>\n",
              "      <td>0</td>\n",
              "      <td>0.0</td>\n",
              "      <td>0.0</td>\n",
              "      <td>40.0</td>\n",
              "      <td>0</td>\n",
              "      <td>...</td>\n",
              "      <td>0</td>\n",
              "      <td>0</td>\n",
              "      <td>0</td>\n",
              "      <td>0</td>\n",
              "      <td>0</td>\n",
              "      <td>0</td>\n",
              "      <td>0</td>\n",
              "      <td>0</td>\n",
              "      <td>0</td>\n",
              "      <td>1</td>\n",
              "    </tr>\n",
              "    <tr>\n",
              "      <td>4</td>\n",
              "      <td>28</td>\n",
              "      <td>103432</td>\n",
              "      <td>3.0</td>\n",
              "      <td>9</td>\n",
              "      <td>Supir</td>\n",
              "      <td>1</td>\n",
              "      <td>0.0</td>\n",
              "      <td>0.0</td>\n",
              "      <td>45.0</td>\n",
              "      <td>1</td>\n",
              "      <td>...</td>\n",
              "      <td>0</td>\n",
              "      <td>0</td>\n",
              "      <td>0</td>\n",
              "      <td>0</td>\n",
              "      <td>0</td>\n",
              "      <td>0</td>\n",
              "      <td>0</td>\n",
              "      <td>0</td>\n",
              "      <td>0</td>\n",
              "      <td>1</td>\n",
              "    </tr>\n",
              "    <tr>\n",
              "      <td>...</td>\n",
              "      <td>...</td>\n",
              "      <td>...</td>\n",
              "      <td>...</td>\n",
              "      <td>...</td>\n",
              "      <td>...</td>\n",
              "      <td>...</td>\n",
              "      <td>...</td>\n",
              "      <td>...</td>\n",
              "      <td>...</td>\n",
              "      <td>...</td>\n",
              "      <td>...</td>\n",
              "      <td>...</td>\n",
              "      <td>...</td>\n",
              "      <td>...</td>\n",
              "      <td>...</td>\n",
              "      <td>...</td>\n",
              "      <td>...</td>\n",
              "      <td>...</td>\n",
              "      <td>...</td>\n",
              "      <td>...</td>\n",
              "      <td>...</td>\n",
              "    </tr>\n",
              "    <tr>\n",
              "      <td>38388</td>\n",
              "      <td>47</td>\n",
              "      <td>148169</td>\n",
              "      <td>3.0</td>\n",
              "      <td>9</td>\n",
              "      <td>Perbaikan Kerajinan</td>\n",
              "      <td>1</td>\n",
              "      <td>0.0</td>\n",
              "      <td>0.0</td>\n",
              "      <td>40.0</td>\n",
              "      <td>0</td>\n",
              "      <td>...</td>\n",
              "      <td>1</td>\n",
              "      <td>0</td>\n",
              "      <td>1</td>\n",
              "      <td>0</td>\n",
              "      <td>0</td>\n",
              "      <td>0</td>\n",
              "      <td>0</td>\n",
              "      <td>0</td>\n",
              "      <td>0</td>\n",
              "      <td>0</td>\n",
              "    </tr>\n",
              "    <tr>\n",
              "      <td>38389</td>\n",
              "      <td>69</td>\n",
              "      <td>264722</td>\n",
              "      <td>4.0</td>\n",
              "      <td>12</td>\n",
              "      <td>Sales</td>\n",
              "      <td>1</td>\n",
              "      <td>0.0</td>\n",
              "      <td>0.0</td>\n",
              "      <td>40.0</td>\n",
              "      <td>1</td>\n",
              "      <td>...</td>\n",
              "      <td>1</td>\n",
              "      <td>0</td>\n",
              "      <td>0</td>\n",
              "      <td>1</td>\n",
              "      <td>0</td>\n",
              "      <td>0</td>\n",
              "      <td>0</td>\n",
              "      <td>0</td>\n",
              "      <td>0</td>\n",
              "      <td>0</td>\n",
              "    </tr>\n",
              "    <tr>\n",
              "      <td>38390</td>\n",
              "      <td>24</td>\n",
              "      <td>31606</td>\n",
              "      <td>5.0</td>\n",
              "      <td>13</td>\n",
              "      <td>Spesialis</td>\n",
              "      <td>0</td>\n",
              "      <td>0.0</td>\n",
              "      <td>0.0</td>\n",
              "      <td>20.0</td>\n",
              "      <td>1</td>\n",
              "      <td>...</td>\n",
              "      <td>1</td>\n",
              "      <td>0</td>\n",
              "      <td>1</td>\n",
              "      <td>0</td>\n",
              "      <td>0</td>\n",
              "      <td>0</td>\n",
              "      <td>0</td>\n",
              "      <td>0</td>\n",
              "      <td>0</td>\n",
              "      <td>0</td>\n",
              "    </tr>\n",
              "    <tr>\n",
              "      <td>38391</td>\n",
              "      <td>47</td>\n",
              "      <td>197836</td>\n",
              "      <td>3.0</td>\n",
              "      <td>9</td>\n",
              "      <td>Sales</td>\n",
              "      <td>1</td>\n",
              "      <td>0.0</td>\n",
              "      <td>0.0</td>\n",
              "      <td>45.0</td>\n",
              "      <td>0</td>\n",
              "      <td>...</td>\n",
              "      <td>1</td>\n",
              "      <td>0</td>\n",
              "      <td>0</td>\n",
              "      <td>0</td>\n",
              "      <td>0</td>\n",
              "      <td>0</td>\n",
              "      <td>0</td>\n",
              "      <td>0</td>\n",
              "      <td>0</td>\n",
              "      <td>1</td>\n",
              "    </tr>\n",
              "    <tr>\n",
              "      <td>38392</td>\n",
              "      <td>45</td>\n",
              "      <td>243743</td>\n",
              "      <td>5.0</td>\n",
              "      <td>13</td>\n",
              "      <td>Ekesekutif Managerial</td>\n",
              "      <td>1</td>\n",
              "      <td>0.0</td>\n",
              "      <td>0.0</td>\n",
              "      <td>60.0</td>\n",
              "      <td>1</td>\n",
              "      <td>...</td>\n",
              "      <td>1</td>\n",
              "      <td>0</td>\n",
              "      <td>0</td>\n",
              "      <td>0</td>\n",
              "      <td>0</td>\n",
              "      <td>0</td>\n",
              "      <td>0</td>\n",
              "      <td>0</td>\n",
              "      <td>0</td>\n",
              "      <td>1</td>\n",
              "    </tr>\n",
              "  </tbody>\n",
              "</table>\n",
              "<p>38393 rows × 24 columns</p>\n",
              "</div>"
            ],
            "text/plain": [
              "       Umur  Berat Akhir  Pendidikan  Jmlh Tahun Pendidikan  \\\n",
              "0        59       139616         7.0                     14   \n",
              "1        52       158993         3.0                      9   \n",
              "2        52       284648         3.0                      9   \n",
              "3        45       132847         3.0                      9   \n",
              "4        28       103432         3.0                      9   \n",
              "...     ...          ...         ...                    ...   \n",
              "38388    47       148169         3.0                      9   \n",
              "38389    69       264722         4.0                     12   \n",
              "38390    24        31606         5.0                     13   \n",
              "38391    47       197836         3.0                      9   \n",
              "38392    45       243743         5.0                     13   \n",
              "\n",
              "                   Pekerjaan  Jenis Kelamin  Keuntungan Kapital  \\\n",
              "0      Ekesekutif Managerial              1                 0.0   \n",
              "1             Servis Lainnya              0                 0.0   \n",
              "2      Ekesekutif Managerial              0                 0.0   \n",
              "3                  Pembersih              0                 0.0   \n",
              "4                      Supir              1                 0.0   \n",
              "...                      ...            ...                 ...   \n",
              "38388    Perbaikan Kerajinan              1                 0.0   \n",
              "38389                  Sales              1                 0.0   \n",
              "38390              Spesialis              0                 0.0   \n",
              "38391                  Sales              1                 0.0   \n",
              "38392  Ekesekutif Managerial              1                 0.0   \n",
              "\n",
              "       Kerugian Capital  Jam per Minggu  Gaji  ...  Status Perkawinan_Menikah  \\\n",
              "0                   0.0            50.0     1  ...                          1   \n",
              "1                   0.0            38.0     0  ...                          0   \n",
              "2                   0.0            99.0     1  ...                          0   \n",
              "3                   0.0            40.0     0  ...                          0   \n",
              "4                   0.0            45.0     1  ...                          0   \n",
              "...                 ...             ...   ...  ...                        ...   \n",
              "38388               0.0            40.0     0  ...                          1   \n",
              "38389               0.0            40.0     1  ...                          1   \n",
              "38390               0.0            20.0     1  ...                          1   \n",
              "38391               0.0            45.0     0  ...                          1   \n",
              "38392               0.0            60.0     1  ...                          1   \n",
              "\n",
              "       Status Perkawinan_Menikah LDR  \\\n",
              "0                                  0   \n",
              "1                                  0   \n",
              "2                                  0   \n",
              "3                                  0   \n",
              "4                                  0   \n",
              "...                              ...   \n",
              "38388                              0   \n",
              "38389                              0   \n",
              "38390                              0   \n",
              "38391                              0   \n",
              "38392                              0   \n",
              "\n",
              "       Kelas Pekerja_Pekerja Bebas Bukan Perusahan  \\\n",
              "0                                                0   \n",
              "1                                                0   \n",
              "2                                                1   \n",
              "3                                                0   \n",
              "4                                                0   \n",
              "...                                            ...   \n",
              "38388                                            1   \n",
              "38389                                            0   \n",
              "38390                                            1   \n",
              "38391                                            0   \n",
              "38392                                            0   \n",
              "\n",
              "       Kelas Pekerja_Pekerja Bebas Perusahaan  Kelas Pekerja_Pemerintah Lokal  \\\n",
              "0                                           0                               0   \n",
              "1                                           0                               0   \n",
              "2                                           0                               0   \n",
              "3                                           0                               0   \n",
              "4                                           0                               0   \n",
              "...                                       ...                             ...   \n",
              "38388                                       0                               0   \n",
              "38389                                       1                               0   \n",
              "38390                                       0                               0   \n",
              "38391                                       0                               0   \n",
              "38392                                       0                               0   \n",
              "\n",
              "       Kelas Pekerja_Pemerintah Negara  Kelas Pekerja_Pemerintah Provinsi  \\\n",
              "0                                    1                                  0   \n",
              "1                                    0                                  0   \n",
              "2                                    0                                  0   \n",
              "3                                    0                                  0   \n",
              "4                                    0                                  0   \n",
              "...                                ...                                ...   \n",
              "38388                                0                                  0   \n",
              "38389                                0                                  0   \n",
              "38390                                0                                  0   \n",
              "38391                                0                                  0   \n",
              "38392                                0                                  0   \n",
              "\n",
              "       Kelas Pekerja_Tanpa di Bayar  Kelas Pekerja_Tidak Pernah Bekerja  \\\n",
              "0                                 0                                   0   \n",
              "1                                 0                                   0   \n",
              "2                                 0                                   0   \n",
              "3                                 0                                   0   \n",
              "4                                 0                                   0   \n",
              "...                             ...                                 ...   \n",
              "38388                             0                                   0   \n",
              "38389                             0                                   0   \n",
              "38390                             0                                   0   \n",
              "38391                             0                                   0   \n",
              "38392                             0                                   0   \n",
              "\n",
              "       Kelas Pekerja_Wiraswasta  \n",
              "0                             0  \n",
              "1                             1  \n",
              "2                             0  \n",
              "3                             1  \n",
              "4                             1  \n",
              "...                         ...  \n",
              "38388                         0  \n",
              "38389                         0  \n",
              "38390                         0  \n",
              "38391                         1  \n",
              "38392                         1  \n",
              "\n",
              "[38393 rows x 24 columns]"
            ]
          },
          "metadata": {
            "tags": []
          },
          "execution_count": 18
        }
      ]
    },
    {
      "cell_type": "markdown",
      "metadata": {
        "id": "W8SbqJ9-DMpo",
        "colab_type": "text"
      },
      "source": [
        "<strong>Pekerjaan</strong>"
      ]
    },
    {
      "cell_type": "code",
      "metadata": {
        "id": "YBC6fJKdDMpo",
        "colab_type": "code",
        "colab": {},
        "outputId": "9edf67e9-9fc8-4ee0-db29-386d50f7cf24"
      },
      "source": [
        "train['Pekerjaan'].value_counts()"
      ],
      "execution_count": null,
      "outputs": [
        {
          "output_type": "execute_result",
          "data": {
            "text/plain": [
              "Spesialis                7121\n",
              "Ekesekutif Managerial    4790\n",
              "Perbaikan Kerajinan      4788\n",
              "Pemuka Agama             4408\n",
              "Sales                    4323\n",
              "Servis Lainnya           3859\n",
              "Mesin Inspeksi           2380\n",
              "Supir                    1859\n",
              "Pembersih                1650\n",
              "Petani                   1150\n",
              "Tech-support             1122\n",
              "Penjaga                   734\n",
              "Asisten Rumah Tangga      198\n",
              "Tentara                    11\n",
              "Name: Pekerjaan, dtype: int64"
            ]
          },
          "metadata": {
            "tags": []
          },
          "execution_count": 19
        }
      ]
    },
    {
      "cell_type": "code",
      "metadata": {
        "id": "GTWYYsx6DMpr",
        "colab_type": "code",
        "colab": {}
      },
      "source": [
        "train = pd.get_dummies(train, columns = ['Pekerjaan'])\n",
        "test = pd.get_dummies(test, columns = ['Pekerjaan'])"
      ],
      "execution_count": null,
      "outputs": []
    },
    {
      "cell_type": "markdown",
      "metadata": {
        "id": "tR4cRZQtDMpt",
        "colab_type": "text"
      },
      "source": [
        "<strong>Berat Akhir</strong>"
      ]
    },
    {
      "cell_type": "code",
      "metadata": {
        "id": "OwVhDLbcDMpu",
        "colab_type": "code",
        "colab": {}
      },
      "source": [
        "train = train.drop('Berat Akhir', axis=1)\n",
        "test = test.drop('Berat Akhir', axis=1)"
      ],
      "execution_count": null,
      "outputs": []
    },
    {
      "cell_type": "markdown",
      "metadata": {
        "id": "JYHpUHVVDMp0",
        "colab_type": "text"
      },
      "source": [
        "<strong>Keuntungan & Kerugian Capital</strong>"
      ]
    },
    {
      "cell_type": "code",
      "metadata": {
        "id": "zlR8DuPDDMp2",
        "colab_type": "code",
        "colab": {}
      },
      "source": [
        "train.loc[train['Kerugian Capital']!=0, 'Kerugian Capital'] = 1\n",
        "test.loc[test['Kerugian Capital']!=0, 'Kerugian Capital'] = 1"
      ],
      "execution_count": null,
      "outputs": []
    },
    {
      "cell_type": "markdown",
      "metadata": {
        "id": "m6jJWP6SDMp7",
        "colab_type": "text"
      },
      "source": [
        "<strong>Jam per Minggu</strong>"
      ]
    },
    {
      "cell_type": "code",
      "metadata": {
        "id": "GUceqh71DMp8",
        "colab_type": "code",
        "colab": {},
        "outputId": "79326af0-c021-427d-f63d-742fdfbccd18"
      },
      "source": [
        "print(test['Jam per Minggu'].max())\n",
        "print(test['Jam per Minggu'].min())"
      ],
      "execution_count": null,
      "outputs": [
        {
          "output_type": "stream",
          "text": [
            "99.0\n",
            "1.0\n"
          ],
          "name": "stdout"
        }
      ]
    },
    {
      "cell_type": "code",
      "metadata": {
        "id": "qTjpYnQYDMqA",
        "colab_type": "code",
        "colab": {},
        "outputId": "65baf0ba-fd24-4a05-ad62-68a8187dd66e"
      },
      "source": [
        "train['Jam per Minggu'].astype(int)\n",
        "test['Jam per Minggu'].astype(int)"
      ],
      "execution_count": null,
      "outputs": [
        {
          "output_type": "execute_result",
          "data": {
            "text/plain": [
              "0       40\n",
              "1       50\n",
              "2       40\n",
              "3       40\n",
              "4       40\n",
              "        ..\n",
              "9594    40\n",
              "9595    50\n",
              "9596    32\n",
              "9597    40\n",
              "9598    80\n",
              "Name: Jam per Minggu, Length: 9599, dtype: int32"
            ]
          },
          "metadata": {
            "tags": []
          },
          "execution_count": 24
        }
      ]
    },
    {
      "cell_type": "code",
      "metadata": {
        "id": "ru-7rLMCDMqE",
        "colab_type": "code",
        "colab": {}
      },
      "source": [
        "df = [train, test]\n",
        "\n",
        "for data in df:\n",
        "    data.loc[(data['Jam per Minggu']>0) & (data['Jam per Minggu']<10), 'Jam per Minggu'] = 1\n",
        "    data.loc[(data['Jam per Minggu']>=10) & (data['Jam per Minggu']<20), 'Jam per Minggu'] = 2\n",
        "    data.loc[(data['Jam per Minggu']>=20) & (data['Jam per Minggu']<30), 'Jam per Minggu'] = 3\n",
        "    data.loc[(data['Jam per Minggu']>=30) & (data['Jam per Minggu']<40), 'Jam per Minggu'] = 4\n",
        "    data.loc[(data['Jam per Minggu']>=40) & (data['Jam per Minggu']<50), 'Jam per Minggu'] = 5\n",
        "    data.loc[(data['Jam per Minggu']>=50) & (data['Jam per Minggu']<60), 'Jam per Minggu'] = 6\n",
        "    data.loc[(data['Jam per Minggu']>=60) & (data['Jam per Minggu']<70), 'Jam per Minggu'] = 7\n",
        "    data.loc[(data['Jam per Minggu']>=70) & (data['Jam per Minggu']<80), 'Jam per Minggu'] = 8\n",
        "    data.loc[(data['Jam per Minggu']>=80) & (data['Jam per Minggu']<90), 'Jam per Minggu'] = 9\n",
        "    data.loc[(data['Jam per Minggu']>=90) & (data['Jam per Minggu']<100), 'Jam per Minggu'] = 10\n",
        "    "
      ],
      "execution_count": null,
      "outputs": []
    },
    {
      "cell_type": "markdown",
      "metadata": {
        "id": "x1MTEzWWDMqI",
        "colab_type": "text"
      },
      "source": [
        "<strong>Umur</strong>"
      ]
    },
    {
      "cell_type": "code",
      "metadata": {
        "id": "qWsTXG7dDMqI",
        "colab_type": "code",
        "colab": {},
        "outputId": "0eb8a30c-3f20-45ed-956e-0005b03149dd"
      },
      "source": [
        "test['Umur'].max()"
      ],
      "execution_count": null,
      "outputs": [
        {
          "output_type": "execute_result",
          "data": {
            "text/plain": [
              "90"
            ]
          },
          "metadata": {
            "tags": []
          },
          "execution_count": 26
        }
      ]
    },
    {
      "cell_type": "code",
      "metadata": {
        "id": "WvkR3xdpDMqN",
        "colab_type": "code",
        "colab": {},
        "outputId": "c3c8fca8-ab55-4b09-ea79-a4966d037775"
      },
      "source": [
        "test['Umur'].min()"
      ],
      "execution_count": null,
      "outputs": [
        {
          "output_type": "execute_result",
          "data": {
            "text/plain": [
              "17"
            ]
          },
          "metadata": {
            "tags": []
          },
          "execution_count": 27
        }
      ]
    },
    {
      "cell_type": "code",
      "metadata": {
        "id": "2rJGp_JTDMqR",
        "colab_type": "code",
        "colab": {}
      },
      "source": [
        "df = [train, test]\n",
        "\n",
        "for data in df:\n",
        "    data.loc[(data['Umur']>=16) & (data['Umur']<20), 'Umur'] = 1\n",
        "    data.loc[(data['Umur']>=20) & (data['Umur']<30), 'Umur'] = 2\n",
        "    data.loc[(data['Umur']>=30) & (data['Umur']<40), 'Umur'] = 3\n",
        "    data.loc[(data['Umur']>=40) & (data['Umur']<50), 'Umur'] = 4\n",
        "    data.loc[(data['Umur']>=50) & (data['Umur']<60), 'Umur'] = 5\n",
        "    data.loc[(data['Umur']>=60) & (data['Umur']<70), 'Umur'] = 7\n",
        "    data.loc[(data['Umur']>=70) & (data['Umur']<80), 'Umur'] = 8\n",
        "    data.loc[(data['Umur']>=80) & (data['Umur']<90), 'Umur'] = 9\n",
        "    "
      ],
      "execution_count": null,
      "outputs": []
    },
    {
      "cell_type": "markdown",
      "metadata": {
        "id": "37hiDiNQDMqV",
        "colab_type": "text"
      },
      "source": [
        "<h1>Preparation for Testing</h1>"
      ]
    },
    {
      "cell_type": "code",
      "metadata": {
        "id": "HjiJeppsDMqV",
        "colab_type": "code",
        "colab": {}
      },
      "source": [
        "train_scale = train\n",
        "test_scale = test"
      ],
      "execution_count": null,
      "outputs": []
    },
    {
      "cell_type": "code",
      "metadata": {
        "id": "b39cHX6DDMqY",
        "colab_type": "code",
        "colab": {}
      },
      "source": [
        "X_train = train_scale.drop('Gaji', axis=1)\n",
        "y_train = train_scale['Gaji']"
      ],
      "execution_count": null,
      "outputs": []
    },
    {
      "cell_type": "code",
      "metadata": {
        "id": "aPTfaN1PDMqc",
        "colab_type": "code",
        "colab": {}
      },
      "source": [
        "train_c = list(train.columns)\n",
        "train_t = list(test.columns)"
      ],
      "execution_count": null,
      "outputs": []
    },
    {
      "cell_type": "code",
      "metadata": {
        "id": "BsFlGvAiDMqf",
        "colab_type": "code",
        "colab": {},
        "outputId": "8356f46a-4a75-4331-cdcb-7f3658e83134"
      },
      "source": [
        "train_c.pop(7)"
      ],
      "execution_count": null,
      "outputs": [
        {
          "output_type": "execute_result",
          "data": {
            "text/plain": [
              "'Gaji'"
            ]
          },
          "metadata": {
            "tags": []
          },
          "execution_count": 32
        }
      ]
    },
    {
      "cell_type": "code",
      "metadata": {
        "id": "9NUfRCtsDMqj",
        "colab_type": "code",
        "colab": {}
      },
      "source": [
        "from sklearn.preprocessing import MinMaxScaler\n",
        "\n",
        "scaler = MinMaxScaler(feature_range=(0, 1))\n",
        "X_train = scaler.fit_transform(X_train)\n",
        "test = scaler.fit_transform(test)"
      ],
      "execution_count": null,
      "outputs": []
    },
    {
      "cell_type": "code",
      "metadata": {
        "id": "gKIeFWoyDMqy",
        "colab_type": "code",
        "colab": {}
      },
      "source": [
        "X_train = pd.DataFrame(X_train, columns=train_c)\n",
        "test = pd.DataFrame(test, columns=train_t)"
      ],
      "execution_count": null,
      "outputs": []
    },
    {
      "cell_type": "markdown",
      "metadata": {
        "id": "7A-7uyPiDMq_",
        "colab_type": "text"
      },
      "source": [
        "<h1>Modeling</h1>"
      ]
    },
    {
      "cell_type": "code",
      "metadata": {
        "id": "12k3moywDMrA",
        "colab_type": "code",
        "colab": {}
      },
      "source": [
        "# Importing Classifier Modules\n",
        "from sklearn.neighbors import KNeighborsClassifier\n",
        "from sklearn.tree import DecisionTreeClassifier\n",
        "from sklearn.ensemble import RandomForestClassifier\n",
        "from sklearn.naive_bayes import GaussianNB\n",
        "from sklearn.model_selection import cross_val_score\n",
        "from sklearn.svm import SVC\n",
        "\n",
        "import numpy as np"
      ],
      "execution_count": null,
      "outputs": []
    },
    {
      "cell_type": "markdown",
      "metadata": {
        "id": "ukQM5li0DMrD",
        "colab_type": "text"
      },
      "source": [
        "KNN"
      ]
    },
    {
      "cell_type": "code",
      "metadata": {
        "id": "VK8Bh3nNDMrE",
        "colab_type": "code",
        "colab": {},
        "outputId": "bf0d225d-787f-402f-abe8-fe7eae8c9e21"
      },
      "source": [
        "model = KNeighborsClassifier(n_neighbors=5)\n",
        "scoring = 'roc_auc'\n",
        "cross_val_score(model, X_train, y_train, scoring=scoring, cv=5).mean()"
      ],
      "execution_count": null,
      "outputs": [
        {
          "output_type": "execute_result",
          "data": {
            "text/plain": [
              "0.8436568519912836"
            ]
          },
          "metadata": {
            "tags": []
          },
          "execution_count": 262
        }
      ]
    },
    {
      "cell_type": "markdown",
      "metadata": {
        "id": "Ndh3VM_vDMrK",
        "colab_type": "text"
      },
      "source": [
        "Decision Tree"
      ]
    },
    {
      "cell_type": "code",
      "metadata": {
        "id": "WPQrPeiVDMrN",
        "colab_type": "code",
        "colab": {},
        "outputId": "0a6e0f8e-ac11-4131-b63a-321d40d01159"
      },
      "source": [
        "model = DecisionTreeClassifier()\n",
        "scoring = 'roc_auc'\n",
        "cross_val_score(model, X_train, y_train, scoring=scoring, cv=5).mean()"
      ],
      "execution_count": null,
      "outputs": [
        {
          "output_type": "execute_result",
          "data": {
            "text/plain": [
              "0.8230020582968312"
            ]
          },
          "metadata": {
            "tags": []
          },
          "execution_count": 263
        }
      ]
    },
    {
      "cell_type": "markdown",
      "metadata": {
        "id": "VTB5Ywp1DMrV",
        "colab_type": "text"
      },
      "source": [
        "Random Forest"
      ]
    },
    {
      "cell_type": "code",
      "metadata": {
        "id": "Xh4i7vipDMrV",
        "colab_type": "code",
        "colab": {},
        "outputId": "8dfdffe1-6f84-4c6e-cc4d-deb64042b9d5"
      },
      "source": [
        "model = RandomForestClassifier(n_estimators=5)\n",
        "scoring = 'roc_auc'\n",
        "cross_val_score(model, X_train, y_train, scoring=scoring, cv=5).mean()"
      ],
      "execution_count": null,
      "outputs": [
        {
          "output_type": "execute_result",
          "data": {
            "text/plain": [
              "0.8654794462135704"
            ]
          },
          "metadata": {
            "tags": []
          },
          "execution_count": 264
        }
      ]
    },
    {
      "cell_type": "markdown",
      "metadata": {
        "id": "vyxG_7aVDMrZ",
        "colab_type": "text"
      },
      "source": [
        "Gaussian Naive Bayes"
      ]
    },
    {
      "cell_type": "code",
      "metadata": {
        "id": "iwQCVyV9DMra",
        "colab_type": "code",
        "colab": {},
        "outputId": "517354ae-8d14-4143-99b8-f0ea8b12cbf1"
      },
      "source": [
        "model = GaussianNB()\n",
        "scoring = 'roc_auc'\n",
        "cross_val_score(model, X_train, y_train, scoring=scoring, cv=5).mean()"
      ],
      "execution_count": null,
      "outputs": [
        {
          "output_type": "execute_result",
          "data": {
            "text/plain": [
              "0.8589143816885612"
            ]
          },
          "metadata": {
            "tags": []
          },
          "execution_count": 265
        }
      ]
    },
    {
      "cell_type": "markdown",
      "metadata": {
        "id": "nqeHHLMNDMrf",
        "colab_type": "text"
      },
      "source": [
        "Linear SVC"
      ]
    },
    {
      "cell_type": "code",
      "metadata": {
        "id": "ZSFZEsMiDMrg",
        "colab_type": "code",
        "colab": {},
        "outputId": "d2de3926-948f-4418-e051-6df725443475"
      },
      "source": [
        "model = LinearSVC()\n",
        "scoring = 'roc_auc'\n",
        "cross_val_score(model, X_train, y_train, scoring=scoring, cv=5).mean()"
      ],
      "execution_count": null,
      "outputs": [
        {
          "output_type": "execute_result",
          "data": {
            "text/plain": [
              "0.8982277945048451"
            ]
          },
          "metadata": {
            "tags": []
          },
          "execution_count": 266
        }
      ]
    },
    {
      "cell_type": "markdown",
      "metadata": {
        "id": "9d7YOvrkDMrl",
        "colab_type": "text"
      },
      "source": [
        "<h1>Selected: KNN</h1>"
      ]
    },
    {
      "cell_type": "markdown",
      "metadata": {
        "id": "reBJkKVTDMrl",
        "colab_type": "text"
      },
      "source": [
        "<h3>Reduction</h3>"
      ]
    },
    {
      "cell_type": "code",
      "metadata": {
        "id": "SERrm_VJDMrm",
        "colab_type": "code",
        "colab": {}
      },
      "source": [
        "from sklearn.feature_selection import RFE\n",
        "\n",
        "model = LinearSVC(fit_intercept=True)\n",
        "selector=RFE(model, n_features_to_select=20)\n",
        "selector=selector.fit(X_train,y_train)"
      ],
      "execution_count": null,
      "outputs": []
    },
    {
      "cell_type": "code",
      "metadata": {
        "id": "pHR285nPDMrp",
        "colab_type": "code",
        "colab": {}
      },
      "source": [
        "b = selector.support_"
      ],
      "execution_count": null,
      "outputs": []
    },
    {
      "cell_type": "code",
      "metadata": {
        "id": "j8qMiRIKDMrs",
        "colab_type": "code",
        "colab": {},
        "outputId": "50ebe3d7-f955-434d-e509-6d560d53682f"
      },
      "source": [
        "idx=[]\n",
        "for i in range(len(b)):\n",
        "    if b[i]==False:\n",
        "        idx.append(i)\n",
        "\n",
        "idx"
      ],
      "execution_count": null,
      "outputs": [
        {
          "output_type": "execute_result",
          "data": {
            "text/plain": [
              "[3, 14, 15, 17, 19, 20, 23, 25, 26, 27, 29, 31, 32, 33, 34]"
            ]
          },
          "metadata": {
            "tags": []
          },
          "execution_count": 270
        }
      ]
    },
    {
      "cell_type": "code",
      "metadata": {
        "id": "wFxqL26cDMrv",
        "colab_type": "code",
        "colab": {}
      },
      "source": [
        "a = list(X_train.columns)"
      ],
      "execution_count": null,
      "outputs": []
    },
    {
      "cell_type": "code",
      "metadata": {
        "id": "dakybdf6DMrz",
        "colab_type": "code",
        "colab": {},
        "outputId": "2de9fa7f-575a-4d81-892e-4237fa980c77"
      },
      "source": [
        "a[33]"
      ],
      "execution_count": null,
      "outputs": [
        {
          "output_type": "execute_result",
          "data": {
            "text/plain": [
              "'Pekerjaan_Tech-support'"
            ]
          },
          "metadata": {
            "tags": []
          },
          "execution_count": 293
        }
      ]
    },
    {
      "cell_type": "code",
      "metadata": {
        "id": "ya3b4M05DMr3",
        "colab_type": "code",
        "colab": {},
        "outputId": "f61319a8-ecfa-4619-ef54-d8d5e4ee90c3"
      },
      "source": [
        "\"\"\"\n",
        "X_train.drop(['Jenis Kelamin','Kelas Pekerja_Pekerja Bebas Perusahaan', 'Kelas Pekerja_Pemerintah Lokal', 'Kelas Pekerja_Pemerintah Provinsi','Kelas Pekerja_Tidak Pernah Bekerja','Kelas Pekerja_Wiraswasta','Pekerjaan_Mesin Inspeksi', 'Pekerjaan_Pemuka Agama', 'Pekerjaan_Penjaga', 'Pekerjaan_Perbaikan Kerajinan','Pekerjaan_Sales','Pekerjaan_Spesialis','Pekerjaan_Supir','Pekerjaan_Tech-support','Pekerjaan_Supir'],axis=1)\n",
        "test.drop(['Jenis Kelamin','Kelas Pekerja_Pekerja Bebas Perusahaan', 'Kelas Pekerja_Pemerintah Lokal', 'Kelas Pekerja_Pemerintah Provinsi','Kelas Pekerja_Tidak Pernah Bekerja','Kelas Pekerja_Wiraswasta','Pekerjaan_Mesin Inspeksi', 'Pekerjaan_Pemuka Agama', 'Pekerjaan_Penjaga', 'Pekerjaan_Perbaikan Kerajinan','Pekerjaan_Sales','Pekerjaan_Spesialis','Pekerjaan_Supir','Pekerjaan_Tech-support','Pekerjaan_Supir'],axis=1)\n",
        "\"\"\""
      ],
      "execution_count": null,
      "outputs": [
        {
          "output_type": "execute_result",
          "data": {
            "text/html": [
              "<div>\n",
              "<style scoped>\n",
              "    .dataframe tbody tr th:only-of-type {\n",
              "        vertical-align: middle;\n",
              "    }\n",
              "\n",
              "    .dataframe tbody tr th {\n",
              "        vertical-align: top;\n",
              "    }\n",
              "\n",
              "    .dataframe thead th {\n",
              "        text-align: right;\n",
              "    }\n",
              "</style>\n",
              "<table border=\"1\" class=\"dataframe\">\n",
              "  <thead>\n",
              "    <tr style=\"text-align: right;\">\n",
              "      <th></th>\n",
              "      <th>Umur</th>\n",
              "      <th>Pendidikan</th>\n",
              "      <th>Jmlh Tahun Pendidikan</th>\n",
              "      <th>Keuntungan Kapital</th>\n",
              "      <th>Kerugian Capital</th>\n",
              "      <th>Jam per Minggu</th>\n",
              "      <th>Status Perkawinan_Belum Pernah Menikah</th>\n",
              "      <th>Status Perkawinan_Berpisah</th>\n",
              "      <th>Status Perkawinan_Cerai</th>\n",
              "      <th>Status Perkawinan_Janda</th>\n",
              "      <th>...</th>\n",
              "      <th>Status Perkawinan_Menikah LDR</th>\n",
              "      <th>Kelas Pekerja_Pekerja Bebas Bukan Perusahan</th>\n",
              "      <th>Kelas Pekerja_Pemerintah Negara</th>\n",
              "      <th>Kelas Pekerja_Tanpa di Bayar</th>\n",
              "      <th>Pekerjaan_Asisten Rumah Tangga</th>\n",
              "      <th>Pekerjaan_Ekesekutif Managerial</th>\n",
              "      <th>Pekerjaan_Pembersih</th>\n",
              "      <th>Pekerjaan_Petani</th>\n",
              "      <th>Pekerjaan_Servis Lainnya</th>\n",
              "      <th>Pekerjaan_Tentara</th>\n",
              "    </tr>\n",
              "  </thead>\n",
              "  <tbody>\n",
              "    <tr>\n",
              "      <td>0</td>\n",
              "      <td>0.022472</td>\n",
              "      <td>0.500000</td>\n",
              "      <td>0.666667</td>\n",
              "      <td>0.0</td>\n",
              "      <td>0.0</td>\n",
              "      <td>0.444444</td>\n",
              "      <td>0.0</td>\n",
              "      <td>0.0</td>\n",
              "      <td>1.0</td>\n",
              "      <td>0.0</td>\n",
              "      <td>...</td>\n",
              "      <td>0.0</td>\n",
              "      <td>0.0</td>\n",
              "      <td>0.0</td>\n",
              "      <td>0.0</td>\n",
              "      <td>0.0</td>\n",
              "      <td>0.0</td>\n",
              "      <td>0.0</td>\n",
              "      <td>0.0</td>\n",
              "      <td>0.0</td>\n",
              "      <td>0.0</td>\n",
              "    </tr>\n",
              "    <tr>\n",
              "      <td>1</td>\n",
              "      <td>0.011236</td>\n",
              "      <td>0.285714</td>\n",
              "      <td>0.533333</td>\n",
              "      <td>0.0</td>\n",
              "      <td>0.0</td>\n",
              "      <td>0.555556</td>\n",
              "      <td>0.0</td>\n",
              "      <td>0.0</td>\n",
              "      <td>0.0</td>\n",
              "      <td>0.0</td>\n",
              "      <td>...</td>\n",
              "      <td>0.0</td>\n",
              "      <td>0.0</td>\n",
              "      <td>0.0</td>\n",
              "      <td>0.0</td>\n",
              "      <td>0.0</td>\n",
              "      <td>0.0</td>\n",
              "      <td>0.0</td>\n",
              "      <td>0.0</td>\n",
              "      <td>0.0</td>\n",
              "      <td>0.0</td>\n",
              "    </tr>\n",
              "    <tr>\n",
              "      <td>2</td>\n",
              "      <td>0.022472</td>\n",
              "      <td>0.714286</td>\n",
              "      <td>0.600000</td>\n",
              "      <td>0.0</td>\n",
              "      <td>0.0</td>\n",
              "      <td>0.444444</td>\n",
              "      <td>0.0</td>\n",
              "      <td>0.0</td>\n",
              "      <td>0.0</td>\n",
              "      <td>0.0</td>\n",
              "      <td>...</td>\n",
              "      <td>0.0</td>\n",
              "      <td>0.0</td>\n",
              "      <td>0.0</td>\n",
              "      <td>0.0</td>\n",
              "      <td>0.0</td>\n",
              "      <td>0.0</td>\n",
              "      <td>0.0</td>\n",
              "      <td>0.0</td>\n",
              "      <td>0.0</td>\n",
              "      <td>0.0</td>\n",
              "    </tr>\n",
              "    <tr>\n",
              "      <td>3</td>\n",
              "      <td>0.044944</td>\n",
              "      <td>0.714286</td>\n",
              "      <td>0.600000</td>\n",
              "      <td>0.0</td>\n",
              "      <td>1.0</td>\n",
              "      <td>0.444444</td>\n",
              "      <td>0.0</td>\n",
              "      <td>0.0</td>\n",
              "      <td>0.0</td>\n",
              "      <td>0.0</td>\n",
              "      <td>...</td>\n",
              "      <td>0.0</td>\n",
              "      <td>0.0</td>\n",
              "      <td>0.0</td>\n",
              "      <td>0.0</td>\n",
              "      <td>0.0</td>\n",
              "      <td>1.0</td>\n",
              "      <td>0.0</td>\n",
              "      <td>0.0</td>\n",
              "      <td>0.0</td>\n",
              "      <td>0.0</td>\n",
              "    </tr>\n",
              "    <tr>\n",
              "      <td>4</td>\n",
              "      <td>0.011236</td>\n",
              "      <td>0.714286</td>\n",
              "      <td>0.600000</td>\n",
              "      <td>0.0</td>\n",
              "      <td>1.0</td>\n",
              "      <td>0.444444</td>\n",
              "      <td>1.0</td>\n",
              "      <td>0.0</td>\n",
              "      <td>0.0</td>\n",
              "      <td>0.0</td>\n",
              "      <td>...</td>\n",
              "      <td>0.0</td>\n",
              "      <td>0.0</td>\n",
              "      <td>0.0</td>\n",
              "      <td>0.0</td>\n",
              "      <td>0.0</td>\n",
              "      <td>0.0</td>\n",
              "      <td>0.0</td>\n",
              "      <td>0.0</td>\n",
              "      <td>0.0</td>\n",
              "      <td>0.0</td>\n",
              "    </tr>\n",
              "    <tr>\n",
              "      <td>...</td>\n",
              "      <td>...</td>\n",
              "      <td>...</td>\n",
              "      <td>...</td>\n",
              "      <td>...</td>\n",
              "      <td>...</td>\n",
              "      <td>...</td>\n",
              "      <td>...</td>\n",
              "      <td>...</td>\n",
              "      <td>...</td>\n",
              "      <td>...</td>\n",
              "      <td>...</td>\n",
              "      <td>...</td>\n",
              "      <td>...</td>\n",
              "      <td>...</td>\n",
              "      <td>...</td>\n",
              "      <td>...</td>\n",
              "      <td>...</td>\n",
              "      <td>...</td>\n",
              "      <td>...</td>\n",
              "      <td>...</td>\n",
              "      <td>...</td>\n",
              "    </tr>\n",
              "    <tr>\n",
              "      <td>9594</td>\n",
              "      <td>0.044944</td>\n",
              "      <td>0.214286</td>\n",
              "      <td>0.266667</td>\n",
              "      <td>0.0</td>\n",
              "      <td>0.0</td>\n",
              "      <td>0.444444</td>\n",
              "      <td>0.0</td>\n",
              "      <td>0.0</td>\n",
              "      <td>0.0</td>\n",
              "      <td>0.0</td>\n",
              "      <td>...</td>\n",
              "      <td>0.0</td>\n",
              "      <td>0.0</td>\n",
              "      <td>1.0</td>\n",
              "      <td>0.0</td>\n",
              "      <td>0.0</td>\n",
              "      <td>0.0</td>\n",
              "      <td>0.0</td>\n",
              "      <td>1.0</td>\n",
              "      <td>0.0</td>\n",
              "      <td>0.0</td>\n",
              "    </tr>\n",
              "    <tr>\n",
              "      <td>9595</td>\n",
              "      <td>0.033708</td>\n",
              "      <td>0.257143</td>\n",
              "      <td>0.400000</td>\n",
              "      <td>0.0</td>\n",
              "      <td>0.0</td>\n",
              "      <td>0.555556</td>\n",
              "      <td>0.0</td>\n",
              "      <td>0.0</td>\n",
              "      <td>0.0</td>\n",
              "      <td>0.0</td>\n",
              "      <td>...</td>\n",
              "      <td>0.0</td>\n",
              "      <td>1.0</td>\n",
              "      <td>0.0</td>\n",
              "      <td>0.0</td>\n",
              "      <td>0.0</td>\n",
              "      <td>0.0</td>\n",
              "      <td>0.0</td>\n",
              "      <td>0.0</td>\n",
              "      <td>0.0</td>\n",
              "      <td>0.0</td>\n",
              "    </tr>\n",
              "    <tr>\n",
              "      <td>9596</td>\n",
              "      <td>0.011236</td>\n",
              "      <td>0.714286</td>\n",
              "      <td>0.600000</td>\n",
              "      <td>0.0</td>\n",
              "      <td>0.0</td>\n",
              "      <td>0.333333</td>\n",
              "      <td>1.0</td>\n",
              "      <td>0.0</td>\n",
              "      <td>0.0</td>\n",
              "      <td>0.0</td>\n",
              "      <td>...</td>\n",
              "      <td>0.0</td>\n",
              "      <td>0.0</td>\n",
              "      <td>0.0</td>\n",
              "      <td>0.0</td>\n",
              "      <td>0.0</td>\n",
              "      <td>0.0</td>\n",
              "      <td>0.0</td>\n",
              "      <td>0.0</td>\n",
              "      <td>1.0</td>\n",
              "      <td>0.0</td>\n",
              "    </tr>\n",
              "    <tr>\n",
              "      <td>9597</td>\n",
              "      <td>0.033708</td>\n",
              "      <td>0.285714</td>\n",
              "      <td>0.533333</td>\n",
              "      <td>0.0</td>\n",
              "      <td>0.0</td>\n",
              "      <td>0.444444</td>\n",
              "      <td>0.0</td>\n",
              "      <td>1.0</td>\n",
              "      <td>0.0</td>\n",
              "      <td>0.0</td>\n",
              "      <td>...</td>\n",
              "      <td>0.0</td>\n",
              "      <td>0.0</td>\n",
              "      <td>0.0</td>\n",
              "      <td>0.0</td>\n",
              "      <td>0.0</td>\n",
              "      <td>0.0</td>\n",
              "      <td>0.0</td>\n",
              "      <td>0.0</td>\n",
              "      <td>0.0</td>\n",
              "      <td>0.0</td>\n",
              "    </tr>\n",
              "    <tr>\n",
              "      <td>9598</td>\n",
              "      <td>0.022472</td>\n",
              "      <td>0.285714</td>\n",
              "      <td>0.533333</td>\n",
              "      <td>0.0</td>\n",
              "      <td>0.0</td>\n",
              "      <td>0.888889</td>\n",
              "      <td>0.0</td>\n",
              "      <td>0.0</td>\n",
              "      <td>0.0</td>\n",
              "      <td>0.0</td>\n",
              "      <td>...</td>\n",
              "      <td>0.0</td>\n",
              "      <td>1.0</td>\n",
              "      <td>0.0</td>\n",
              "      <td>0.0</td>\n",
              "      <td>0.0</td>\n",
              "      <td>0.0</td>\n",
              "      <td>0.0</td>\n",
              "      <td>1.0</td>\n",
              "      <td>0.0</td>\n",
              "      <td>0.0</td>\n",
              "    </tr>\n",
              "  </tbody>\n",
              "</table>\n",
              "<p>9599 rows × 21 columns</p>\n",
              "</div>"
            ],
            "text/plain": [
              "          Umur  Pendidikan  Jmlh Tahun Pendidikan  Keuntungan Kapital  \\\n",
              "0     0.022472    0.500000               0.666667                 0.0   \n",
              "1     0.011236    0.285714               0.533333                 0.0   \n",
              "2     0.022472    0.714286               0.600000                 0.0   \n",
              "3     0.044944    0.714286               0.600000                 0.0   \n",
              "4     0.011236    0.714286               0.600000                 0.0   \n",
              "...        ...         ...                    ...                 ...   \n",
              "9594  0.044944    0.214286               0.266667                 0.0   \n",
              "9595  0.033708    0.257143               0.400000                 0.0   \n",
              "9596  0.011236    0.714286               0.600000                 0.0   \n",
              "9597  0.033708    0.285714               0.533333                 0.0   \n",
              "9598  0.022472    0.285714               0.533333                 0.0   \n",
              "\n",
              "      Kerugian Capital  Jam per Minggu  \\\n",
              "0                  0.0        0.444444   \n",
              "1                  0.0        0.555556   \n",
              "2                  0.0        0.444444   \n",
              "3                  1.0        0.444444   \n",
              "4                  1.0        0.444444   \n",
              "...                ...             ...   \n",
              "9594               0.0        0.444444   \n",
              "9595               0.0        0.555556   \n",
              "9596               0.0        0.333333   \n",
              "9597               0.0        0.444444   \n",
              "9598               0.0        0.888889   \n",
              "\n",
              "      Status Perkawinan_Belum Pernah Menikah  Status Perkawinan_Berpisah  \\\n",
              "0                                        0.0                         0.0   \n",
              "1                                        0.0                         0.0   \n",
              "2                                        0.0                         0.0   \n",
              "3                                        0.0                         0.0   \n",
              "4                                        1.0                         0.0   \n",
              "...                                      ...                         ...   \n",
              "9594                                     0.0                         0.0   \n",
              "9595                                     0.0                         0.0   \n",
              "9596                                     1.0                         0.0   \n",
              "9597                                     0.0                         1.0   \n",
              "9598                                     0.0                         0.0   \n",
              "\n",
              "      Status Perkawinan_Cerai  Status Perkawinan_Janda  ...  \\\n",
              "0                         1.0                      0.0  ...   \n",
              "1                         0.0                      0.0  ...   \n",
              "2                         0.0                      0.0  ...   \n",
              "3                         0.0                      0.0  ...   \n",
              "4                         0.0                      0.0  ...   \n",
              "...                       ...                      ...  ...   \n",
              "9594                      0.0                      0.0  ...   \n",
              "9595                      0.0                      0.0  ...   \n",
              "9596                      0.0                      0.0  ...   \n",
              "9597                      0.0                      0.0  ...   \n",
              "9598                      0.0                      0.0  ...   \n",
              "\n",
              "      Status Perkawinan_Menikah LDR  \\\n",
              "0                               0.0   \n",
              "1                               0.0   \n",
              "2                               0.0   \n",
              "3                               0.0   \n",
              "4                               0.0   \n",
              "...                             ...   \n",
              "9594                            0.0   \n",
              "9595                            0.0   \n",
              "9596                            0.0   \n",
              "9597                            0.0   \n",
              "9598                            0.0   \n",
              "\n",
              "      Kelas Pekerja_Pekerja Bebas Bukan Perusahan  \\\n",
              "0                                             0.0   \n",
              "1                                             0.0   \n",
              "2                                             0.0   \n",
              "3                                             0.0   \n",
              "4                                             0.0   \n",
              "...                                           ...   \n",
              "9594                                          0.0   \n",
              "9595                                          1.0   \n",
              "9596                                          0.0   \n",
              "9597                                          0.0   \n",
              "9598                                          1.0   \n",
              "\n",
              "      Kelas Pekerja_Pemerintah Negara  Kelas Pekerja_Tanpa di Bayar  \\\n",
              "0                                 0.0                           0.0   \n",
              "1                                 0.0                           0.0   \n",
              "2                                 0.0                           0.0   \n",
              "3                                 0.0                           0.0   \n",
              "4                                 0.0                           0.0   \n",
              "...                               ...                           ...   \n",
              "9594                              1.0                           0.0   \n",
              "9595                              0.0                           0.0   \n",
              "9596                              0.0                           0.0   \n",
              "9597                              0.0                           0.0   \n",
              "9598                              0.0                           0.0   \n",
              "\n",
              "      Pekerjaan_Asisten Rumah Tangga  Pekerjaan_Ekesekutif Managerial  \\\n",
              "0                                0.0                              0.0   \n",
              "1                                0.0                              0.0   \n",
              "2                                0.0                              0.0   \n",
              "3                                0.0                              1.0   \n",
              "4                                0.0                              0.0   \n",
              "...                              ...                              ...   \n",
              "9594                             0.0                              0.0   \n",
              "9595                             0.0                              0.0   \n",
              "9596                             0.0                              0.0   \n",
              "9597                             0.0                              0.0   \n",
              "9598                             0.0                              0.0   \n",
              "\n",
              "      Pekerjaan_Pembersih  Pekerjaan_Petani  Pekerjaan_Servis Lainnya  \\\n",
              "0                     0.0               0.0                       0.0   \n",
              "1                     0.0               0.0                       0.0   \n",
              "2                     0.0               0.0                       0.0   \n",
              "3                     0.0               0.0                       0.0   \n",
              "4                     0.0               0.0                       0.0   \n",
              "...                   ...               ...                       ...   \n",
              "9594                  0.0               1.0                       0.0   \n",
              "9595                  0.0               0.0                       0.0   \n",
              "9596                  0.0               0.0                       1.0   \n",
              "9597                  0.0               0.0                       0.0   \n",
              "9598                  0.0               1.0                       0.0   \n",
              "\n",
              "      Pekerjaan_Tentara  \n",
              "0                   0.0  \n",
              "1                   0.0  \n",
              "2                   0.0  \n",
              "3                   0.0  \n",
              "4                   0.0  \n",
              "...                 ...  \n",
              "9594                0.0  \n",
              "9595                0.0  \n",
              "9596                0.0  \n",
              "9597                0.0  \n",
              "9598                0.0  \n",
              "\n",
              "[9599 rows x 21 columns]"
            ]
          },
          "metadata": {
            "tags": []
          },
          "execution_count": 296
        }
      ]
    },
    {
      "cell_type": "markdown",
      "metadata": {
        "id": "H2fFGtNxDMr6",
        "colab_type": "text"
      },
      "source": [
        "<h3>Hyperparameter Tuning & Training</h3>"
      ]
    },
    {
      "cell_type": "code",
      "metadata": {
        "id": "dVtbeX3zDMr7",
        "colab_type": "code",
        "colab": {},
        "outputId": "aeedd9da-a633-4d94-cab1-d8d163cc6a1d"
      },
      "source": [
        "from sklearn.model_selection import GridSearchCV\n",
        "\n",
        "param_grid = {\n",
        "    'C':np.arange(1,3),\n",
        "    'max_iter':np.arange(1000,10000,1000)\n",
        "}\n",
        "\n",
        "model = LinearSVC()\n",
        "gscv = GridSearchCV(model, cv=5, param_grid=param_grid, scoring='roc_auc')\n",
        "gscv.fit(X_train,y_train)"
      ],
      "execution_count": null,
      "outputs": [
        {
          "output_type": "execute_result",
          "data": {
            "text/plain": [
              "GridSearchCV(cv=5, error_score='raise-deprecating',\n",
              "             estimator=LinearSVC(C=1.0, class_weight=None, dual=True,\n",
              "                                 fit_intercept=True, intercept_scaling=1,\n",
              "                                 loss='squared_hinge', max_iter=1000,\n",
              "                                 multi_class='ovr', penalty='l2',\n",
              "                                 random_state=None, tol=0.0001, verbose=0),\n",
              "             iid='warn', n_jobs=None,\n",
              "             param_grid={'C': array([1, 2]),\n",
              "                         'max_iter': array([1000, 2000, 3000, 4000, 5000, 6000, 7000, 8000, 9000])},\n",
              "             pre_dispatch='2*n_jobs', refit=True, return_train_score=False,\n",
              "             scoring='roc_auc', verbose=0)"
            ]
          },
          "metadata": {
            "tags": []
          },
          "execution_count": 341
        }
      ]
    },
    {
      "cell_type": "code",
      "metadata": {
        "id": "2qW8_YloDMsC",
        "colab_type": "code",
        "colab": {},
        "outputId": "2cd5b38b-08a4-4b65-993c-629da522219b"
      },
      "source": [
        "# Best parameters\n",
        "gscv.best_params_"
      ],
      "execution_count": null,
      "outputs": [
        {
          "output_type": "execute_result",
          "data": {
            "text/plain": [
              "{'C': 2, 'max_iter': 1000}"
            ]
          },
          "metadata": {
            "tags": []
          },
          "execution_count": 343
        }
      ]
    },
    {
      "cell_type": "code",
      "metadata": {
        "id": "znglv97ADMsM",
        "colab_type": "code",
        "colab": {}
      },
      "source": [
        "# Model training and prediction\n",
        "model_improved = SVC(gamma='auto')\n",
        "model_improved.fit(X_train,y_train)\n",
        "result = model_improved.predict(test)\n",
        "\n",
        "result"
      ],
      "execution_count": null,
      "outputs": []
    },
    {
      "cell_type": "code",
      "metadata": {
        "id": "GY3lv4BFDMsO",
        "colab_type": "code",
        "colab": {},
        "outputId": "dc903716-c6a9-4e85-ae76-4106d58cab50"
      },
      "source": [
        "result.sum()"
      ],
      "execution_count": null,
      "outputs": [
        {
          "output_type": "execute_result",
          "data": {
            "text/plain": [
              "1744"
            ]
          },
          "metadata": {
            "tags": []
          },
          "execution_count": 347
        }
      ]
    },
    {
      "cell_type": "code",
      "metadata": {
        "id": "Nu2OkI3nDMsU",
        "colab_type": "code",
        "colab": {}
      },
      "source": [
        "df_result = pd.DataFrame(result, columns=['Gaji'])\n",
        "df_predict = pd.read_csv('Pendapatan_test.csv')\n",
        "df_id = pd.DataFrame(df_predict['id'], columns=['id'])\n",
        "submission = df_id.join(df_result)\n",
        "\n",
        "submission.to_csv('submission.csv', index=False)"
      ],
      "execution_count": null,
      "outputs": []
    }
  ]
}