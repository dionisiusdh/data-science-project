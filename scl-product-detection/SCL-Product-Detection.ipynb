{
  "nbformat": 4,
  "nbformat_minor": 0,
  "metadata": {
    "kernelspec": {
      "language": "python",
      "display_name": "Python 3",
      "name": "python3"
    },
    "language_info": {
      "name": "python",
      "version": "3.7.6",
      "mimetype": "text/x-python",
      "codemirror_mode": {
        "name": "ipython",
        "version": 3
      },
      "pygments_lexer": "ipython3",
      "nbconvert_exporter": "python",
      "file_extension": ".py"
    },
    "colab": {
      "name": "SCL - Product Detection.ipynb",
      "provenance": [],
      "collapsed_sections": [
        "PS-CEzka6nO6",
        "rwu14mEYZIvS",
        "xoXuFzyzZOZ1",
        "SJ29515NZSFU",
        "Vky0nUCi69Nr",
        "KFX0hKyLXNyx",
        "G1DnHE8-7Fup",
        "2mA_ZoB37MxS",
        "bpaWc29f7Ovp",
        "cgCcn_VVYGJa",
        "P9DfdJ29jC20",
        "6X0TL3eAVA24",
        "Vb1HLqTl5pIH",
        "y1njNdSq58Qz"
      ]
    },
    "accelerator": "GPU"
  },
  "cells": [
    {
      "cell_type": "markdown",
      "metadata": {
        "id": "6QTizGwU0ld9",
        "colab_type": "text"
      },
      "source": [
        "# **Shopee Code League** - *Product Detection*"
      ]
    },
    {
      "cell_type": "markdown",
      "metadata": {
        "id": "mCS8Eb3_4-Bm",
        "colab_type": "text"
      },
      "source": [
        "This is my team's solution for 38th place (top 5%) in Private LB with 0.82362 score of [Student] Shopee Code League 2020 - Product Detection.\n",
        "\n",
        "https://www.kaggle.com/c/shopee-product-detection-student/"
      ]
    },
    {
      "cell_type": "markdown",
      "metadata": {
        "id": "iWqHP0wG02FY",
        "colab_type": "text"
      },
      "source": [
        "This projects used FastAI2 API by implementing ensemble learning from various models and comparing the probabilities of each labels the models have predicted"
      ]
    },
    {
      "cell_type": "markdown",
      "metadata": {
        "id": "PS-CEzka6nO6",
        "colab_type": "text"
      },
      "source": [
        "# Initialization"
      ]
    },
    {
      "cell_type": "markdown",
      "metadata": {
        "id": "rwu14mEYZIvS",
        "colab_type": "text"
      },
      "source": [
        "## Checking GPU"
      ]
    },
    {
      "cell_type": "code",
      "metadata": {
        "id": "OLnT-lRLtG_T",
        "trusted": false,
        "colab_type": "code",
        "colab": {}
      },
      "source": [
        "!nvidia-smi"
      ],
      "execution_count": null,
      "outputs": []
    },
    {
      "cell_type": "markdown",
      "metadata": {
        "id": "rCVPJ52o3BME",
        "colab_type": "text"
      },
      "source": [
        "---"
      ]
    },
    {
      "cell_type": "markdown",
      "metadata": {
        "id": "xoXuFzyzZOZ1",
        "colab_type": "text"
      },
      "source": [
        "## Mounting google drive"
      ]
    },
    {
      "cell_type": "markdown",
      "metadata": {
        "id": "uOSRwCP26rx7",
        "colab_type": "text"
      },
      "source": [
        "If you're using Google Colab, here are the code to mount your google drive in order to get the dataset"
      ]
    },
    {
      "cell_type": "code",
      "metadata": {
        "id": "D0uKDJI-2q4d",
        "colab_type": "code",
        "colab": {}
      },
      "source": [
        "from google.colab import drive\n",
        "drive.mount('/content/drive')"
      ],
      "execution_count": null,
      "outputs": []
    },
    {
      "cell_type": "code",
      "metadata": {
        "id": "XtOQ1dG7XdCj",
        "trusted": false,
        "colab_type": "code",
        "colab": {}
      },
      "source": [
        "!unzip \".....\" # Your file path"
      ],
      "execution_count": null,
      "outputs": []
    },
    {
      "cell_type": "markdown",
      "metadata": {
        "id": "vpAJDVUQ3COJ",
        "colab_type": "text"
      },
      "source": [
        "---"
      ]
    },
    {
      "cell_type": "markdown",
      "metadata": {
        "id": "SJ29515NZSFU",
        "colab_type": "text"
      },
      "source": [
        "# Importing Packages Needed"
      ]
    },
    {
      "cell_type": "markdown",
      "metadata": {
        "id": "Vky0nUCi69Nr",
        "colab_type": "text"
      },
      "source": [
        "## Common library"
      ]
    },
    {
      "cell_type": "code",
      "metadata": {
        "id": "HNLqbaSBgjCN",
        "trusted": false,
        "colab_type": "code",
        "colab": {}
      },
      "source": [
        "import matplotlib.pyplot as plt\n",
        "import os\n",
        "import numpy as np\n",
        "import pandas as pd\n",
        "import torchvision.models as models"
      ],
      "execution_count": null,
      "outputs": []
    },
    {
      "cell_type": "markdown",
      "metadata": {
        "id": "KFX0hKyLXNyx",
        "colab_type": "text"
      },
      "source": [
        "## Installing FastAI2"
      ]
    },
    {
      "cell_type": "code",
      "metadata": {
        "id": "NobKQ3snXRVC",
        "colab_type": "code",
        "colab": {}
      },
      "source": [
        "!pip install git+https://github.com/fastai/fastai2 \n",
        "from fastai2.vision.all import *"
      ],
      "execution_count": null,
      "outputs": []
    },
    {
      "cell_type": "markdown",
      "metadata": {
        "id": "JzySiWAA7Cpy",
        "colab_type": "text"
      },
      "source": [
        "---"
      ]
    },
    {
      "cell_type": "markdown",
      "metadata": {
        "id": "G1DnHE8-7Fup",
        "colab_type": "text"
      },
      "source": [
        "# Data Loading and Preprocessing"
      ]
    },
    {
      "cell_type": "markdown",
      "metadata": {
        "id": "2mA_ZoB37MxS",
        "colab_type": "text"
      },
      "source": [
        "## Load the data"
      ]
    },
    {
      "cell_type": "markdown",
      "metadata": {
        "id": "D1y7wL_M7ySy",
        "colab_type": "text"
      },
      "source": [
        "Reading Files"
      ]
    },
    {
      "cell_type": "code",
      "metadata": {
        "id": "wA-P0gWrXRXk",
        "colab_type": "code",
        "colab": {}
      },
      "source": [
        "train = pd.read_csv(\"...\") # Your train.csv path\n",
        "test = pd.read_csv(\"...\") # Your test.csv path"
      ],
      "execution_count": null,
      "outputs": []
    },
    {
      "cell_type": "markdown",
      "metadata": {
        "id": "LJZY_u2H76XD",
        "colab_type": "text"
      },
      "source": [
        "Making path to image data directory"
      ]
    },
    {
      "cell_type": "code",
      "metadata": {
        "id": "coyZGICN723s",
        "colab_type": "code",
        "colab": {}
      },
      "source": [
        "train_path = Path(\"...\") # Your train image dataset path\n",
        "test_path = Path(\"...\") # Your test image dataset path"
      ],
      "execution_count": null,
      "outputs": []
    },
    {
      "cell_type": "markdown",
      "metadata": {
        "id": "QfIy31pb79iS",
        "colab_type": "text"
      },
      "source": [
        "Changing the filename in train dataset for fastai2 processing"
      ]
    },
    {
      "cell_type": "code",
      "metadata": {
        "id": "SnMSUJ9yXRaV",
        "colab_type": "code",
        "colab": {
          "base_uri": "https://localhost:8080/",
          "height": 402
        },
        "outputId": "cc1eb16b-cfb1-4ba2-9a71-3d94e97e9f5b"
      },
      "source": [
        "train['filename'] = train.apply(lambda x: str(x.category).zfill(2) + '/' + x.filename, axis=1)\n",
        "train"
      ],
      "execution_count": null,
      "outputs": [
        {
          "output_type": "execute_result",
          "data": {
            "text/html": [
              "<div>\n",
              "<style scoped>\n",
              "    .dataframe tbody tr th:only-of-type {\n",
              "        vertical-align: middle;\n",
              "    }\n",
              "\n",
              "    .dataframe tbody tr th {\n",
              "        vertical-align: top;\n",
              "    }\n",
              "\n",
              "    .dataframe thead th {\n",
              "        text-align: right;\n",
              "    }\n",
              "</style>\n",
              "<table border=\"1\" class=\"dataframe\">\n",
              "  <thead>\n",
              "    <tr style=\"text-align: right;\">\n",
              "      <th></th>\n",
              "      <th>filename</th>\n",
              "      <th>category</th>\n",
              "    </tr>\n",
              "  </thead>\n",
              "  <tbody>\n",
              "    <tr>\n",
              "      <th>0</th>\n",
              "      <td>03/45e2d0c97f7bdf8cbf3594beb6fdcda0.jpg</td>\n",
              "      <td>3</td>\n",
              "    </tr>\n",
              "    <tr>\n",
              "      <th>1</th>\n",
              "      <td>03/f74d1a5fc2498bbbfa045c74e3cc333e.jpg</td>\n",
              "      <td>3</td>\n",
              "    </tr>\n",
              "    <tr>\n",
              "      <th>2</th>\n",
              "      <td>03/f6c172096818c5fab10ecae722840798.jpg</td>\n",
              "      <td>3</td>\n",
              "    </tr>\n",
              "    <tr>\n",
              "      <th>3</th>\n",
              "      <td>03/251ffd610399ac00fea7709c642676ee.jpg</td>\n",
              "      <td>3</td>\n",
              "    </tr>\n",
              "    <tr>\n",
              "      <th>4</th>\n",
              "      <td>03/73c7328b8eda399199fdedec6e4badaf.jpg</td>\n",
              "      <td>3</td>\n",
              "    </tr>\n",
              "    <tr>\n",
              "      <th>...</th>\n",
              "      <td>...</td>\n",
              "      <td>...</td>\n",
              "    </tr>\n",
              "    <tr>\n",
              "      <th>105387</th>\n",
              "      <td>25/047a60001de0331608ba64092cc7ae2b.jpg</td>\n",
              "      <td>25</td>\n",
              "    </tr>\n",
              "    <tr>\n",
              "      <th>105388</th>\n",
              "      <td>25/ea39ac66ccdc4b4d4c6443f6c54d8ae3.jpg</td>\n",
              "      <td>25</td>\n",
              "    </tr>\n",
              "    <tr>\n",
              "      <th>105389</th>\n",
              "      <td>25/6215f8c52c5bbcfe3e63e0f3ac6265f8.jpg</td>\n",
              "      <td>25</td>\n",
              "    </tr>\n",
              "    <tr>\n",
              "      <th>105390</th>\n",
              "      <td>25/1733d8286f6658149c7b7cdeb40d6461.jpg</td>\n",
              "      <td>25</td>\n",
              "    </tr>\n",
              "    <tr>\n",
              "      <th>105391</th>\n",
              "      <td>25/8ee42460e9b6f3d909e32fdef2b6052f.jpg</td>\n",
              "      <td>25</td>\n",
              "    </tr>\n",
              "  </tbody>\n",
              "</table>\n",
              "<p>105392 rows × 2 columns</p>\n",
              "</div>"
            ],
            "text/plain": [
              "                                       filename  category\n",
              "0       03/45e2d0c97f7bdf8cbf3594beb6fdcda0.jpg         3\n",
              "1       03/f74d1a5fc2498bbbfa045c74e3cc333e.jpg         3\n",
              "2       03/f6c172096818c5fab10ecae722840798.jpg         3\n",
              "3       03/251ffd610399ac00fea7709c642676ee.jpg         3\n",
              "4       03/73c7328b8eda399199fdedec6e4badaf.jpg         3\n",
              "...                                         ...       ...\n",
              "105387  25/047a60001de0331608ba64092cc7ae2b.jpg        25\n",
              "105388  25/ea39ac66ccdc4b4d4c6443f6c54d8ae3.jpg        25\n",
              "105389  25/6215f8c52c5bbcfe3e63e0f3ac6265f8.jpg        25\n",
              "105390  25/1733d8286f6658149c7b7cdeb40d6461.jpg        25\n",
              "105391  25/8ee42460e9b6f3d909e32fdef2b6052f.jpg        25\n",
              "\n",
              "[105392 rows x 2 columns]"
            ]
          },
          "metadata": {
            "tags": []
          },
          "execution_count": 7
        }
      ]
    },
    {
      "cell_type": "markdown",
      "metadata": {
        "id": "bpaWc29f7Ovp",
        "colab_type": "text"
      },
      "source": [
        "## Data Processing"
      ]
    },
    {
      "cell_type": "markdown",
      "metadata": {
        "id": "mRfsGvj01PBE",
        "colab_type": "text"
      },
      "source": [
        "The images are loaded using FastAI2 and are processed with image augmentation and normalization based on ImageNet_Stats"
      ]
    },
    {
      "cell_type": "code",
      "metadata": {
        "id": "1pBI0pI1X83g",
        "colab_type": "code",
        "colab": {}
      },
      "source": [
        "item_tfms = [RandomResizedCrop(224, \n",
        "                               min_scale=0.9 # Change this min_scale according to model\n",
        "                               )]\n",
        "batch_tfms = [*aug_transforms(), \n",
        "              Normalize.from_stats(*imagenet_stats)]"
      ],
      "execution_count": null,
      "outputs": []
    },
    {
      "cell_type": "markdown",
      "metadata": {
        "id": "FRzwkVT61n6k",
        "colab_type": "text"
      },
      "source": [
        "We're making a function to get the data needed for training from a dataframe using ImageDataLoaders"
      ]
    },
    {
      "cell_type": "code",
      "metadata": {
        "id": "6WXAIiew1muy",
        "colab_type": "code",
        "colab": {}
      },
      "source": [
        "def get_dls_from_df(df):\n",
        "    df = df.copy()\n",
        "    options = {\n",
        "        \"item_tfms\": item_tfms,\n",
        "        \"batch_tfms\": batch_tfms,\n",
        "        \"bs\": 32, # Change this batch size for different result\n",
        "    }\n",
        "    dls = ImageDataLoaders.from_df(df, train_path, **options)\n",
        "    return dls"
      ],
      "execution_count": null,
      "outputs": []
    },
    {
      "cell_type": "code",
      "metadata": {
        "id": "jeBNPx-DX_rY",
        "colab_type": "code",
        "colab": {}
      },
      "source": [
        "dls = get_dls_from_df(train)"
      ],
      "execution_count": null,
      "outputs": []
    },
    {
      "cell_type": "markdown",
      "metadata": {
        "id": "CQ1zmTzzBn2N",
        "colab_type": "text"
      },
      "source": [
        "---"
      ]
    },
    {
      "cell_type": "markdown",
      "metadata": {
        "id": "cgCcn_VVYGJa",
        "colab_type": "text"
      },
      "source": [
        "# Training and modeling"
      ]
    },
    {
      "cell_type": "markdown",
      "metadata": {
        "id": "vAQjzF8x_SEA",
        "colab_type": "text"
      },
      "source": [
        "* Model 1: Densenet-201 | 4 Epochs | 0.95 Min Scale\n",
        "* Model 2: Densenet-201 | 5 Epochs | 0.75 Min Scale\n",
        "* Model 3: Densenet-169 | 4 Epochs | 0.75 Min Scale\n",
        "* Model 4: Densenet-161 | 5 Epochs | 0.8  Min Scale\n",
        "* Model 5: Densenet-121 | 4 Epochs | 0.95 Min Scale\n",
        "* Model 6: Resnet-152   | 5 Epochs | 0.75 Min Scale\n",
        "* Model 7: Resnet-101   | 4 Epochs | 0.9  Min Scale\n",
        "* Model 8: Resnet-50    | 4 Epochs | 0.75 Min Scale\n",
        "\n"
      ]
    },
    {
      "cell_type": "markdown",
      "metadata": {
        "id": "MgEumz5B8DJp",
        "colab_type": "text"
      },
      "source": [
        "Please change the epochs and min_scale in data processing for possibly better result"
      ]
    },
    {
      "cell_type": "code",
      "metadata": {
        "id": "6azadIy92m_q",
        "colab_type": "code",
        "colab": {}
      },
      "source": [
        "learn1 = cnn_learner(dls, densenet201, metrics=accuracy)\n",
        "learn1.fine_tune(4)"
      ],
      "execution_count": null,
      "outputs": []
    },
    {
      "cell_type": "code",
      "metadata": {
        "id": "zT3SgMSh2nV6",
        "colab_type": "code",
        "colab": {}
      },
      "source": [
        "learn2 = cnn_learner(dls, densenet201, metrics=accuracy)\n",
        "learn2.fine_tune(5)"
      ],
      "execution_count": null,
      "outputs": []
    },
    {
      "cell_type": "code",
      "metadata": {
        "id": "0BIeWpYY2oBi",
        "colab_type": "code",
        "colab": {}
      },
      "source": [
        "learn3 = cnn_learner(dls, densenet169, metrics=accuracy)\n",
        "learn3.fine_tune(4)"
      ],
      "execution_count": null,
      "outputs": []
    },
    {
      "cell_type": "code",
      "metadata": {
        "id": "8xC6HNN52oRS",
        "colab_type": "code",
        "colab": {}
      },
      "source": [
        "learn4 = cnn_learner(dls, densenet161, metrics=accuracy)\n",
        "learn4.fine_tune(5)"
      ],
      "execution_count": null,
      "outputs": []
    },
    {
      "cell_type": "code",
      "metadata": {
        "id": "2iDTOdwK2oni",
        "colab_type": "code",
        "colab": {}
      },
      "source": [
        "learn5 = cnn_learner(dls, densenet121, metrics=accuracy)\n",
        "learn5.fine_tune(4)"
      ],
      "execution_count": null,
      "outputs": []
    },
    {
      "cell_type": "code",
      "metadata": {
        "id": "4a9NMKsc2o9y",
        "colab_type": "code",
        "colab": {}
      },
      "source": [
        "learn6 = cnn_learner(dls, resnet152, metrics=accuracy)\n",
        "learn6.fine_tune(5)"
      ],
      "execution_count": null,
      "outputs": []
    },
    {
      "cell_type": "code",
      "metadata": {
        "id": "AGLfHWgn2pOa",
        "colab_type": "code",
        "colab": {}
      },
      "source": [
        "learn7 = cnn_learner(dls, resnet101, metrics=accuracy)\n",
        "learn7.fine_tune(4)"
      ],
      "execution_count": null,
      "outputs": []
    },
    {
      "cell_type": "code",
      "metadata": {
        "id": "BiDNLute2pfa",
        "colab_type": "code",
        "colab": {}
      },
      "source": [
        "learn8 = cnn_learner(dls, resnet50, metrics=accuracy)\n",
        "learn8.fine_tune(4)"
      ],
      "execution_count": null,
      "outputs": []
    },
    {
      "cell_type": "markdown",
      "metadata": {
        "id": "flbnwgezBpHM",
        "colab_type": "text"
      },
      "source": [
        "---"
      ]
    },
    {
      "cell_type": "markdown",
      "metadata": {
        "id": "P9DfdJ29jC20",
        "colab_type": "text"
      },
      "source": [
        "# Prediction"
      ]
    },
    {
      "cell_type": "markdown",
      "metadata": {
        "id": "CM0yqkld8NJY",
        "colab_type": "text"
      },
      "source": [
        "Changing the filename in train dataset for fastai2 processing"
      ]
    },
    {
      "cell_type": "code",
      "metadata": {
        "id": "Vp6ortzdjEle",
        "colab_type": "code",
        "colab": {}
      },
      "source": [
        "test_images = test.filename.apply(lambda fn: test_path/fn)\n",
        "test_dl = dls.test_dl(test_images)"
      ],
      "execution_count": null,
      "outputs": []
    },
    {
      "cell_type": "markdown",
      "metadata": {
        "id": "egXtuSJE8XnI",
        "colab_type": "text"
      },
      "source": [
        "Making a function to get the prediction out of each model"
      ]
    },
    {
      "cell_type": "code",
      "metadata": {
        "id": "iewCxfeu3aIK",
        "colab_type": "code",
        "colab": {}
      },
      "source": [
        "def get_prediction(learner, dls):\n",
        "  preds = learner.get_preds(dl=dls, with_decoded=True)\n",
        "  return preds"
      ],
      "execution_count": null,
      "outputs": []
    },
    {
      "cell_type": "markdown",
      "metadata": {
        "id": "-uaYIl_k8Tp4",
        "colab_type": "text"
      },
      "source": [
        "The result will be a tensor where:\n",
        "* preds[0] = Probabilities\n",
        "* preds[1] = Ground truth\n",
        "* preds[2] = Label predictions"
      ]
    },
    {
      "cell_type": "code",
      "metadata": {
        "id": "XJkRx9xh37aL",
        "colab_type": "code",
        "colab": {}
      },
      "source": [
        "preds1 = get_prediction(learn1, test_dl)\n",
        "preds2 = get_prediction(learn2, test_dl)\n",
        "preds3 = get_prediction(learn3, test_dl)\n",
        "preds4 = get_prediction(learn4, test_dl)\n",
        "preds5 = get_prediction(learn5, test_dl)\n",
        "preds6 = get_prediction(learn6, test_dl)\n",
        "preds7 = get_prediction(learn7, test_dl)\n",
        "preds8 = get_prediction(learn8, test_dl)"
      ],
      "execution_count": null,
      "outputs": []
    },
    {
      "cell_type": "markdown",
      "metadata": {
        "id": "YvDxDkU2Bq9r",
        "colab_type": "text"
      },
      "source": [
        "---"
      ]
    },
    {
      "cell_type": "markdown",
      "metadata": {
        "id": "t5yT2zIx6L_c",
        "colab_type": "text"
      },
      "source": [
        "# Ensemble Learning"
      ]
    },
    {
      "cell_type": "markdown",
      "metadata": {
        "id": "6X0TL3eAVA24",
        "colab_type": "text"
      },
      "source": [
        "## Preparing for ensemble learning"
      ]
    },
    {
      "cell_type": "markdown",
      "metadata": {
        "id": "oBj8_WHH4lWE",
        "colab_type": "text"
      },
      "source": [
        "Firstly we have to get a dataframe containing the label prediction and probabilities for each model"
      ]
    },
    {
      "cell_type": "code",
      "metadata": {
        "id": "lLdiZ-bgArnT",
        "colab_type": "code",
        "colab": {}
      },
      "source": [
        "def get_all_df(preds):\n",
        "  df = test[[\"filename\"]]\n",
        "\n",
        "  \"\"\"\n",
        "  Getting probabilities\n",
        "  \"\"\"\n",
        "  proba = preds[0].tolist()\n",
        "\n",
        "  max_proba = []\n",
        "\n",
        "  for prob in proba:\n",
        "    max_proba.append(max(prob))\n",
        "  \n",
        "  \"\"\"\n",
        "  Getting prediction\n",
        "  \"\"\"\n",
        "  prediction = preds[2].tolist()\n",
        "\n",
        "  df['probability'] = max_proba\n",
        "  df['prediction'] = prediction\n",
        "\n",
        "  return df"
      ],
      "execution_count": null,
      "outputs": []
    },
    {
      "cell_type": "code",
      "metadata": {
        "id": "xxoYU1RP0z3p",
        "colab_type": "code",
        "colab": {}
      },
      "source": [
        "df1 = get_all_df(preds1)\n",
        "df2 = get_all_df(preds2)\n",
        "df3 = get_all_df(preds3)\n",
        "df4 = get_all_df(preds4)\n",
        "df5 = get_all_df(preds5)\n",
        "df6 = get_all_df(preds6)\n",
        "df7 = get_all_df(preds7)\n",
        "df8 = get_all_df(preds8)"
      ],
      "execution_count": null,
      "outputs": []
    },
    {
      "cell_type": "markdown",
      "metadata": {
        "id": "e1GCYrOYBsiL",
        "colab_type": "text"
      },
      "source": [
        "---"
      ]
    },
    {
      "cell_type": "markdown",
      "metadata": {
        "id": "Vb1HLqTl5pIH",
        "colab_type": "text"
      },
      "source": [
        "## Doing the ensemble Learning"
      ]
    },
    {
      "cell_type": "markdown",
      "metadata": {
        "id": "83rCSeI-6YUM",
        "colab_type": "text"
      },
      "source": [
        "Making sure that we selected only the suitable columns needed for the ensemble learning"
      ]
    },
    {
      "cell_type": "code",
      "metadata": {
        "id": "vsxMLs9Q5ZJ5",
        "colab_type": "code",
        "colab": {}
      },
      "source": [
        "df = df[['filename', 'prediction', 'probability']]\n",
        "df2 = df2[['filename', 'prediction', 'probability']]\n",
        "df3 = df3[['filename', 'prediction', 'probability']]\n",
        "df4 = df4[['filename', 'prediction', 'probability']]\n",
        "df5 = df5[['filename', 'prediction', 'probability']]\n",
        "df6 = df6[['filename', 'prediction', 'probability']]\n",
        "df7 = df7[['filename', 'prediction', 'probability']]\n",
        "df8 = df8[['filename', 'prediction', 'probability']]"
      ],
      "execution_count": null,
      "outputs": []
    },
    {
      "cell_type": "markdown",
      "metadata": {
        "id": "JJkFSkAr5jAy",
        "colab_type": "text"
      },
      "source": [
        "Combining all dataframe into a single dataframe"
      ]
    },
    {
      "cell_type": "code",
      "metadata": {
        "id": "N39vhhv35iaa",
        "colab_type": "code",
        "colab": {}
      },
      "source": [
        "df8['prediction_2'] = df['prediction']\n",
        "df8['probability_2'] = df['probability']\n",
        "df8['prediction_3'] = df2['prediction']\n",
        "df8['probability_3'] = df2['probability']\n",
        "df8['prediction_4'] = df3['prediction']\n",
        "df8['probability_4'] = df3['probability']\n",
        "df8['prediction_5'] = df4['prediction']\n",
        "df8['probability_5'] = df4['probability']\n",
        "df8['prediction_6'] = df5['prediction']\n",
        "df8['probability_6'] = df5['probability']\n",
        "df8['prediction_7'] = df6['prediction']\n",
        "df8['probability_7'] = df6['probability']\n",
        "df8['prediction_8'] = df7['prediction']\n",
        "df8['probability_8'] = df7['probability']"
      ],
      "execution_count": null,
      "outputs": []
    },
    {
      "cell_type": "code",
      "metadata": {
        "id": "Uyrh4ggg5m0C",
        "colab_type": "code",
        "colab": {}
      },
      "source": [
        "df8"
      ],
      "execution_count": null,
      "outputs": []
    },
    {
      "cell_type": "markdown",
      "metadata": {
        "id": "RZIm8RMw5pKD",
        "colab_type": "text"
      },
      "source": [
        "We will get the best label prediction by summing up the probabilities for each label predicted by each model"
      ]
    },
    {
      "cell_type": "code",
      "metadata": {
        "id": "cYqZrr0e5xMy",
        "colab_type": "code",
        "colab": {}
      },
      "source": [
        "final_pred = []\n",
        "\n",
        "for row in df8.iterrows():\n",
        "  dicts = {}\n",
        "  for i in range(42):\n",
        "    dicts[i] = 0\n",
        "\n",
        "  a = row[1].probability\n",
        "  b = row[1].probability_2\n",
        "  c = row[1].probability_3\n",
        "  d = row[1].probability_4\n",
        "  e = row[1].probability_5\n",
        "  f = row[1].probability_6\n",
        "  g = row[1].probability_7\n",
        "  h = row[1].probability_8\n",
        "\n",
        "  al = int(row[1].prediction) \n",
        "  bl = int(row[1].prediction_2)\n",
        "  cl = int(row[1].prediction_3)\n",
        "  dl = int(row[1].prediction_4)\n",
        "  el = int(row[1].prediction_5)\n",
        "  fl = int(row[1].prediction_6)\n",
        "  gl = int(row[1].prediction_7)\n",
        "  hl = int(row[1].prediction_8)\n",
        "\n",
        "  dicts[al] += a\n",
        "  dicts[bl] += b\n",
        "  dicts[cl] += c\n",
        "  dicts[dl] += d\n",
        "  dicts[el] += e\n",
        "  dicts[fl] += f\n",
        "  dicts[gl] += g\n",
        "  dicts[hl] += h\n",
        "\n",
        "  max_label = max(dicts, key=dicts.get)\n",
        "\n",
        "  final_pred.append(max_label)"
      ],
      "execution_count": null,
      "outputs": []
    },
    {
      "cell_type": "markdown",
      "metadata": {
        "id": "zDc1jDLM502i",
        "colab_type": "text"
      },
      "source": [
        "Making a dataframe out of the final prediction"
      ]
    },
    {
      "cell_type": "code",
      "metadata": {
        "id": "qoW9__aR50e5",
        "colab_type": "code",
        "colab": {}
      },
      "source": [
        "ensemble_df = df[['filename']]\n",
        "ensemble_df['category'] = final_pred \n",
        "\n",
        "# Zero-padding\n",
        "ensemble_df[\"category\"] = ensemble_df.category.apply(lambda c: str(c).zfill(2))"
      ],
      "execution_count": null,
      "outputs": []
    },
    {
      "cell_type": "markdown",
      "metadata": {
        "id": "y1njNdSq58Qz",
        "colab_type": "text"
      },
      "source": [
        "# Submission"
      ]
    },
    {
      "cell_type": "code",
      "metadata": {
        "id": "dH9uo5vR56xR",
        "colab_type": "code",
        "colab": {}
      },
      "source": [
        "ensemble_df.to_csv('submission.csv', index=False)"
      ],
      "execution_count": null,
      "outputs": []
    },
    {
      "cell_type": "markdown",
      "metadata": {
        "id": "SQJhUczj6EBJ",
        "colab_type": "text"
      },
      "source": [
        "## Best Score: 0.82528"
      ]
    }
  ]
}