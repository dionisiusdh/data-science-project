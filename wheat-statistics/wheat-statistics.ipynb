{
  "nbformat": 4,
  "nbformat_minor": 0,
  "metadata": {
    "colab": {
      "name": "K02-T1-IF2220-13519058.ipynb",
      "provenance": [],
      "collapsed_sections": [
        "Jsprzu2J__cC",
        "bCYVUeGbACBg",
        "5mzP82dmANT9",
        "gmzeOc-UAOIZ",
        "HKlgRzQiAO5u",
        "25l_F_sUdo34",
        "9xhjl0D4gmUm",
        "3DQauDileEDd",
        "inorhXEfeKKw",
        "B96y4J7aVgJu",
        "QUXCeoBBVkt_",
        "oBKXbU0_VmNS",
        "RW1TFZsQVom-",
        "IquS0eJscGW2",
        "Ugoi08v9cQck",
        "4iL5PX3ccSZd",
        "qumh60RCcSLv",
        "WcIKsyf_Ak6D"
      ]
    },
    "kernelspec": {
      "display_name": "Python 3",
      "name": "python3"
    },
    "language_info": {
      "name": "python"
    }
  },
  "cells": [
    {
      "cell_type": "markdown",
      "metadata": {
        "id": "YUf6aNYG_gAC"
      },
      "source": [
        "# **Tugas Besar IF2220 Probabilitas dan Statistika**\n",
        "![](https://i.ibb.co/X2fNcLt/oie-f-Fggy5m-ZJtn-B.jpg)\n",
        "> Penarikan Kesimpulan dan Pengujian Hipotesis dari Data Klasifikasi Biji Gandum\n",
        "\n",
        "Kelas 02\n",
        "* 13519058 - Dionisius Darryl Hermansyah\n",
        "* 13519078 - James Chandra"
      ]
    },
    {
      "cell_type": "markdown",
      "metadata": {
        "id": "Jsprzu2J__cC"
      },
      "source": [
        "## Import Modules"
      ]
    },
    {
      "cell_type": "code",
      "metadata": {
        "colab": {
          "base_uri": "https://localhost:8080/",
          "height": 35
        },
        "id": "JGDiGJqEHuot",
        "outputId": "5d29900c-afd9-4996-a38f-5bae3df8ebb8"
      },
      "source": [
        "# Gunakan kode di bawah untuk menginstall dependencies jika belum ada\n",
        "\"\"\"\n",
        "!pip install pandas\n",
        "!pip install numpy\n",
        "!pip install seaborn\n",
        "!pip install scipy\n",
        "\"\"\""
      ],
      "execution_count": 1,
      "outputs": [
        {
          "output_type": "execute_result",
          "data": {
            "application/vnd.google.colaboratory.intrinsic+json": {
              "type": "string"
            },
            "text/plain": [
              "'\\n!pip install pandas\\n!pip install numpy\\n!pip install seaborn\\n!pip install scipy\\n'"
            ]
          },
          "metadata": {
            "tags": []
          },
          "execution_count": 1
        }
      ]
    },
    {
      "cell_type": "code",
      "metadata": {
        "id": "KDxWhCvEABcp"
      },
      "source": [
        "import pandas as pd\n",
        "import numpy as np\n",
        "import matplotlib.pyplot as plt\n",
        "import seaborn as sns\n",
        "import scipy as sp\n",
        "from scipy import stats\n",
        "import math\n",
        "\n",
        "import warnings\n",
        "warnings.filterwarnings(\"ignore\")"
      ],
      "execution_count": 2,
      "outputs": []
    },
    {
      "cell_type": "markdown",
      "metadata": {
        "id": "bCYVUeGbACBg"
      },
      "source": [
        "## Pembacaan Data"
      ]
    },
    {
      "cell_type": "code",
      "metadata": {
        "id": "ECUKNa_-kX7Q"
      },
      "source": [
        "# Hanya spesifik untuk import Google Colaboratory\n",
        "\n",
        "# Membaca .csv dari github repository \n",
        "url = 'https://raw.githubusercontent.com/jamesteguh/google-colaboratory-csv/main/Gandum.csv'\n",
        "names = ['id', 'Daerah', 'SumbuUtama', 'SumbuKecil', 'Keunikan', 'AreaBulatan', 'Diameter', 'KadarAir', 'Keliling', 'Bulatan', 'Ransum', 'Kelas']\n",
        "df_all = pd.read_csv(url, names = names)"
      ],
      "execution_count": 3,
      "outputs": []
    },
    {
      "cell_type": "code",
      "metadata": {
        "id": "A4Ib01V7EJ-c"
      },
      "source": [
        "# Pisahkan data\n",
        "# Ambil fitur target\n",
        "target = df_all.Kelas\n",
        "\n",
        "# Drop primary key dan atribut target\n",
        "df = df_all.drop(['id', 'Kelas'], axis=1)"
      ],
      "execution_count": 4,
      "outputs": []
    },
    {
      "cell_type": "code",
      "metadata": {
        "colab": {
          "base_uri": "https://localhost:8080/"
        },
        "id": "DOhZKnV2dxFt",
        "outputId": "824afa12-712c-4c0d-be6b-66e2b67c7a26"
      },
      "source": [
        "# Mengambil nama kolom bertipe numerikal dan kategorikal\n",
        "num_cols = df.dtypes[(df.dtypes == 'int64') | (df.dtypes == 'float64')].index.tolist()\n",
        "cat_cols = df.dtypes[(df.dtypes == 'object') | (df.dtypes == 'category')].index.tolist()\n",
        "\n",
        "print(f\"Numerical columns are: {num_cols}\")\n",
        "print(f\"Categorical columns are: {cat_cols}\")"
      ],
      "execution_count": 5,
      "outputs": [
        {
          "output_type": "stream",
          "text": [
            "Numerical columns are: ['Daerah', 'SumbuUtama', 'SumbuKecil', 'Keunikan', 'AreaBulatan', 'Diameter', 'KadarAir', 'Keliling', 'Bulatan', 'Ransum']\n",
            "Categorical columns are: []\n"
          ],
          "name": "stdout"
        }
      ]
    },
    {
      "cell_type": "markdown",
      "metadata": {
        "id": "5mzP82dmANT9"
      },
      "source": [
        "## Soal 1\n",
        "> Menulis deskripsi statistika (*Descriptive Statistics*) dari semua kolom pada data yang bersifat numerik, terdiri dari mean, median, modus, standar deviasi, variansi, range, nilai minimum, maksimum, kuartil, IQR, skewness dan kurtosis. Boleh juga ditambahkan deskripsi lain."
      ]
    },
    {
      "cell_type": "code",
      "metadata": {
        "colab": {
          "base_uri": "https://localhost:8080/",
          "height": 77
        },
        "id": "6jbPS4S6sLOw",
        "outputId": "91de5ffd-3dad-4943-e57c-c024dd7720f7"
      },
      "source": [
        "# mean\n",
        "df.aggregate(['mean'])"
      ],
      "execution_count": 6,
      "outputs": [
        {
          "output_type": "execute_result",
          "data": {
            "text/html": [
              "<div>\n",
              "<style scoped>\n",
              "    .dataframe tbody tr th:only-of-type {\n",
              "        vertical-align: middle;\n",
              "    }\n",
              "\n",
              "    .dataframe tbody tr th {\n",
              "        vertical-align: top;\n",
              "    }\n",
              "\n",
              "    .dataframe thead th {\n",
              "        text-align: right;\n",
              "    }\n",
              "</style>\n",
              "<table border=\"1\" class=\"dataframe\">\n",
              "  <thead>\n",
              "    <tr style=\"text-align: right;\">\n",
              "      <th></th>\n",
              "      <th>Daerah</th>\n",
              "      <th>SumbuUtama</th>\n",
              "      <th>SumbuKecil</th>\n",
              "      <th>Keunikan</th>\n",
              "      <th>AreaBulatan</th>\n",
              "      <th>Diameter</th>\n",
              "      <th>KadarAir</th>\n",
              "      <th>Keliling</th>\n",
              "      <th>Bulatan</th>\n",
              "      <th>Ransum</th>\n",
              "    </tr>\n",
              "  </thead>\n",
              "  <tbody>\n",
              "    <tr>\n",
              "      <th>mean</th>\n",
              "      <td>4801.246</td>\n",
              "      <td>116.045171</td>\n",
              "      <td>53.715246</td>\n",
              "      <td>0.878764</td>\n",
              "      <td>4937.048</td>\n",
              "      <td>77.771158</td>\n",
              "      <td>0.648372</td>\n",
              "      <td>281.479722</td>\n",
              "      <td>0.761737</td>\n",
              "      <td>2.150915</td>\n",
              "    </tr>\n",
              "  </tbody>\n",
              "</table>\n",
              "</div>"
            ],
            "text/plain": [
              "        Daerah  SumbuUtama  SumbuKecil  ...    Keliling   Bulatan    Ransum\n",
              "mean  4801.246  116.045171   53.715246  ...  281.479722  0.761737  2.150915\n",
              "\n",
              "[1 rows x 10 columns]"
            ]
          },
          "metadata": {
            "tags": []
          },
          "execution_count": 6
        }
      ]
    },
    {
      "cell_type": "code",
      "metadata": {
        "colab": {
          "base_uri": "https://localhost:8080/",
          "height": 77
        },
        "id": "dv7KF0QIsQoe",
        "outputId": "134f8705-bc46-4007-a2a1-56d05fda4cee"
      },
      "source": [
        "# median\n",
        "df.aggregate(['median'])"
      ],
      "execution_count": 7,
      "outputs": [
        {
          "output_type": "execute_result",
          "data": {
            "text/html": [
              "<div>\n",
              "<style scoped>\n",
              "    .dataframe tbody tr th:only-of-type {\n",
              "        vertical-align: middle;\n",
              "    }\n",
              "\n",
              "    .dataframe tbody tr th {\n",
              "        vertical-align: top;\n",
              "    }\n",
              "\n",
              "    .dataframe thead th {\n",
              "        text-align: right;\n",
              "    }\n",
              "</style>\n",
              "<table border=\"1\" class=\"dataframe\">\n",
              "  <thead>\n",
              "    <tr style=\"text-align: right;\">\n",
              "      <th></th>\n",
              "      <th>Daerah</th>\n",
              "      <th>SumbuUtama</th>\n",
              "      <th>SumbuKecil</th>\n",
              "      <th>Keunikan</th>\n",
              "      <th>AreaBulatan</th>\n",
              "      <th>Diameter</th>\n",
              "      <th>KadarAir</th>\n",
              "      <th>Keliling</th>\n",
              "      <th>Bulatan</th>\n",
              "      <th>Ransum</th>\n",
              "    </tr>\n",
              "  </thead>\n",
              "  <tbody>\n",
              "    <tr>\n",
              "      <th>median</th>\n",
              "      <td>4735.0</td>\n",
              "      <td>115.40514</td>\n",
              "      <td>53.731199</td>\n",
              "      <td>0.890045</td>\n",
              "      <td>4857.0</td>\n",
              "      <td>77.645277</td>\n",
              "      <td>0.626117</td>\n",
              "      <td>280.0455</td>\n",
              "      <td>0.761288</td>\n",
              "      <td>2.193599</td>\n",
              "    </tr>\n",
              "  </tbody>\n",
              "</table>\n",
              "</div>"
            ],
            "text/plain": [
              "        Daerah  SumbuUtama  SumbuKecil  ...  Keliling   Bulatan    Ransum\n",
              "median  4735.0   115.40514   53.731199  ...  280.0455  0.761288  2.193599\n",
              "\n",
              "[1 rows x 10 columns]"
            ]
          },
          "metadata": {
            "tags": []
          },
          "execution_count": 7
        }
      ]
    },
    {
      "cell_type": "code",
      "metadata": {
        "colab": {
          "base_uri": "https://localhost:8080/",
          "height": 431
        },
        "id": "KqLZ8ZoQsUGn",
        "outputId": "f6634c8f-0fc2-4cbb-ad82-687f22bc1865"
      },
      "source": [
        "# modus (series, mengembalikan lebih dari 1 mode, jika ada,\n",
        "# NaN hanya placeholder, karena kolom tersebut memiliki modus lebih sedikit dari kolom lain)\n",
        "df.aggregate(['mode']).replace(np.nan, '', regex=True)"
      ],
      "execution_count": 8,
      "outputs": [
        {
          "output_type": "execute_result",
          "data": {
            "text/html": [
              "<div>\n",
              "<style scoped>\n",
              "    .dataframe tbody tr th:only-of-type {\n",
              "        vertical-align: middle;\n",
              "    }\n",
              "\n",
              "    .dataframe tbody tr th {\n",
              "        vertical-align: top;\n",
              "    }\n",
              "\n",
              "    .dataframe thead tr th {\n",
              "        text-align: left;\n",
              "    }\n",
              "</style>\n",
              "<table border=\"1\" class=\"dataframe\">\n",
              "  <thead>\n",
              "    <tr>\n",
              "      <th></th>\n",
              "      <th>Daerah</th>\n",
              "      <th>SumbuUtama</th>\n",
              "      <th>SumbuKecil</th>\n",
              "      <th>Keunikan</th>\n",
              "      <th>AreaBulatan</th>\n",
              "      <th>Diameter</th>\n",
              "      <th>KadarAir</th>\n",
              "      <th>Keliling</th>\n",
              "      <th>Bulatan</th>\n",
              "      <th>Ransum</th>\n",
              "    </tr>\n",
              "    <tr>\n",
              "      <th></th>\n",
              "      <th>mode</th>\n",
              "      <th>mode</th>\n",
              "      <th>mode</th>\n",
              "      <th>mode</th>\n",
              "      <th>mode</th>\n",
              "      <th>mode</th>\n",
              "      <th>mode</th>\n",
              "      <th>mode</th>\n",
              "      <th>mode</th>\n",
              "      <th>mode</th>\n",
              "    </tr>\n",
              "  </thead>\n",
              "  <tbody>\n",
              "    <tr>\n",
              "      <th>0</th>\n",
              "      <td>3992</td>\n",
              "      <td>74.133114</td>\n",
              "      <td>39.906517</td>\n",
              "      <td>0.719916</td>\n",
              "      <td>3802</td>\n",
              "      <td>71.2936</td>\n",
              "      <td>0.735849</td>\n",
              "      <td>197.015</td>\n",
              "      <td>0.174590</td>\n",
              "      <td>1.440796</td>\n",
              "    </tr>\n",
              "    <tr>\n",
              "      <th>1</th>\n",
              "      <td>4881</td>\n",
              "      <td>74.364021</td>\n",
              "      <td>41.436419</td>\n",
              "      <td>0.725553</td>\n",
              "      <td>4913</td>\n",
              "      <td>78.8333</td>\n",
              "      <td>0.824405</td>\n",
              "      <td>200.587</td>\n",
              "      <td>0.261297</td>\n",
              "      <td>1.453137</td>\n",
              "    </tr>\n",
              "    <tr>\n",
              "      <th>2</th>\n",
              "      <td>5642</td>\n",
              "      <td>74.691881</td>\n",
              "      <td>42.871879</td>\n",
              "      <td>0.731211</td>\n",
              "      <td></td>\n",
              "      <td>84.7562</td>\n",
              "      <td></td>\n",
              "      <td>202.456</td>\n",
              "      <td>0.299298</td>\n",
              "      <td>1.465950</td>\n",
              "    </tr>\n",
              "    <tr>\n",
              "      <th>3</th>\n",
              "      <td>6083</td>\n",
              "      <td>76.293164</td>\n",
              "      <td>43.284979</td>\n",
              "      <td>0.738639</td>\n",
              "      <td></td>\n",
              "      <td>88.0063</td>\n",
              "      <td></td>\n",
              "      <td>207.325</td>\n",
              "      <td>0.589146</td>\n",
              "      <td>1.483456</td>\n",
              "    </tr>\n",
              "    <tr>\n",
              "      <th>4</th>\n",
              "      <td></td>\n",
              "      <td>76.789043</td>\n",
              "      <td>44.119355</td>\n",
              "      <td>0.749282</td>\n",
              "      <td></td>\n",
              "      <td></td>\n",
              "      <td></td>\n",
              "      <td>207.697</td>\n",
              "      <td>0.603807</td>\n",
              "      <td>1.510000</td>\n",
              "    </tr>\n",
              "    <tr>\n",
              "      <th>...</th>\n",
              "      <td>...</td>\n",
              "      <td>...</td>\n",
              "      <td>...</td>\n",
              "      <td>...</td>\n",
              "      <td>...</td>\n",
              "      <td>...</td>\n",
              "      <td>...</td>\n",
              "      <td>...</td>\n",
              "      <td>...</td>\n",
              "      <td>...</td>\n",
              "    </tr>\n",
              "    <tr>\n",
              "      <th>495</th>\n",
              "      <td></td>\n",
              "      <td>152.068440</td>\n",
              "      <td>63.322854</td>\n",
              "      <td>0.913724</td>\n",
              "      <td></td>\n",
              "      <td></td>\n",
              "      <td></td>\n",
              "      <td>375.651</td>\n",
              "      <td>0.872417</td>\n",
              "      <td>2.461017</td>\n",
              "    </tr>\n",
              "    <tr>\n",
              "      <th>496</th>\n",
              "      <td></td>\n",
              "      <td>152.113491</td>\n",
              "      <td>63.762307</td>\n",
              "      <td>0.913760</td>\n",
              "      <td></td>\n",
              "      <td></td>\n",
              "      <td></td>\n",
              "      <td>390.125</td>\n",
              "      <td>0.874243</td>\n",
              "      <td>2.461510</td>\n",
              "    </tr>\n",
              "    <tr>\n",
              "      <th>497</th>\n",
              "      <td></td>\n",
              "      <td>153.583387</td>\n",
              "      <td>64.012769</td>\n",
              "      <td>0.913891</td>\n",
              "      <td></td>\n",
              "      <td></td>\n",
              "      <td></td>\n",
              "      <td>434.235</td>\n",
              "      <td>0.874743</td>\n",
              "      <td>2.463297</td>\n",
              "    </tr>\n",
              "    <tr>\n",
              "      <th>498</th>\n",
              "      <td></td>\n",
              "      <td>227.105462</td>\n",
              "      <td>65.738475</td>\n",
              "      <td>0.913909</td>\n",
              "      <td></td>\n",
              "      <td></td>\n",
              "      <td></td>\n",
              "      <td>448.305</td>\n",
              "      <td>0.891706</td>\n",
              "      <td>2.463546</td>\n",
              "    </tr>\n",
              "    <tr>\n",
              "      <th>499</th>\n",
              "      <td></td>\n",
              "      <td>227.928583</td>\n",
              "      <td>68.977700</td>\n",
              "      <td>0.914001</td>\n",
              "      <td></td>\n",
              "      <td></td>\n",
              "      <td></td>\n",
              "      <td>488.837</td>\n",
              "      <td>0.904748</td>\n",
              "      <td>2.464809</td>\n",
              "    </tr>\n",
              "  </tbody>\n",
              "</table>\n",
              "<p>500 rows × 10 columns</p>\n",
              "</div>"
            ],
            "text/plain": [
              "    Daerah  SumbuUtama SumbuKecil  ... Keliling   Bulatan    Ransum\n",
              "      mode        mode       mode  ...     mode      mode      mode\n",
              "0     3992   74.133114  39.906517  ...  197.015  0.174590  1.440796\n",
              "1     4881   74.364021  41.436419  ...  200.587  0.261297  1.453137\n",
              "2     5642   74.691881  42.871879  ...  202.456  0.299298  1.465950\n",
              "3     6083   76.293164  43.284979  ...  207.325  0.589146  1.483456\n",
              "4            76.789043  44.119355  ...  207.697  0.603807  1.510000\n",
              "..     ...         ...        ...  ...      ...       ...       ...\n",
              "495         152.068440  63.322854  ...  375.651  0.872417  2.461017\n",
              "496         152.113491  63.762307  ...  390.125  0.874243  2.461510\n",
              "497         153.583387  64.012769  ...  434.235  0.874743  2.463297\n",
              "498         227.105462  65.738475  ...  448.305  0.891706  2.463546\n",
              "499         227.928583  68.977700  ...  488.837  0.904748  2.464809\n",
              "\n",
              "[500 rows x 10 columns]"
            ]
          },
          "metadata": {
            "tags": []
          },
          "execution_count": 8
        }
      ]
    },
    {
      "cell_type": "code",
      "metadata": {
        "colab": {
          "base_uri": "https://localhost:8080/",
          "height": 195
        },
        "id": "ivl3I9uhf-op",
        "outputId": "afd35a11-e375-4371-8ddb-51f44840db48"
      },
      "source": [
        "# modus (apabila satu kolom memiliki 500 modus, DIHILANGKAN)\n",
        "df[['Daerah', 'AreaBulatan', 'Diameter', 'KadarAir']].aggregate(['mode']).replace(np.nan, '', regex=True)"
      ],
      "execution_count": 9,
      "outputs": [
        {
          "output_type": "execute_result",
          "data": {
            "text/html": [
              "<div>\n",
              "<style scoped>\n",
              "    .dataframe tbody tr th:only-of-type {\n",
              "        vertical-align: middle;\n",
              "    }\n",
              "\n",
              "    .dataframe tbody tr th {\n",
              "        vertical-align: top;\n",
              "    }\n",
              "\n",
              "    .dataframe thead tr th {\n",
              "        text-align: left;\n",
              "    }\n",
              "</style>\n",
              "<table border=\"1\" class=\"dataframe\">\n",
              "  <thead>\n",
              "    <tr>\n",
              "      <th></th>\n",
              "      <th>Daerah</th>\n",
              "      <th>AreaBulatan</th>\n",
              "      <th>Diameter</th>\n",
              "      <th>KadarAir</th>\n",
              "    </tr>\n",
              "    <tr>\n",
              "      <th></th>\n",
              "      <th>mode</th>\n",
              "      <th>mode</th>\n",
              "      <th>mode</th>\n",
              "      <th>mode</th>\n",
              "    </tr>\n",
              "  </thead>\n",
              "  <tbody>\n",
              "    <tr>\n",
              "      <th>0</th>\n",
              "      <td>3992</td>\n",
              "      <td>3802</td>\n",
              "      <td>71.293564</td>\n",
              "      <td>0.735849</td>\n",
              "    </tr>\n",
              "    <tr>\n",
              "      <th>1</th>\n",
              "      <td>4881</td>\n",
              "      <td>4913</td>\n",
              "      <td>78.833256</td>\n",
              "      <td>0.824405</td>\n",
              "    </tr>\n",
              "    <tr>\n",
              "      <th>2</th>\n",
              "      <td>5642</td>\n",
              "      <td></td>\n",
              "      <td>84.756224</td>\n",
              "      <td></td>\n",
              "    </tr>\n",
              "    <tr>\n",
              "      <th>3</th>\n",
              "      <td>6083</td>\n",
              "      <td></td>\n",
              "      <td>88.006342</td>\n",
              "      <td></td>\n",
              "    </tr>\n",
              "  </tbody>\n",
              "</table>\n",
              "</div>"
            ],
            "text/plain": [
              "  Daerah AreaBulatan   Diameter  KadarAir\n",
              "    mode        mode       mode      mode\n",
              "0   3992        3802  71.293564  0.735849\n",
              "1   4881        4913  78.833256  0.824405\n",
              "2   5642              84.756224          \n",
              "3   6083              88.006342          "
            ]
          },
          "metadata": {
            "tags": []
          },
          "execution_count": 9
        }
      ]
    },
    {
      "cell_type": "code",
      "metadata": {
        "colab": {
          "base_uri": "https://localhost:8080/",
          "height": 77
        },
        "id": "XPDN_4hOsp7V",
        "outputId": "3f409470-1bfe-4676-fa3b-802808e91d92"
      },
      "source": [
        "# standar deviasi\n",
        "df.aggregate(['std'])"
      ],
      "execution_count": 10,
      "outputs": [
        {
          "output_type": "execute_result",
          "data": {
            "text/html": [
              "<div>\n",
              "<style scoped>\n",
              "    .dataframe tbody tr th:only-of-type {\n",
              "        vertical-align: middle;\n",
              "    }\n",
              "\n",
              "    .dataframe tbody tr th {\n",
              "        vertical-align: top;\n",
              "    }\n",
              "\n",
              "    .dataframe thead th {\n",
              "        text-align: right;\n",
              "    }\n",
              "</style>\n",
              "<table border=\"1\" class=\"dataframe\">\n",
              "  <thead>\n",
              "    <tr style=\"text-align: right;\">\n",
              "      <th></th>\n",
              "      <th>Daerah</th>\n",
              "      <th>SumbuUtama</th>\n",
              "      <th>SumbuKecil</th>\n",
              "      <th>Keunikan</th>\n",
              "      <th>AreaBulatan</th>\n",
              "      <th>Diameter</th>\n",
              "      <th>KadarAir</th>\n",
              "      <th>Keliling</th>\n",
              "      <th>Bulatan</th>\n",
              "      <th>Ransum</th>\n",
              "    </tr>\n",
              "  </thead>\n",
              "  <tbody>\n",
              "    <tr>\n",
              "      <th>std</th>\n",
              "      <td>986.395491</td>\n",
              "      <td>18.282626</td>\n",
              "      <td>4.071075</td>\n",
              "      <td>0.036586</td>\n",
              "      <td>1011.696255</td>\n",
              "      <td>8.056867</td>\n",
              "      <td>0.094367</td>\n",
              "      <td>37.335402</td>\n",
              "      <td>0.061702</td>\n",
              "      <td>0.249767</td>\n",
              "    </tr>\n",
              "  </tbody>\n",
              "</table>\n",
              "</div>"
            ],
            "text/plain": [
              "         Daerah  SumbuUtama  SumbuKecil  ...   Keliling   Bulatan    Ransum\n",
              "std  986.395491   18.282626    4.071075  ...  37.335402  0.061702  0.249767\n",
              "\n",
              "[1 rows x 10 columns]"
            ]
          },
          "metadata": {
            "tags": []
          },
          "execution_count": 10
        }
      ]
    },
    {
      "cell_type": "code",
      "metadata": {
        "colab": {
          "base_uri": "https://localhost:8080/",
          "height": 77
        },
        "id": "PMhWNk-Lsz4m",
        "outputId": "13925d32-defc-46f2-d3ce-44c989821563"
      },
      "source": [
        "# variansi\n",
        "df.aggregate(['var'])"
      ],
      "execution_count": 11,
      "outputs": [
        {
          "output_type": "execute_result",
          "data": {
            "text/html": [
              "<div>\n",
              "<style scoped>\n",
              "    .dataframe tbody tr th:only-of-type {\n",
              "        vertical-align: middle;\n",
              "    }\n",
              "\n",
              "    .dataframe tbody tr th {\n",
              "        vertical-align: top;\n",
              "    }\n",
              "\n",
              "    .dataframe thead th {\n",
              "        text-align: right;\n",
              "    }\n",
              "</style>\n",
              "<table border=\"1\" class=\"dataframe\">\n",
              "  <thead>\n",
              "    <tr style=\"text-align: right;\">\n",
              "      <th></th>\n",
              "      <th>Daerah</th>\n",
              "      <th>SumbuUtama</th>\n",
              "      <th>SumbuKecil</th>\n",
              "      <th>Keunikan</th>\n",
              "      <th>AreaBulatan</th>\n",
              "      <th>Diameter</th>\n",
              "      <th>KadarAir</th>\n",
              "      <th>Keliling</th>\n",
              "      <th>Bulatan</th>\n",
              "      <th>Ransum</th>\n",
              "    </tr>\n",
              "  </thead>\n",
              "  <tbody>\n",
              "    <tr>\n",
              "      <th>var</th>\n",
              "      <td>972976.065615</td>\n",
              "      <td>334.254412</td>\n",
              "      <td>16.57365</td>\n",
              "      <td>0.001339</td>\n",
              "      <td>1.023529e+06</td>\n",
              "      <td>64.913111</td>\n",
              "      <td>0.008905</td>\n",
              "      <td>1393.932221</td>\n",
              "      <td>0.003807</td>\n",
              "      <td>0.062383</td>\n",
              "    </tr>\n",
              "  </tbody>\n",
              "</table>\n",
              "</div>"
            ],
            "text/plain": [
              "            Daerah  SumbuUtama  SumbuKecil  ...     Keliling   Bulatan    Ransum\n",
              "var  972976.065615  334.254412    16.57365  ...  1393.932221  0.003807  0.062383\n",
              "\n",
              "[1 rows x 10 columns]"
            ]
          },
          "metadata": {
            "tags": []
          },
          "execution_count": 11
        }
      ]
    },
    {
      "cell_type": "code",
      "metadata": {
        "colab": {
          "base_uri": "https://localhost:8080/",
          "height": 77
        },
        "id": "58jrQ671s3cg",
        "outputId": "51d4914e-29be-40c8-eeab-c3a4409850c9"
      },
      "source": [
        "# Definisikan array\n",
        "rangeArray = np.array([np.ptp(df.to_numpy(), axis=0)])\n",
        "\n",
        "# range\n",
        "pd.DataFrame(rangeArray, columns = ['Daerah', 'SumbuUtama', 'SumbuKecil', 'Keunikan', 'AreaBulatan', 'Diameter', 'KadarAir', 'Keliling', 'Bulatan', 'Ransum'], index = ['range']).astype({'Daerah': 'int64', 'AreaBulatan': 'int64'})"
      ],
      "execution_count": 12,
      "outputs": [
        {
          "output_type": "execute_result",
          "data": {
            "text/html": [
              "<div>\n",
              "<style scoped>\n",
              "    .dataframe tbody tr th:only-of-type {\n",
              "        vertical-align: middle;\n",
              "    }\n",
              "\n",
              "    .dataframe tbody tr th {\n",
              "        vertical-align: top;\n",
              "    }\n",
              "\n",
              "    .dataframe thead th {\n",
              "        text-align: right;\n",
              "    }\n",
              "</style>\n",
              "<table border=\"1\" class=\"dataframe\">\n",
              "  <thead>\n",
              "    <tr style=\"text-align: right;\">\n",
              "      <th></th>\n",
              "      <th>Daerah</th>\n",
              "      <th>SumbuUtama</th>\n",
              "      <th>SumbuKecil</th>\n",
              "      <th>Keunikan</th>\n",
              "      <th>AreaBulatan</th>\n",
              "      <th>Diameter</th>\n",
              "      <th>KadarAir</th>\n",
              "      <th>Keliling</th>\n",
              "      <th>Bulatan</th>\n",
              "      <th>Ransum</th>\n",
              "    </tr>\n",
              "  </thead>\n",
              "  <tbody>\n",
              "    <tr>\n",
              "      <th>range</th>\n",
              "      <td>4931</td>\n",
              "      <td>153.795469</td>\n",
              "      <td>29.071182</td>\n",
              "      <td>0.194085</td>\n",
              "      <td>5141</td>\n",
              "      <td>40.747172</td>\n",
              "      <td>0.468972</td>\n",
              "      <td>291.822</td>\n",
              "      <td>0.730158</td>\n",
              "      <td>1.024013</td>\n",
              "    </tr>\n",
              "  </tbody>\n",
              "</table>\n",
              "</div>"
            ],
            "text/plain": [
              "       Daerah  SumbuUtama  SumbuKecil  ...  Keliling   Bulatan    Ransum\n",
              "range    4931  153.795469   29.071182  ...   291.822  0.730158  1.024013\n",
              "\n",
              "[1 rows x 10 columns]"
            ]
          },
          "metadata": {
            "tags": []
          },
          "execution_count": 12
        }
      ]
    },
    {
      "cell_type": "code",
      "metadata": {
        "colab": {
          "base_uri": "https://localhost:8080/",
          "height": 77
        },
        "id": "Ssv0tZs0s-wp",
        "outputId": "91a46aeb-8a42-42a5-fa50-cbdb035c29d9"
      },
      "source": [
        "# nilai minimum\n",
        "df.aggregate(['min'])"
      ],
      "execution_count": 13,
      "outputs": [
        {
          "output_type": "execute_result",
          "data": {
            "text/html": [
              "<div>\n",
              "<style scoped>\n",
              "    .dataframe tbody tr th:only-of-type {\n",
              "        vertical-align: middle;\n",
              "    }\n",
              "\n",
              "    .dataframe tbody tr th {\n",
              "        vertical-align: top;\n",
              "    }\n",
              "\n",
              "    .dataframe thead th {\n",
              "        text-align: right;\n",
              "    }\n",
              "</style>\n",
              "<table border=\"1\" class=\"dataframe\">\n",
              "  <thead>\n",
              "    <tr style=\"text-align: right;\">\n",
              "      <th></th>\n",
              "      <th>Daerah</th>\n",
              "      <th>SumbuUtama</th>\n",
              "      <th>SumbuKecil</th>\n",
              "      <th>Keunikan</th>\n",
              "      <th>AreaBulatan</th>\n",
              "      <th>Diameter</th>\n",
              "      <th>KadarAir</th>\n",
              "      <th>Keliling</th>\n",
              "      <th>Bulatan</th>\n",
              "      <th>Ransum</th>\n",
              "    </tr>\n",
              "  </thead>\n",
              "  <tbody>\n",
              "    <tr>\n",
              "      <th>min</th>\n",
              "      <td>2522</td>\n",
              "      <td>74.133114</td>\n",
              "      <td>39.906517</td>\n",
              "      <td>0.719916</td>\n",
              "      <td>2579</td>\n",
              "      <td>56.666658</td>\n",
              "      <td>0.409927</td>\n",
              "      <td>197.015</td>\n",
              "      <td>0.17459</td>\n",
              "      <td>1.440796</td>\n",
              "    </tr>\n",
              "  </tbody>\n",
              "</table>\n",
              "</div>"
            ],
            "text/plain": [
              "     Daerah  SumbuUtama  SumbuKecil  ...  Keliling  Bulatan    Ransum\n",
              "min    2522   74.133114   39.906517  ...   197.015  0.17459  1.440796\n",
              "\n",
              "[1 rows x 10 columns]"
            ]
          },
          "metadata": {
            "tags": []
          },
          "execution_count": 13
        }
      ]
    },
    {
      "cell_type": "code",
      "metadata": {
        "colab": {
          "base_uri": "https://localhost:8080/",
          "height": 77
        },
        "id": "KI8aB0WQsqmV",
        "outputId": "48f679ca-03fe-4562-88de-f20a91c4dae0"
      },
      "source": [
        "# nilai maksimum\n",
        "df.aggregate(['max'])"
      ],
      "execution_count": 14,
      "outputs": [
        {
          "output_type": "execute_result",
          "data": {
            "text/html": [
              "<div>\n",
              "<style scoped>\n",
              "    .dataframe tbody tr th:only-of-type {\n",
              "        vertical-align: middle;\n",
              "    }\n",
              "\n",
              "    .dataframe tbody tr th {\n",
              "        vertical-align: top;\n",
              "    }\n",
              "\n",
              "    .dataframe thead th {\n",
              "        text-align: right;\n",
              "    }\n",
              "</style>\n",
              "<table border=\"1\" class=\"dataframe\">\n",
              "  <thead>\n",
              "    <tr style=\"text-align: right;\">\n",
              "      <th></th>\n",
              "      <th>Daerah</th>\n",
              "      <th>SumbuUtama</th>\n",
              "      <th>SumbuKecil</th>\n",
              "      <th>Keunikan</th>\n",
              "      <th>AreaBulatan</th>\n",
              "      <th>Diameter</th>\n",
              "      <th>KadarAir</th>\n",
              "      <th>Keliling</th>\n",
              "      <th>Bulatan</th>\n",
              "      <th>Ransum</th>\n",
              "    </tr>\n",
              "  </thead>\n",
              "  <tbody>\n",
              "    <tr>\n",
              "      <th>max</th>\n",
              "      <td>7453</td>\n",
              "      <td>227.928583</td>\n",
              "      <td>68.9777</td>\n",
              "      <td>0.914001</td>\n",
              "      <td>7720</td>\n",
              "      <td>97.41383</td>\n",
              "      <td>0.878899</td>\n",
              "      <td>488.837</td>\n",
              "      <td>0.904748</td>\n",
              "      <td>2.464809</td>\n",
              "    </tr>\n",
              "  </tbody>\n",
              "</table>\n",
              "</div>"
            ],
            "text/plain": [
              "     Daerah  SumbuUtama  SumbuKecil  ...  Keliling   Bulatan    Ransum\n",
              "max    7453  227.928583     68.9777  ...   488.837  0.904748  2.464809\n",
              "\n",
              "[1 rows x 10 columns]"
            ]
          },
          "metadata": {
            "tags": []
          },
          "execution_count": 14
        }
      ]
    },
    {
      "cell_type": "code",
      "metadata": {
        "colab": {
          "base_uri": "https://localhost:8080/",
          "height": 136
        },
        "id": "b-faAeiNtJKI",
        "outputId": "146590de-196e-4689-b353-87b9d5a7ebb8"
      },
      "source": [
        "# kuartil\n",
        "df.quantile([0.25, 0.5, 0.75])"
      ],
      "execution_count": 15,
      "outputs": [
        {
          "output_type": "execute_result",
          "data": {
            "text/html": [
              "<div>\n",
              "<style scoped>\n",
              "    .dataframe tbody tr th:only-of-type {\n",
              "        vertical-align: middle;\n",
              "    }\n",
              "\n",
              "    .dataframe tbody tr th {\n",
              "        vertical-align: top;\n",
              "    }\n",
              "\n",
              "    .dataframe thead th {\n",
              "        text-align: right;\n",
              "    }\n",
              "</style>\n",
              "<table border=\"1\" class=\"dataframe\">\n",
              "  <thead>\n",
              "    <tr style=\"text-align: right;\">\n",
              "      <th></th>\n",
              "      <th>Daerah</th>\n",
              "      <th>SumbuUtama</th>\n",
              "      <th>SumbuKecil</th>\n",
              "      <th>Keunikan</th>\n",
              "      <th>AreaBulatan</th>\n",
              "      <th>Diameter</th>\n",
              "      <th>KadarAir</th>\n",
              "      <th>Keliling</th>\n",
              "      <th>Bulatan</th>\n",
              "      <th>Ransum</th>\n",
              "    </tr>\n",
              "  </thead>\n",
              "  <tbody>\n",
              "    <tr>\n",
              "      <th>0.25</th>\n",
              "      <td>4042.75</td>\n",
              "      <td>104.116098</td>\n",
              "      <td>51.193576</td>\n",
              "      <td>0.863676</td>\n",
              "      <td>4170.25</td>\n",
              "      <td>71.745308</td>\n",
              "      <td>0.572632</td>\n",
              "      <td>255.8830</td>\n",
              "      <td>0.731991</td>\n",
              "      <td>1.983939</td>\n",
              "    </tr>\n",
              "    <tr>\n",
              "      <th>0.50</th>\n",
              "      <td>4735.00</td>\n",
              "      <td>115.405140</td>\n",
              "      <td>53.731199</td>\n",
              "      <td>0.890045</td>\n",
              "      <td>4857.00</td>\n",
              "      <td>77.645277</td>\n",
              "      <td>0.626117</td>\n",
              "      <td>280.0455</td>\n",
              "      <td>0.761288</td>\n",
              "      <td>2.193599</td>\n",
              "    </tr>\n",
              "    <tr>\n",
              "      <th>0.75</th>\n",
              "      <td>5495.50</td>\n",
              "      <td>129.046792</td>\n",
              "      <td>56.325158</td>\n",
              "      <td>0.907578</td>\n",
              "      <td>5654.25</td>\n",
              "      <td>83.648598</td>\n",
              "      <td>0.726633</td>\n",
              "      <td>306.0625</td>\n",
              "      <td>0.796361</td>\n",
              "      <td>2.381612</td>\n",
              "    </tr>\n",
              "  </tbody>\n",
              "</table>\n",
              "</div>"
            ],
            "text/plain": [
              "       Daerah  SumbuUtama  SumbuKecil  ...  Keliling   Bulatan    Ransum\n",
              "0.25  4042.75  104.116098   51.193576  ...  255.8830  0.731991  1.983939\n",
              "0.50  4735.00  115.405140   53.731199  ...  280.0455  0.761288  2.193599\n",
              "0.75  5495.50  129.046792   56.325158  ...  306.0625  0.796361  2.381612\n",
              "\n",
              "[3 rows x 10 columns]"
            ]
          },
          "metadata": {
            "tags": []
          },
          "execution_count": 15
        }
      ]
    },
    {
      "cell_type": "code",
      "metadata": {
        "colab": {
          "base_uri": "https://localhost:8080/",
          "height": 77
        },
        "id": "NKW3HKHbtxde",
        "outputId": "fb4d68af-19ee-4964-ea8d-ae90132f1fa6"
      },
      "source": [
        "# Fungsi pembantu\n",
        "def iqr(x):\n",
        "  return np.subtract(*np.percentile(x, [75, 25]))\n",
        "\n",
        "# Definisikan series\n",
        "iqrFrame = { 'iqr': df.apply(iqr) }\n",
        "\n",
        "# IQR\n",
        "pd.DataFrame(iqrFrame).T"
      ],
      "execution_count": 16,
      "outputs": [
        {
          "output_type": "execute_result",
          "data": {
            "text/html": [
              "<div>\n",
              "<style scoped>\n",
              "    .dataframe tbody tr th:only-of-type {\n",
              "        vertical-align: middle;\n",
              "    }\n",
              "\n",
              "    .dataframe tbody tr th {\n",
              "        vertical-align: top;\n",
              "    }\n",
              "\n",
              "    .dataframe thead th {\n",
              "        text-align: right;\n",
              "    }\n",
              "</style>\n",
              "<table border=\"1\" class=\"dataframe\">\n",
              "  <thead>\n",
              "    <tr style=\"text-align: right;\">\n",
              "      <th></th>\n",
              "      <th>Daerah</th>\n",
              "      <th>SumbuUtama</th>\n",
              "      <th>SumbuKecil</th>\n",
              "      <th>Keunikan</th>\n",
              "      <th>AreaBulatan</th>\n",
              "      <th>Diameter</th>\n",
              "      <th>KadarAir</th>\n",
              "      <th>Keliling</th>\n",
              "      <th>Bulatan</th>\n",
              "      <th>Ransum</th>\n",
              "    </tr>\n",
              "  </thead>\n",
              "  <tbody>\n",
              "    <tr>\n",
              "      <th>iqr</th>\n",
              "      <td>1452.75</td>\n",
              "      <td>24.930694</td>\n",
              "      <td>5.131582</td>\n",
              "      <td>0.043902</td>\n",
              "      <td>1484.0</td>\n",
              "      <td>11.90329</td>\n",
              "      <td>0.154001</td>\n",
              "      <td>50.1795</td>\n",
              "      <td>0.06437</td>\n",
              "      <td>0.397673</td>\n",
              "    </tr>\n",
              "  </tbody>\n",
              "</table>\n",
              "</div>"
            ],
            "text/plain": [
              "      Daerah  SumbuUtama  SumbuKecil  ...  Keliling  Bulatan    Ransum\n",
              "iqr  1452.75   24.930694    5.131582  ...   50.1795  0.06437  0.397673\n",
              "\n",
              "[1 rows x 10 columns]"
            ]
          },
          "metadata": {
            "tags": []
          },
          "execution_count": 16
        }
      ]
    },
    {
      "cell_type": "code",
      "metadata": {
        "colab": {
          "base_uri": "https://localhost:8080/",
          "height": 77
        },
        "id": "OUVMkitPuIhC",
        "outputId": "dacc4c8e-5e21-40a8-f04d-8858e1c7c138"
      },
      "source": [
        "# skewness\n",
        "df.aggregate(['skew'])"
      ],
      "execution_count": 17,
      "outputs": [
        {
          "output_type": "execute_result",
          "data": {
            "text/html": [
              "<div>\n",
              "<style scoped>\n",
              "    .dataframe tbody tr th:only-of-type {\n",
              "        vertical-align: middle;\n",
              "    }\n",
              "\n",
              "    .dataframe tbody tr th {\n",
              "        vertical-align: top;\n",
              "    }\n",
              "\n",
              "    .dataframe thead th {\n",
              "        text-align: right;\n",
              "    }\n",
              "</style>\n",
              "<table border=\"1\" class=\"dataframe\">\n",
              "  <thead>\n",
              "    <tr style=\"text-align: right;\">\n",
              "      <th></th>\n",
              "      <th>Daerah</th>\n",
              "      <th>SumbuUtama</th>\n",
              "      <th>SumbuKecil</th>\n",
              "      <th>Keunikan</th>\n",
              "      <th>AreaBulatan</th>\n",
              "      <th>Diameter</th>\n",
              "      <th>KadarAir</th>\n",
              "      <th>Keliling</th>\n",
              "      <th>Bulatan</th>\n",
              "      <th>Ransum</th>\n",
              "    </tr>\n",
              "  </thead>\n",
              "  <tbody>\n",
              "    <tr>\n",
              "      <th>skew</th>\n",
              "      <td>0.238144</td>\n",
              "      <td>0.761529</td>\n",
              "      <td>-0.010828</td>\n",
              "      <td>-1.623472</td>\n",
              "      <td>0.25756</td>\n",
              "      <td>0.002725</td>\n",
              "      <td>0.493661</td>\n",
              "      <td>0.733627</td>\n",
              "      <td>-3.599237</td>\n",
              "      <td>-0.658188</td>\n",
              "    </tr>\n",
              "  </tbody>\n",
              "</table>\n",
              "</div>"
            ],
            "text/plain": [
              "        Daerah  SumbuUtama  SumbuKecil  ...  Keliling   Bulatan    Ransum\n",
              "skew  0.238144    0.761529   -0.010828  ...  0.733627 -3.599237 -0.658188\n",
              "\n",
              "[1 rows x 10 columns]"
            ]
          },
          "metadata": {
            "tags": []
          },
          "execution_count": 17
        }
      ]
    },
    {
      "cell_type": "code",
      "metadata": {
        "colab": {
          "base_uri": "https://localhost:8080/",
          "height": 77
        },
        "id": "sHhka_WUuPzp",
        "outputId": "f2818ddc-a4be-43f5-98a6-9991fa76a9c7"
      },
      "source": [
        "# kurtosis\n",
        "df.aggregate(['kurt'])"
      ],
      "execution_count": 18,
      "outputs": [
        {
          "output_type": "execute_result",
          "data": {
            "text/html": [
              "<div>\n",
              "<style scoped>\n",
              "    .dataframe tbody tr th:only-of-type {\n",
              "        vertical-align: middle;\n",
              "    }\n",
              "\n",
              "    .dataframe tbody tr th {\n",
              "        vertical-align: top;\n",
              "    }\n",
              "\n",
              "    .dataframe thead th {\n",
              "        text-align: right;\n",
              "    }\n",
              "</style>\n",
              "<table border=\"1\" class=\"dataframe\">\n",
              "  <thead>\n",
              "    <tr style=\"text-align: right;\">\n",
              "      <th></th>\n",
              "      <th>Daerah</th>\n",
              "      <th>SumbuUtama</th>\n",
              "      <th>SumbuKecil</th>\n",
              "      <th>Keunikan</th>\n",
              "      <th>AreaBulatan</th>\n",
              "      <th>Diameter</th>\n",
              "      <th>KadarAir</th>\n",
              "      <th>Keliling</th>\n",
              "      <th>Bulatan</th>\n",
              "      <th>Ransum</th>\n",
              "    </tr>\n",
              "  </thead>\n",
              "  <tbody>\n",
              "    <tr>\n",
              "      <th>kurt</th>\n",
              "      <td>-0.434631</td>\n",
              "      <td>4.330534</td>\n",
              "      <td>0.475568</td>\n",
              "      <td>2.917256</td>\n",
              "      <td>-0.409685</td>\n",
              "      <td>-0.466455</td>\n",
              "      <td>-0.740326</td>\n",
              "      <td>2.272685</td>\n",
              "      <td>29.975096</td>\n",
              "      <td>-0.428656</td>\n",
              "    </tr>\n",
              "  </tbody>\n",
              "</table>\n",
              "</div>"
            ],
            "text/plain": [
              "        Daerah  SumbuUtama  SumbuKecil  ...  Keliling    Bulatan    Ransum\n",
              "kurt -0.434631    4.330534    0.475568  ...  2.272685  29.975096 -0.428656\n",
              "\n",
              "[1 rows x 10 columns]"
            ]
          },
          "metadata": {
            "tags": []
          },
          "execution_count": 18
        }
      ]
    },
    {
      "cell_type": "code",
      "metadata": {
        "colab": {
          "base_uri": "https://localhost:8080/",
          "height": 77
        },
        "id": "UHKcx8QuulW8",
        "outputId": "6733e901-0714-4379-82d2-15d6f5dcfda6"
      },
      "source": [
        "# tambahan: banyak (count)\n",
        "df.aggregate(['count'])"
      ],
      "execution_count": 19,
      "outputs": [
        {
          "output_type": "execute_result",
          "data": {
            "text/html": [
              "<div>\n",
              "<style scoped>\n",
              "    .dataframe tbody tr th:only-of-type {\n",
              "        vertical-align: middle;\n",
              "    }\n",
              "\n",
              "    .dataframe tbody tr th {\n",
              "        vertical-align: top;\n",
              "    }\n",
              "\n",
              "    .dataframe thead th {\n",
              "        text-align: right;\n",
              "    }\n",
              "</style>\n",
              "<table border=\"1\" class=\"dataframe\">\n",
              "  <thead>\n",
              "    <tr style=\"text-align: right;\">\n",
              "      <th></th>\n",
              "      <th>Daerah</th>\n",
              "      <th>SumbuUtama</th>\n",
              "      <th>SumbuKecil</th>\n",
              "      <th>Keunikan</th>\n",
              "      <th>AreaBulatan</th>\n",
              "      <th>Diameter</th>\n",
              "      <th>KadarAir</th>\n",
              "      <th>Keliling</th>\n",
              "      <th>Bulatan</th>\n",
              "      <th>Ransum</th>\n",
              "    </tr>\n",
              "  </thead>\n",
              "  <tbody>\n",
              "    <tr>\n",
              "      <th>count</th>\n",
              "      <td>500</td>\n",
              "      <td>500</td>\n",
              "      <td>500</td>\n",
              "      <td>500</td>\n",
              "      <td>500</td>\n",
              "      <td>500</td>\n",
              "      <td>500</td>\n",
              "      <td>500</td>\n",
              "      <td>500</td>\n",
              "      <td>500</td>\n",
              "    </tr>\n",
              "  </tbody>\n",
              "</table>\n",
              "</div>"
            ],
            "text/plain": [
              "       Daerah  SumbuUtama  SumbuKecil  ...  Keliling  Bulatan  Ransum\n",
              "count     500         500         500  ...       500      500     500\n",
              "\n",
              "[1 rows x 10 columns]"
            ]
          },
          "metadata": {
            "tags": []
          },
          "execution_count": 19
        }
      ]
    },
    {
      "cell_type": "code",
      "metadata": {
        "colab": {
          "base_uri": "https://localhost:8080/",
          "height": 77
        },
        "id": "3t1yc6sAurW8",
        "outputId": "14dbd23e-6d2f-4e5e-cf92-c2bae9d1797d"
      },
      "source": [
        "# tambahan: jumlah (sum)\n",
        "df.aggregate(['sum'])"
      ],
      "execution_count": 20,
      "outputs": [
        {
          "output_type": "execute_result",
          "data": {
            "text/html": [
              "<div>\n",
              "<style scoped>\n",
              "    .dataframe tbody tr th:only-of-type {\n",
              "        vertical-align: middle;\n",
              "    }\n",
              "\n",
              "    .dataframe tbody tr th {\n",
              "        vertical-align: top;\n",
              "    }\n",
              "\n",
              "    .dataframe thead th {\n",
              "        text-align: right;\n",
              "    }\n",
              "</style>\n",
              "<table border=\"1\" class=\"dataframe\">\n",
              "  <thead>\n",
              "    <tr style=\"text-align: right;\">\n",
              "      <th></th>\n",
              "      <th>Daerah</th>\n",
              "      <th>SumbuUtama</th>\n",
              "      <th>SumbuKecil</th>\n",
              "      <th>Keunikan</th>\n",
              "      <th>AreaBulatan</th>\n",
              "      <th>Diameter</th>\n",
              "      <th>KadarAir</th>\n",
              "      <th>Keliling</th>\n",
              "      <th>Bulatan</th>\n",
              "      <th>Ransum</th>\n",
              "    </tr>\n",
              "  </thead>\n",
              "  <tbody>\n",
              "    <tr>\n",
              "      <th>sum</th>\n",
              "      <td>2400623</td>\n",
              "      <td>58022.585684</td>\n",
              "      <td>26857.622994</td>\n",
              "      <td>439.381957</td>\n",
              "      <td>2468524</td>\n",
              "      <td>38885.578904</td>\n",
              "      <td>324.185836</td>\n",
              "      <td>140739.861</td>\n",
              "      <td>380.868718</td>\n",
              "      <td>1075.457666</td>\n",
              "    </tr>\n",
              "  </tbody>\n",
              "</table>\n",
              "</div>"
            ],
            "text/plain": [
              "      Daerah    SumbuUtama    SumbuKecil  ...    Keliling     Bulatan       Ransum\n",
              "sum  2400623  58022.585684  26857.622994  ...  140739.861  380.868718  1075.457666\n",
              "\n",
              "[1 rows x 10 columns]"
            ]
          },
          "metadata": {
            "tags": []
          },
          "execution_count": 20
        }
      ]
    },
    {
      "cell_type": "code",
      "metadata": {
        "colab": {
          "base_uri": "https://localhost:8080/",
          "height": 77
        },
        "id": "kc8Qylfbuyk_",
        "outputId": "c4871ec9-80f9-4e1f-ca8b-63f05f75d78c"
      },
      "source": [
        "# tambahan: jumlah unik (nunique)\n",
        "df.aggregate(['nunique'])"
      ],
      "execution_count": 21,
      "outputs": [
        {
          "output_type": "execute_result",
          "data": {
            "text/html": [
              "<div>\n",
              "<style scoped>\n",
              "    .dataframe tbody tr th:only-of-type {\n",
              "        vertical-align: middle;\n",
              "    }\n",
              "\n",
              "    .dataframe tbody tr th {\n",
              "        vertical-align: top;\n",
              "    }\n",
              "\n",
              "    .dataframe thead th {\n",
              "        text-align: right;\n",
              "    }\n",
              "</style>\n",
              "<table border=\"1\" class=\"dataframe\">\n",
              "  <thead>\n",
              "    <tr style=\"text-align: right;\">\n",
              "      <th></th>\n",
              "      <th>Daerah</th>\n",
              "      <th>SumbuUtama</th>\n",
              "      <th>SumbuKecil</th>\n",
              "      <th>Keunikan</th>\n",
              "      <th>AreaBulatan</th>\n",
              "      <th>Diameter</th>\n",
              "      <th>KadarAir</th>\n",
              "      <th>Keliling</th>\n",
              "      <th>Bulatan</th>\n",
              "      <th>Ransum</th>\n",
              "    </tr>\n",
              "  </thead>\n",
              "  <tbody>\n",
              "    <tr>\n",
              "      <th>nunique</th>\n",
              "      <td>466</td>\n",
              "      <td>500</td>\n",
              "      <td>500</td>\n",
              "      <td>500</td>\n",
              "      <td>465</td>\n",
              "      <td>466</td>\n",
              "      <td>498</td>\n",
              "      <td>500</td>\n",
              "      <td>500</td>\n",
              "      <td>500</td>\n",
              "    </tr>\n",
              "  </tbody>\n",
              "</table>\n",
              "</div>"
            ],
            "text/plain": [
              "         Daerah  SumbuUtama  SumbuKecil  ...  Keliling  Bulatan  Ransum\n",
              "nunique     466         500         500  ...       500      500     500\n",
              "\n",
              "[1 rows x 10 columns]"
            ]
          },
          "metadata": {
            "tags": []
          },
          "execution_count": 21
        }
      ]
    },
    {
      "cell_type": "code",
      "metadata": {
        "colab": {
          "base_uri": "https://localhost:8080/",
          "height": 77
        },
        "id": "sitR5rTqciSw",
        "outputId": "54a0661f-d43b-41cd-ba29-a7b19f71c9e1"
      },
      "source": [
        "# tambahan: null values\n",
        "df.isna().aggregate(['sum'])"
      ],
      "execution_count": 22,
      "outputs": [
        {
          "output_type": "execute_result",
          "data": {
            "text/html": [
              "<div>\n",
              "<style scoped>\n",
              "    .dataframe tbody tr th:only-of-type {\n",
              "        vertical-align: middle;\n",
              "    }\n",
              "\n",
              "    .dataframe tbody tr th {\n",
              "        vertical-align: top;\n",
              "    }\n",
              "\n",
              "    .dataframe thead th {\n",
              "        text-align: right;\n",
              "    }\n",
              "</style>\n",
              "<table border=\"1\" class=\"dataframe\">\n",
              "  <thead>\n",
              "    <tr style=\"text-align: right;\">\n",
              "      <th></th>\n",
              "      <th>Daerah</th>\n",
              "      <th>SumbuUtama</th>\n",
              "      <th>SumbuKecil</th>\n",
              "      <th>Keunikan</th>\n",
              "      <th>AreaBulatan</th>\n",
              "      <th>Diameter</th>\n",
              "      <th>KadarAir</th>\n",
              "      <th>Keliling</th>\n",
              "      <th>Bulatan</th>\n",
              "      <th>Ransum</th>\n",
              "    </tr>\n",
              "  </thead>\n",
              "  <tbody>\n",
              "    <tr>\n",
              "      <th>sum</th>\n",
              "      <td>0</td>\n",
              "      <td>0</td>\n",
              "      <td>0</td>\n",
              "      <td>0</td>\n",
              "      <td>0</td>\n",
              "      <td>0</td>\n",
              "      <td>0</td>\n",
              "      <td>0</td>\n",
              "      <td>0</td>\n",
              "      <td>0</td>\n",
              "    </tr>\n",
              "  </tbody>\n",
              "</table>\n",
              "</div>"
            ],
            "text/plain": [
              "     Daerah  SumbuUtama  SumbuKecil  ...  Keliling  Bulatan  Ransum\n",
              "sum       0           0           0  ...         0        0       0\n",
              "\n",
              "[1 rows x 10 columns]"
            ]
          },
          "metadata": {
            "tags": []
          },
          "execution_count": 22
        }
      ]
    },
    {
      "cell_type": "code",
      "metadata": {
        "colab": {
          "base_uri": "https://localhost:8080/",
          "height": 106
        },
        "id": "yyNBgU-kcvpj",
        "outputId": "5a9eac4f-31eb-4d14-d395-5ea5eca2874f"
      },
      "source": [
        "# tambahan: distribusi fitur target (Kelas dari gandum)\n",
        "target.value_counts().rename_axis('Kelas').reset_index(name='Count')"
      ],
      "execution_count": 23,
      "outputs": [
        {
          "output_type": "execute_result",
          "data": {
            "text/html": [
              "<div>\n",
              "<style scoped>\n",
              "    .dataframe tbody tr th:only-of-type {\n",
              "        vertical-align: middle;\n",
              "    }\n",
              "\n",
              "    .dataframe tbody tr th {\n",
              "        vertical-align: top;\n",
              "    }\n",
              "\n",
              "    .dataframe thead th {\n",
              "        text-align: right;\n",
              "    }\n",
              "</style>\n",
              "<table border=\"1\" class=\"dataframe\">\n",
              "  <thead>\n",
              "    <tr style=\"text-align: right;\">\n",
              "      <th></th>\n",
              "      <th>Kelas</th>\n",
              "      <th>Count</th>\n",
              "    </tr>\n",
              "  </thead>\n",
              "  <tbody>\n",
              "    <tr>\n",
              "      <th>0</th>\n",
              "      <td>2</td>\n",
              "      <td>251</td>\n",
              "    </tr>\n",
              "    <tr>\n",
              "      <th>1</th>\n",
              "      <td>1</td>\n",
              "      <td>249</td>\n",
              "    </tr>\n",
              "  </tbody>\n",
              "</table>\n",
              "</div>"
            ],
            "text/plain": [
              "   Kelas  Count\n",
              "0      2    251\n",
              "1      1    249"
            ]
          },
          "metadata": {
            "tags": []
          },
          "execution_count": 23
        }
      ]
    },
    {
      "cell_type": "markdown",
      "metadata": {
        "id": "gmzeOc-UAOIZ"
      },
      "source": [
        "## Soal 2\n",
        "> Membuat Visualisasi plot distribusi, dalam bentuk histogram dan boxplot untuk setiap kolom numerik. Berikan uraian penjelasan kondisi setiap kolom berdasarkan kedua plot tersebut.\n"
      ]
    },
    {
      "cell_type": "code",
      "metadata": {
        "colab": {
          "base_uri": "https://localhost:8080/",
          "height": 386
        },
        "id": "vPdZF9OaCKhX",
        "outputId": "81e37acc-3116-4e18-de3c-0d2ca710335d"
      },
      "source": [
        "# Visualisasi plot distribusi berupa histogram\n",
        "# Membuat figure dan axis\n",
        "fig, ax = plt.subplots(figsize=(10,5), ncols=4, nrows=3)\n",
        "\n",
        "# Mengatur positioning\n",
        "left   =  0.125\n",
        "right  =  0.9\n",
        "bottom =  0.1\n",
        "top    =  0.9\n",
        "wspace =  .5\n",
        "hspace =  .7\n",
        "\n",
        "plt.subplots_adjust(\n",
        "    left    =  left, \n",
        "    bottom  =  bottom, \n",
        "    right   =  right, \n",
        "    top     =  top, \n",
        "    wspace  =  wspace, \n",
        "    hspace  =  hspace,\n",
        ")\n",
        "\n",
        "y_title_margin = .2\n",
        "\n",
        "# Title\n",
        "plt.suptitle(\"Histogram Atribut Numerik\", y = 1, fontsize=20)\n",
        "\n",
        "# Memplot setiap atribut numerik pada kotak tertentu \n",
        "sns.histplot(df['Daerah'], kde=True, ax=ax[0][0], bins=15)\n",
        "sns.histplot(df['SumbuUtama'],  kde=True, ax=ax[0][1], bins=15)\n",
        "sns.histplot(df['SumbuKecil'],  kde=True, ax=ax[0][2], bins=15)\n",
        "sns.histplot(df['Keunikan'], kde=True, ax=ax[0][3], bins=15)\n",
        "sns.histplot(df['AreaBulatan'],  kde=True, ax=ax[1][0], bins=15)\n",
        "sns.histplot(df['Diameter'],  kde=True, ax=ax[1][1], bins=15)\n",
        "sns.histplot(df['KadarAir'], kde=True, ax=ax[1][2], bins=15)\n",
        "sns.histplot(df['Keliling'], kde=True, ax=ax[1][3], bins=15)\n",
        "sns.histplot(df['Bulatan'], kde=True, ax=ax[2][0], bins=15)\n",
        "sns.histplot(df['Ransum'], kde=True, ax=ax[2][1], bins=15)\n",
        "\n",
        "plt.show()"
      ],
      "execution_count": 24,
      "outputs": [
        {
          "output_type": "display_data",
          "data": {
            "image/png": "[encoded data removed]",
            "text/plain": [
              "<Figure size 720x360 with 12 Axes>"
            ]
          },
          "metadata": {
            "tags": [],
            "needs_background": "light"
          }
        }
      ]
    },
    {
      "cell_type": "code",
      "metadata": {
        "colab": {
          "base_uri": "https://localhost:8080/",
          "height": 386
        },
        "id": "KZXE-gyyDPmj",
        "outputId": "2efb9daf-2f2a-4f33-bfd6-373abacb77ce"
      },
      "source": [
        "# Visualisasi plot distribusi berupa boxplot\n",
        "# Membuat figure dan axis\n",
        "fig, ax = plt.subplots(figsize=(10,5), ncols=4, nrows=3)\n",
        "\n",
        "# Mengatur positioning\n",
        "left   =  0.125\n",
        "right  =  0.9\n",
        "bottom =  0.1\n",
        "top    =  0.9\n",
        "wspace =  .5\n",
        "hspace =  .7\n",
        "\n",
        "plt.subplots_adjust(\n",
        "    left    =  left, \n",
        "    bottom  =  bottom, \n",
        "    right   =  right, \n",
        "    top     =  top, \n",
        "    wspace  =  wspace, \n",
        "    hspace  =  hspace,\n",
        ")\n",
        "\n",
        "y_title_margin = .2\n",
        "\n",
        "# Title\n",
        "plt.suptitle(\"Boxplot Atribut Numerik\", y = 1, fontsize=20)\n",
        "\n",
        "# Memplot setiap atribut numerik pada kotak tertentu \n",
        "sns.boxplot(df['Daerah'], ax=ax[0][0])\n",
        "sns.boxplot(df['SumbuUtama'], ax=ax[0][1])\n",
        "sns.boxplot(df['SumbuKecil'], ax=ax[0][2])\n",
        "sns.boxplot(df['Keunikan'], ax=ax[0][3])\n",
        "sns.boxplot(df['AreaBulatan'], ax=ax[1][0])\n",
        "sns.boxplot(df['Diameter'], ax=ax[1][1])\n",
        "sns.boxplot(df['KadarAir'], ax=ax[1][2])\n",
        "sns.boxplot(df['Keliling'], ax=ax[1][3])\n",
        "sns.boxplot(df['Bulatan'], ax=ax[2][0])\n",
        "sns.boxplot(df['Ransum'], ax=ax[2][1])\n",
        "\n",
        "plt.show()"
      ],
      "execution_count": 25,
      "outputs": [
        {
          "output_type": "display_data",
          "data": {
            "image/png": "[encoded data removed]",
            "text/plain": [
              "<Figure size 720x360 with 12 Axes>"
            ]
          },
          "metadata": {
            "tags": [],
            "needs_background": "light"
          }
        }
      ]
    },
    {
      "cell_type": "markdown",
      "metadata": {
        "id": "MZrdLg_SW8xw"
      },
      "source": [
        "Dari histogram dan boxplot yang telah digambarkan, dapat dilihat bahwa:\n",
        "* Atribut **Daerah**, **SumbuKecil**, **AreaBulatan**, dan **Diameter** memiliki distribusi normal\n",
        "* Atribut **Keunikan** dan **Bulatan** memiliki distribusi data yang *negatively skewed*\n",
        "* Atribut **SumbuUtama** dan **Keliling** memiliki distribusi data yang *positively skewed*\n",
        "* Atribut **Ransum** memiliki distribusi data bimodal yang *negatively skewed*\n",
        "* Atribut **KadarAir** memiliki distribusi data bimodal yang *positively skewed*\n",
        "\n",
        "Boxplot yang telah digambarkan dapat digunakan untuk menganalisis data pencilan atau *outlier* :\n",
        "* Atribut **SumbuUtama**, **SumbuKecil**, **Keunikan**, **Keliling**, dan **Bulatan** memiliki data pencilan\n",
        "* Secara visual, atribut **Keunikan** memiliki data pencilan terbanyak di antara atribut-atribut lainnya\n",
        "* Atribut **Daerah**, **AreaBulatan**, **Diameter**, **KadarAir**, dan **Ransum** tidak memiliki data pencilan"
      ]
    },
    {
      "cell_type": "markdown",
      "metadata": {
        "id": "HKlgRzQiAO5u"
      },
      "source": [
        "## Soal 3\n",
        "> Menentukan setiap kolom numerik berdistribusi normal atau tidak. Gunakan normality test\n",
        "yang dikaitkan dengan histogram plot."
      ]
    },
    {
      "cell_type": "markdown",
      "metadata": {
        "id": "TLaT4ta3QkJQ"
      },
      "source": [
        "Untuk lebih memvalidasi distribusi masing-masing atribut, dapat digunakan normality test secara statistik, dengan mengambil hipotesis:\n",
        "* H0 : Distribusi atribut normal\n",
        "* H1 : Distributi atribut non-normal\n",
        "<br/>Kedua hipotesis ini akan dievaluasi berdasarkan nilai p-value\n",
        "\n",
        "Pada tugas ini, akan digunakan 2 macam normality test yaitu **Shapiro-Wilk** dan **D'Agostino and Pearson's** test"
      ]
    },
    {
      "cell_type": "code",
      "metadata": {
        "id": "MD93-tNBRJPi"
      },
      "source": [
        "# Fungsi Pembantu\n",
        "def normality_test(data, att_name, test_type):\n",
        "  from scipy.stats import shapiro\n",
        "  from scipy.stats import normaltest\n",
        "\n",
        "  # Normality test\n",
        "  if (test_type == \"shapiro-wilk\"):\n",
        "    stat, p = shapiro(data)\n",
        "  else:\n",
        "    stat, p = normaltest(data)\n",
        "\n",
        "  # Interpret\n",
        "  alpha = 0.05\n",
        "\n",
        "  if p > alpha:\n",
        "    print(f'{att_name} memiliki distribusi normal')\n",
        "  else:\n",
        "    print(f'{att_name} tidak memiliki distribusi normal')"
      ],
      "execution_count": 26,
      "outputs": []
    },
    {
      "cell_type": "code",
      "metadata": {
        "colab": {
          "base_uri": "https://localhost:8080/"
        },
        "id": "hBMVihrPNyMf",
        "outputId": "470680f2-3f88-4b51-920e-939f3718af8b"
      },
      "source": [
        "# Shapiro-Wilk Test\n",
        "for col in num_cols:\n",
        "  if (col != \"id\"):\n",
        "    normality_test(df[col], col, \"shapiro-wilk\")"
      ],
      "execution_count": 27,
      "outputs": [
        {
          "output_type": "stream",
          "text": [
            "Daerah tidak memiliki distribusi normal\n",
            "SumbuUtama tidak memiliki distribusi normal\n",
            "SumbuKecil memiliki distribusi normal\n",
            "Keunikan tidak memiliki distribusi normal\n",
            "AreaBulatan tidak memiliki distribusi normal\n",
            "Diameter memiliki distribusi normal\n",
            "KadarAir tidak memiliki distribusi normal\n",
            "Keliling tidak memiliki distribusi normal\n",
            "Bulatan tidak memiliki distribusi normal\n",
            "Ransum tidak memiliki distribusi normal\n"
          ],
          "name": "stdout"
        }
      ]
    },
    {
      "cell_type": "code",
      "metadata": {
        "colab": {
          "base_uri": "https://localhost:8080/"
        },
        "id": "TqVezkImQVm8",
        "outputId": "c1fa2705-e708-42cd-cd03-eb60f79cb67d"
      },
      "source": [
        "# D'Agostino and Pearson's Test\n",
        "for col in num_cols:\n",
        "  if (col != \"id\"):\n",
        "    normality_test(df[col], col, \"dagostino-pearson\")"
      ],
      "execution_count": 28,
      "outputs": [
        {
          "output_type": "stream",
          "text": [
            "Daerah tidak memiliki distribusi normal\n",
            "SumbuUtama tidak memiliki distribusi normal\n",
            "SumbuKecil memiliki distribusi normal\n",
            "Keunikan tidak memiliki distribusi normal\n",
            "AreaBulatan tidak memiliki distribusi normal\n",
            "Diameter tidak memiliki distribusi normal\n",
            "KadarAir tidak memiliki distribusi normal\n",
            "Keliling tidak memiliki distribusi normal\n",
            "Bulatan tidak memiliki distribusi normal\n",
            "Ransum tidak memiliki distribusi normal\n"
          ],
          "name": "stdout"
        }
      ]
    },
    {
      "cell_type": "markdown",
      "metadata": {
        "id": "M8VTxGtGNyhj"
      },
      "source": [
        "Jika dikaitkan dengan **histogram**, berdasarkan hasil visualisasi didapatkan bahwa atribut numerik:\n",
        "* Atribut **Daerah**, **SumbuKecil**, **AreaBulatan**, dan **Diameter** memiliki distribusi normal\n",
        "* Atribut **Keunikan** dan **Bulatan** memiliki distribusi data yang *negatively skewed*\n",
        "* Atribut **SumbuUtama** dan **Keliling** memiliki distribusi data yang *positively skewed*\n",
        "* Atribut **Ransum** memiliki distribusi data bimodal yang *negatively skewed*\n",
        "* Atribut **KadarAir** memiliki distribusi data bimodal yang *positively skewed*\n",
        "\n",
        "Namun, hasil normality test secara statistika ternyata menunjukkan bahwa:\n",
        "* Berdasarkan Shapiro-Wilk test: Hanya atribut **SumbuKecil** dan **Diameter** yang berdistribusi normal\n",
        "* Berdasarkan D'Agostino and Pearson's test: Hanya atribut **SumbuKecil** yang berdistribusi normal\n",
        "\n",
        "Jadi, dapat disimpulkan bahwa berdasarkan hasil histogram dan normality test, atribut numerik yang dapat **dipastikan** berdistribusi normal adalah atribut **SumbuKecil**, sedangkan atribut lainnya perlu untuk dilakukan pengujian lebih lanjut."
      ]
    },
    {
      "cell_type": "markdown",
      "metadata": {
        "id": "24D_69wTAhNr"
      },
      "source": [
        "## Soal 4\n",
        "> Melakukan test hipotesis 1 sampel, dengan menuliskan 6 langkah testing dan menampilkan juga boxplotnya untuk kolom/bagian yang bersesuaian"
      ]
    },
    {
      "cell_type": "markdown",
      "metadata": {
        "id": "25l_F_sUdo34"
      },
      "source": [
        "#### Fungsi Bantuan"
      ]
    },
    {
      "cell_type": "markdown",
      "metadata": {
        "id": "9xhjl0D4gmUm"
      },
      "source": [
        "##### Z-value dan P-value"
      ]
    },
    {
      "cell_type": "code",
      "metadata": {
        "id": "muNG506qgsJg"
      },
      "source": [
        "def get_z_value(data, expc_val):\n",
        "  \"\"\" Menghitung nilai Z-test dari sebuah kumpulan data \"\"\"\n",
        "  return (np.mean(data) - expc_val) / (np.std(data)/np.sqrt(data.shape[0]))\n",
        "\n",
        "def get_p_value(data, expc_val, side=\"one\"):\n",
        "  \"\"\" Menghitung p-value dari z-score sebuah kumpulan data \"\"\"\n",
        "  z_score = (np.mean(data) - expc_val) / (np.std(data)/np.sqrt(data.shape[0]))\n",
        "\n",
        "  if (side == \"one\"):\n",
        "    # one-sided\n",
        "    p_value = stats.norm.sf(abs(z_score))\n",
        "  else:\n",
        "    # two-sided\n",
        "    p_value = stats.norm.sf(abs(z_score)) * 2\n",
        "  \n",
        "  return p_value\n",
        "\n",
        "def get_z_value_proportion(data, phat, po):\n",
        "  \"\"\" Menghitung nilai Z-test proporsi dari sebuah kumpulan data \"\"\"\n",
        "  return (phat - po) / np.sqrt((po * (1-po)) / 500)\n",
        "\n",
        "def get_p_value_proportion(data, phat, po, side=\"one\"):\n",
        "  \"\"\" Menghitung p-value dari z-score sebuah kumpulan data untuk pengujian proposi \"\"\"\n",
        "  z_score = (phat - po) / np.sqrt((po * (1-po)) / 500)\n",
        "\n",
        "  if (side == \"one\"):\n",
        "    # one-sided\n",
        "    p_value = stats.norm.sf(abs(z_score))\n",
        "  else:\n",
        "    # two-sided\n",
        "    p_value = stats.norm.sf(abs(z_score)) * 2\n",
        "\n",
        "  return p_value"
      ],
      "execution_count": 29,
      "outputs": []
    },
    {
      "cell_type": "markdown",
      "metadata": {
        "id": "3DQauDileEDd"
      },
      "source": [
        "##### Z Test (Mean)"
      ]
    },
    {
      "cell_type": "code",
      "metadata": {
        "id": "ipeMRAtDdro3"
      },
      "source": [
        "def one_sample_one_sided_mean_ztest(data, att_name, expc_val, tail=\"left\"):\n",
        "  # 1. Tentukan Hipotesis nol (H0: θ = θ0)\n",
        "  # 2. Pilih hipotesis alternatif H1\n",
        "\n",
        "  # 3. Tentukan tingkat signifikan α.\n",
        "  alpha = 0.05\n",
        "  print(\"Tingkat signifikan α: 5% = 0.05\\n\")\n",
        "\n",
        "  # 4. Tentukan uji statistik yang sesuai dan tentukan daerah kritis.\n",
        "  print(f\"Karena atribut {att_name} memiliki distribusi normal, testing ini berjenis 1 sampel dan simpangan baku populasi diketahui maka dapat digunakan z-test\")\n",
        "  if (tail == \"left\"):\n",
        "    print(f\"Jenis z-test yang akan digunakan adalah one-sided {tail}-tailed karena H1 memiliki simbol daerah ' < ' \\n\")\n",
        "  else:\n",
        "    print(f\"Jenis z-test yang akan digunakan adalah one-sided {tail}-tailed karena H1 memiliki simbol daerah ' > ' \\n\")\n",
        "\n",
        "  critical_zone = -1 * stats.norm.ppf(alpha)\n",
        "\n",
        "  if (tail == \"left\"):\n",
        "    print(f\"Daerah kritis z < -z{alpha} = {-1 * critical_zone}\")\n",
        "  else:\n",
        "    print(f\"Daerah kritis z > z{alpha} = {critical_zone}\")\n",
        "\n",
        "  # 5. Hitung nilai uji statistik dari data sample. Hitung p-value sesuai dengan uji statistik yang digunakan.\n",
        "  print()\n",
        "  z_value = get_z_value(data, expc_val)\n",
        "  p_value = get_p_value(data, expc_val, \"one\")\n",
        "  print(f\"Rata-rata data: {np.mean(data)}\")\n",
        "  print(f\"Standar Deviasi data: {np.std(data)}\")\n",
        "  print(f\"Nilai z-test data: {z_value}\")\n",
        "  print(f\"Nilai p-value data: {p_value}\")\n",
        "\n",
        "  # 6. Ambil keputusan dengan TOLAK H0 jika nilai uji terletak di daerah kritis atau dengan tes signifikan, TOLAK H0 jika p-value lebih kecil dibanding tingkat signifikansi α yang diinginkan\n",
        "  print(\"\\nBerdasarkan pengujian daerah kritis: \")\n",
        "  if (tail == \"left\"):\n",
        "    if (z_value < critical_zone):\n",
        "      print(f\"z < -z0.05 = {z_value} < {critical_zone}\")\n",
        "      print(\"Keputusan test hipotesis: \", end=\"\")\n",
        "      print(\"H0 ditolak karena nilai uji terletak di daerah kritis\")\n",
        "    else:\n",
        "      print(f\"z > -z0.05 = {z_value} > {critical_zone}\")\n",
        "      print(\"Keputusan test hipotesis: \", end=\"\")\n",
        "      print(\"H0 tidak berhasil ditolak (H0 diterima) karena nilai uji tidak terletak di daerah kritis\")\n",
        "  else:\n",
        "    if (z_value > critical_zone):\n",
        "      print(f\"z > z0.05 = {z_value} > {critical_zone}\")\n",
        "      print(\"Keputusan test hipotesis: \", end=\"\")\n",
        "      print(\"H0 ditolak karena nilai uji terletak di daerah kritis\")\n",
        "    else:\n",
        "      print(f\"z < z0.05 = {z_value} < {critical_zone}\")\n",
        "      print(\"Keputusan test hipotesis: \", end=\"\")\n",
        "      print(\"H0 tidak berhasil ditolak (H0 diterima) karena nilai uji tidak terletak di daerah kritis\")\n",
        "  \n",
        "  print(\"\\nBerdasarkan pengujian p-value:\")\n",
        "  if (p_value < alpha):\n",
        "    print(\"Keputusan test hipotesis: \", end=\"\")\n",
        "    print(\"H0 ditolak karena p-value lebih kecil dibanding tingkat signifikansi alpha\")\n",
        "  else:\n",
        "    print(\"Keputusan test hipotesis: \", end=\"\")\n",
        "    print(\"H0 tidak berhasil ditolak (H0 diterima) karena p-value lebih besar dibanding tingkat signifikansi alpha\")\n",
        "\n",
        "def one_sample_two_sided_mean_ztest(data, att_name, expc_val):\n",
        "  # 1. Tentukan Hipotesis nol (H0: θ = θ0)\n",
        "  # 2. Pilih hipotesis alternatif H1\n",
        "\n",
        "  # 3. Tentukan tingkat signifikan α.\n",
        "  alpha = 0.05\n",
        "  print(\"Tingkat signifikan α: 5% = 0.05\\n\")\n",
        "\n",
        "  # 4. Tentukan uji statistik yang sesuai dan tentukan daerah kritis.\n",
        "  print(f\"Karena atribut {att_name} memiliki distribusi normal, testing ini berjenis 1 sampel dan simpangan baku populasi diketahui maka dapat digunakan z-test\")\n",
        "  print(\"Jenis z-test yang akan digunakan adalah two-sided karena H1 memiliki simbol daerah ' = ' \\n\")\n",
        "\n",
        "  critical_zone = -1 * stats.norm.ppf(alpha/2)\n",
        "  print(f\"Daerah kritis z < -z{alpha}/2 = {-1 * critical_zone} atau z > z{alpha}/2 = {critical_zone}\")\n",
        "\n",
        "  # 5. Hitung nilai uji statistik dari data sample. Hitung p-value sesuai dengan uji statistik yang digunakan.\n",
        "  print()\n",
        "  z_value = get_z_value(data, expc_val)\n",
        "  p_value = get_p_value(data, expc_val, \"two\")\n",
        "  print(f\"Rata-rata data: {np.mean(data)}\")\n",
        "  print(f\"Standar Deviasi data: {np.std(data)}\")\n",
        "  print(f\"Nilai z-test data: {z_value}\")\n",
        "  print(f\"Nilai p-value data: {p_value}\")\n",
        "\n",
        "  # 6. Ambil keputusan dengan TOLAK H0 jika nilai uji terletak di daerah kritis atau dengan tes signifikan, TOLAK H0 jika p-value lebih kecil dibanding tingkat signifikansi α yang diinginkan\n",
        "  print(\"\\nBerdasarkan pengujian daerah kritis: \")\n",
        "  if (z_value < -1 * critical_zone or z_value > critical_zone):\n",
        "    print(\"Keputusan test hipotesis: \", end=\"\")\n",
        "    print(\"H0 ditolak karena nilai uji terletak di daerah kritis\")\n",
        "  else:\n",
        "    print(\"Keputusan test hipotesis: \", end=\"\")\n",
        "    print(\"H0 tidak berhasil ditolak (H0 diterima) karena nilai uji tidak terletak di daerah kritis\")\n",
        "\n",
        "  print(\"\\nBerdasarkan pengujian p-value:\")\n",
        "  if (p_value < alpha):\n",
        "    print(\"Keputusan test hipotesis: \", end=\"\")\n",
        "    print(\"H0 ditolak karena p-value lebih kecil dibanding tingkat signifikansi alpha\")\n",
        "  else:\n",
        "    print(\"Keputusan test hipotesis: \", end=\"\")\n",
        "    print(\"H0 tidak berhasil ditolak (H0 diterima) karena p-value lebih besar dibanding tingkat signifikansi alpha\")"
      ],
      "execution_count": 30,
      "outputs": []
    },
    {
      "cell_type": "markdown",
      "metadata": {
        "id": "inorhXEfeKKw"
      },
      "source": [
        "##### Z Test (Proportion)"
      ]
    },
    {
      "cell_type": "code",
      "metadata": {
        "id": "T5z94ao4WKlq"
      },
      "source": [
        "def one_sample_one_sided_proportion_ztest(data, att_name, phat, po, tail=\"left\"):\n",
        "  # 1. Tentukan Hipotesis nol (H0: θ = θ0)\n",
        "  # 2. Pilih hipotesis alternatif H1\n",
        "\n",
        "  # 3. Tentukan tingkat signifikan α.\n",
        "  alpha = 0.05\n",
        "  print(\"Tingkat signifikan α: 5% = 0.05\\n\")\n",
        "\n",
        "  # 4. Tentukan uji statistik yang sesuai dan tentukan daerah kritis.\n",
        "  print(f\"Karena atribut {att_name} memiliki distribusi normal, testing ini berjenis 1 sampel dan simpangan baku populasi diketahui maka dapat digunakan z-test\")\n",
        "  if (tail == \"left\"):\n",
        "    print(f\"Jenis z-test yang akan digunakan adalah one-sided {tail}-tailed karena H1 memiliki simbol daerah ' < ' \\n\")\n",
        "  else:\n",
        "    print(f\"Jenis z-test yang akan digunakan adalah one-sided {tail}-tailed karena H1 memiliki simbol daerah ' > ' \\n\")\n",
        "\n",
        "  critical_zone = -1 * stats.norm.ppf(alpha)\n",
        "\n",
        "  if (tail == \"left\"):\n",
        "    print(f\"Daerah kritis z < -z{alpha} = {-1 * critical_zone}\")\n",
        "  else:\n",
        "    print(f\"Daerah kritis z > z{alpha} = {critical_zone}\")\n",
        "\n",
        "  # 5. Hitung nilai uji statistik dari data sample. Hitung p-value sesuai dengan uji statistik yang digunakan.\n",
        "  print()\n",
        "  z_value = get_z_value_proportion(data, phat, po)\n",
        "  p_value = get_p_value_proportion(data, phat, po, \"one\")\n",
        "  print(f\"Rata-rata data: {np.mean(data)}\")\n",
        "  print(f\"Standar Deviasi data: {np.std(data)}\")\n",
        "  print(f\"Nilai z-test data: {z_value}\")\n",
        "  print(f\"Nilai p-value data: {p_value}\")\n",
        "\n",
        "  # 6. Ambil keputusan dengan TOLAK H0 jika nilai uji terletak di daerah kritis atau dengan tes signifikan, TOLAK H0 jika p-value lebih kecil dibanding tingkat signifikansi α yang diinginkan\n",
        "  print(\"\\nBerdasarkan pengujian daerah kritis: \")\n",
        "  if (tail == \"left\"):\n",
        "    if (z_value < critical_zone):\n",
        "      print(f\"z < -z0.05 = {z_value} < {critical_zone}\")\n",
        "      print(\"Keputusan test hipotesis: \", end=\"\")\n",
        "      print(\"H0 ditolak karena nilai uji terletak di daerah kritis\")\n",
        "    else:\n",
        "      print(f\"z > -z0.05 = {z_value} > {critical_zone}\")\n",
        "      print(\"Keputusan test hipotesis: \", end=\"\")\n",
        "      print(\"H0 tidak berhasil ditolak (H0 diterima) karena nilai uji tidak terletak di daerah kritis\")\n",
        "  else:\n",
        "    if (z_value > critical_zone):\n",
        "      print(f\"z > z0.05 = {z_value} > {critical_zone}\")\n",
        "      print(\"Keputusan test hipotesis: \", end=\"\")\n",
        "      print(\"H0 ditolak karena nilai uji terletak di daerah kritis\")\n",
        "    else:\n",
        "      print(f\"z < z0.05 = {z_value} < {critical_zone}\")\n",
        "      print(\"Keputusan test hipotesis: \", end=\"\")\n",
        "      print(\"H0 tidak berhasil ditolak (H0 diterima) karena nilai uji tidak terletak di daerah kritis\")\n",
        "\n",
        "  print(\"\\nBerdasarkan pengujian p-value:\")\n",
        "  if (p_value < alpha):\n",
        "    print(\"Keputusan test hipotesis: \", end=\"\")\n",
        "    print(\"H0 ditolak karena p-value lebih kecil dibanding tingkat signifikansi alpha\")\n",
        "  else:\n",
        "    print(\"Keputusan test hipotesis: \", end=\"\")\n",
        "    print(\"H0 tidak berhasil ditolak (H0 diterima) karena p-value lebih besar dibanding tingkat signifikansi alpha\")\n",
        "\n",
        "def one_sample_two_sided_proportion_ztest(data, att_name, phat, po):\n",
        "  # 1. Tentukan Hipotesis nol (H0: θ = θ0)\n",
        "  # 2. Pilih hipotesis alternatif H1\n",
        "\n",
        "  # 3. Tentukan tingkat signifikan α.\n",
        "  alpha = 0.05\n",
        "  print(\"Tingkat signifikan α: 5% = 0.05\\n\")\n",
        "\n",
        "  # 4. Tentukan uji statistik yang sesuai dan tentukan daerah kritis.\n",
        "  print(f\"Karena atribut {att_name} memiliki distribusi normal, testing ini berjenis 1 sampel dan simpangan baku populasi diketahui maka dapat digunakan z-test\")\n",
        "  print(\"Jenis z-test yang akan digunakan adalah two-sided karena H1 memiliki simbol daerah ' = ' \\n\")\n",
        "\n",
        "  critical_zone = -1 * stats.norm.ppf(alpha/2)\n",
        "  print(f\"Daerah kritis z < -z{alpha}/2 = {-1 * critical_zone} atau z > z{alpha}/2 = {critical_zone}\")\n",
        "\n",
        "  # 5. Hitung nilai uji statistik dari data sample. Hitung p-value sesuai dengan uji statistik yang digunakan.\n",
        "  print()\n",
        "  z_value = get_z_value_proportion(data, phat, po)\n",
        "  p_value = get_p_value_proportion(data, phat, po, \"two\")\n",
        "  print(f\"Rata-rata data: {np.mean(data)}\")\n",
        "  print(f\"Standar Deviasi data: {np.std(data)}\")\n",
        "  print(f\"Nilai z-test data: {z_value}\")\n",
        "  print(f\"Nilai p-value data: {p_value}\")\n",
        "\n",
        "  # 6. Ambil keputusan dengan TOLAK H0 jika nilai uji terletak di daerah kritis atau dengan tes signifikan, TOLAK H0 jika p-value lebih kecil dibanding tingkat signifikansi α yang diinginkan\n",
        "  print(\"\\nBerdasarkan pengujian daerah kritis: \")\n",
        "  if (z_value < -1 * critical_zone or z_value > critical_zone):\n",
        "    print(\"Keputusan test hipotesis: \", end=\"\")\n",
        "    print(\"H0 ditolak karena nilai uji terletak di daerah kritis\")\n",
        "  else:\n",
        "    print(\"Keputusan test hipotesis: \", end=\"\")\n",
        "    print(\"H0 tidak berhasil ditolak (H0 diterima) karena nilai uji tidak terletak di daerah kritis\")\n",
        "  \n",
        "  print(\"\\nBerdasarkan pengujian p-value:\")\n",
        "  if (p_value < alpha):\n",
        "    print(\"Keputusan test hipotesis: \", end=\"\")\n",
        "    print(\"H0 ditolak karena p-value lebih kecil dibanding tingkat signifikansi alpha\")\n",
        "  else:\n",
        "    print(\"Keputusan test hipotesis: \", end=\"\")\n",
        "    print(\"H0 tidak berhasil ditolak (H0 diterima) karena p-value lebih besar dibanding tingkat signifikansi alpha\")"
      ],
      "execution_count": 31,
      "outputs": []
    },
    {
      "cell_type": "markdown",
      "metadata": {
        "id": "B96y4J7aVgJu"
      },
      "source": [
        "#### a. Nilai rata-rata Daerah di atas 4700?"
      ]
    },
    {
      "cell_type": "code",
      "metadata": {
        "colab": {
          "base_uri": "https://localhost:8080/",
          "height": 247
        },
        "id": "ateWOGERDDIH",
        "outputId": "214bd44c-4e55-41b2-cc61-45d8ceabccc3"
      },
      "source": [
        "# Boxplot untuk atribut terkait\n",
        "plt.figure(figsize=(5,3))\n",
        "sns.boxplot(df['Daerah'])\n",
        "plt.suptitle('Boxplot atribut Daerah')\n",
        "plt.show()"
      ],
      "execution_count": 32,
      "outputs": [
        {
          "output_type": "display_data",
          "data": {
            "image/png": "[encoded data removed]",
            "text/plain": [
              "<Figure size 360x216 with 1 Axes>"
            ]
          },
          "metadata": {
            "tags": [],
            "needs_background": "light"
          }
        }
      ]
    },
    {
      "cell_type": "code",
      "metadata": {
        "colab": {
          "base_uri": "https://localhost:8080/"
        },
        "id": "IDwIYqEwZa3Y",
        "outputId": "f41d3a05-0f46-4d7a-8456-04c9c5ec5d5a"
      },
      "source": [
        "# Langkah testing hipotesis:\n",
        "print(\"Nilai rata-rata Daerah di atas 4700?\\n\")\n",
        "print(\"Perhatikan bahwa agar original claim dapat dijadikan H0, ia harus memiliki tanda equality seperti '='\")\n",
        "print(\"Namun, karena original claim tersebut tidak mengandung equality, H0 akan dibentuk dari komplemennya\")\n",
        "\n",
        "# 1. Tentukan Hipotesis nol (H0: θ = θ0)\n",
        "print(\"H0: μ <= 4700\")\n",
        "\n",
        "# 2. Pilih hipotesis alternatif H1\n",
        "print(\"H1: μ > 4700\")\n",
        "\n",
        "# Langkah 3 4 5 6\n",
        "one_sample_one_sided_mean_ztest(df.Daerah, \"Daerah\", 4700, tail=\"right\")\n",
        "\n",
        "# Kesimpulan\n",
        "print(\"\\nKesimpulan:\\n     Hasil pengujian hipotesis menyatakan BENAR bahwa 'Nilai rata-rata Daerah di atas 4700'\")"
      ],
      "execution_count": 33,
      "outputs": [
        {
          "output_type": "stream",
          "text": [
            "Nilai rata-rata Daerah di atas 4700?\n",
            "\n",
            "Perhatikan bahwa agar original claim dapat dijadikan H0, ia harus memiliki tanda equality seperti '='\n",
            "Namun, karena original claim tersebut tidak mengandung equality, H0 akan dibentuk dari komplemennya\n",
            "H0: μ <= 4700\n",
            "H1: μ > 4700\n",
            "Tingkat signifikan α: 5% = 0.05\n",
            "\n",
            "Karena atribut Daerah memiliki distribusi normal, testing ini berjenis 1 sampel dan simpangan baku populasi diketahui maka dapat digunakan z-test\n",
            "Jenis z-test yang akan digunakan adalah one-sided right-tailed karena H1 memiliki simbol daerah ' > ' \n",
            "\n",
            "Daerah kritis z > z0.05 = 1.6448536269514729\n",
            "\n",
            "Rata-rata data: 4801.246\n",
            "Standar Deviasi data: 985.4086022985593\n",
            "Nilai z-test data: 2.29745242655545\n",
            "Nilai p-value data: 0.010796486989025375\n",
            "\n",
            "Berdasarkan pengujian daerah kritis: \n",
            "z > z0.05 = 2.29745242655545 > 1.6448536269514729\n",
            "Keputusan test hipotesis: H0 ditolak karena nilai uji terletak di daerah kritis\n",
            "\n",
            "Berdasarkan pengujian p-value:\n",
            "Keputusan test hipotesis: H0 ditolak karena p-value lebih kecil dibanding tingkat signifikansi alpha\n",
            "\n",
            "Kesimpulan:\n",
            "     Hasil pengujian hipotesis menyatakan BENAR bahwa 'Nilai rata-rata Daerah di atas 4700'\n"
          ],
          "name": "stdout"
        }
      ]
    },
    {
      "cell_type": "markdown",
      "metadata": {
        "id": "_pIzqhsCVjTB"
      },
      "source": [
        "#### b. Nilai Rata-rata Sumbu Utama tidak sama dengan 116?"
      ]
    },
    {
      "cell_type": "code",
      "metadata": {
        "colab": {
          "base_uri": "https://localhost:8080/",
          "height": 247
        },
        "id": "UcXXY4IGDXXs",
        "outputId": "99f22382-97f8-45b7-dd5a-c95c46954249"
      },
      "source": [
        "# Boxplot untuk atribut terkait\n",
        "plt.figure(figsize=(5,3))\n",
        "sns.boxplot(df['SumbuUtama'])\n",
        "plt.suptitle('Boxplot atribut SumbuUtama')\n",
        "plt.show()"
      ],
      "execution_count": 34,
      "outputs": [
        {
          "output_type": "display_data",
          "data": {
            "image/png": "[encoded data removed]",
            "text/plain": [
              "<Figure size 360x216 with 1 Axes>"
            ]
          },
          "metadata": {
            "tags": [],
            "needs_background": "light"
          }
        }
      ]
    },
    {
      "cell_type": "code",
      "metadata": {
        "colab": {
          "base_uri": "https://localhost:8080/"
        },
        "id": "ZhecTSh6eqdP",
        "outputId": "1b3fe5f9-96a1-4d9c-d0c8-ec1448a7a171"
      },
      "source": [
        "# Langkah testing hipotesis:\n",
        "print(\"Nilai Rata-rata Sumbu Utama tidak sama dengan 116?\\n\")\n",
        "print(\"Perhatikan bahwa agar original claim dapat dijadikan H0, ia harus memiliki tanda equality seperti '='\")\n",
        "print(\"Namun, karena original claim tersebut tidak mengandung equality, H0 akan dibentuk dari komplemennya\")\n",
        "\n",
        "# 1. Tentukan Hipotesis nol (H0: θ = θ0)\n",
        "print(\"H0: μ = 116\")\n",
        "\n",
        "# 2. Pilih hipotesis alternatif H1\n",
        "print(\"H1: μ != 116\")\n",
        "\n",
        "# Langkah 3 4 5 6\n",
        "one_sample_two_sided_mean_ztest(df.SumbuUtama, \"Sumbu Utama\", 116)\n",
        "\n",
        "# Kesimpulan\n",
        "print(\"\\nKesimpulan:\\n     Hasil pengujian hipotesis menyatakan TIDAK BENAR bahwa 'Nilai Rata-rata Sumbu Utama tidak sama dengan 116'\")\n",
        "print(\"     Hasil yang BENAR adalah nilai rata-rata sumbu utama sama dengan 116\")"
      ],
      "execution_count": 35,
      "outputs": [
        {
          "output_type": "stream",
          "text": [
            "Nilai Rata-rata Sumbu Utama tidak sama dengan 116?\n",
            "\n",
            "Perhatikan bahwa agar original claim dapat dijadikan H0, ia harus memiliki tanda equality seperti '='\n",
            "Namun, karena original claim tersebut tidak mengandung equality, H0 akan dibentuk dari komplemennya\n",
            "H0: μ = 116\n",
            "H1: μ != 116\n",
            "Tingkat signifikan α: 5% = 0.05\n",
            "\n",
            "Karena atribut Sumbu Utama memiliki distribusi normal, testing ini berjenis 1 sampel dan simpangan baku populasi diketahui maka dapat digunakan z-test\n",
            "Jenis z-test yang akan digunakan adalah two-sided karena H1 memiliki simbol daerah ' = ' \n",
            "\n",
            "Daerah kritis z < -z0.05/2 = -1.9599639845400545 atau z > z0.05/2 = 1.9599639845400545\n",
            "\n",
            "Rata-rata data: 116.04517136778003\n",
            "Standar Deviasi data: 18.264334181136068\n",
            "Nilai z-test data: 0.055302453399647976\n",
            "Nilai p-value data: 0.9558975076292265\n",
            "\n",
            "Berdasarkan pengujian daerah kritis: \n",
            "Keputusan test hipotesis: H0 tidak berhasil ditolak (H0 diterima) karena nilai uji tidak terletak di daerah kritis\n",
            "\n",
            "Berdasarkan pengujian p-value:\n",
            "Keputusan test hipotesis: H0 tidak berhasil ditolak (H0 diterima) karena p-value lebih besar dibanding tingkat signifikansi alpha\n",
            "\n",
            "Kesimpulan:\n",
            "     Hasil pengujian hipotesis menyatakan TIDAK BENAR bahwa 'Nilai Rata-rata Sumbu Utama tidak sama dengan 116'\n",
            "     Hasil yang BENAR adalah nilai rata-rata sumbu utama sama dengan 116\n"
          ],
          "name": "stdout"
        }
      ]
    },
    {
      "cell_type": "markdown",
      "metadata": {
        "id": "QUXCeoBBVkt_"
      },
      "source": [
        "#### c. Nilai Rata-rata 20 baris pertama kolom Sumbu Kecil bukan 50?"
      ]
    },
    {
      "cell_type": "code",
      "metadata": {
        "colab": {
          "base_uri": "https://localhost:8080/",
          "height": 0
        },
        "id": "ha1bc6cZDaUL",
        "outputId": "b6bb1325-ea42-4c71-d6d8-fda582724973"
      },
      "source": [
        "# Boxplot untuk atribut terkait [Seluruh atribut]\n",
        "plt.figure(figsize=(5,3))\n",
        "sns.boxplot(df['SumbuKecil'])\n",
        "plt.suptitle('Boxplot atribut SumbuKecil keseluruhan')\n",
        "plt.show()\n",
        "\n",
        "# Boxplot untuk atribut terkait [20 baris pertama]\n",
        "plt.figure(figsize=(5,3))\n",
        "sns.boxplot(df['SumbuKecil'].iloc[:20])\n",
        "plt.suptitle('Boxplot 20 baris pertama atribut SumbuKecil')\n",
        "plt.show()"
      ],
      "execution_count": 36,
      "outputs": [
        {
          "output_type": "display_data",
          "data": {
            "image/png": "[encoded data removed]",
            "text/plain": [
              "<Figure size 360x216 with 1 Axes>"
            ]
          },
          "metadata": {
            "tags": [],
            "needs_background": "light"
          }
        },
        {
          "output_type": "display_data",
          "data": {
            "image/png": "[encoded data removed]",
            "text/plain": [
              "<Figure size 360x216 with 1 Axes>"
            ]
          },
          "metadata": {
            "tags": [],
            "needs_background": "light"
          }
        }
      ]
    },
    {
      "cell_type": "code",
      "metadata": {
        "colab": {
          "base_uri": "https://localhost:8080/"
        },
        "id": "_slKEx3YW4Ar",
        "outputId": "827c34f3-3803-4e72-f7fd-2ec3e35cf161"
      },
      "source": [
        "# Langkah testing hipotesis:\n",
        "print(\"Nilai Rata-rata 20 baris pertama kolom Sumbu Kecil bukan 50?\\n\")\n",
        "print(\"Perhatikan bahwa agar original claim dapat dijadikan H0, ia harus memiliki tanda equality seperti '='\")\n",
        "print(\"Namun, karena original claim tersebut tidak mengandung equality, H0 akan dibentuk dari komplemennya\")\n",
        "\n",
        "# 1. Tentukan Hipotesis nol (H0: θ = θ0)\n",
        "print(\"H0: μ = 50 (Untuk 20 baris pertama)\")\n",
        "\n",
        "# 2. Pilih hipotesis alternatif H1\n",
        "print(\"H1: μ != 50 (Untuk 20 baris pertama)\")\n",
        "\n",
        "# Langkah 3 4 5 6\n",
        "one_sample_two_sided_mean_ztest(df.SumbuKecil.iloc[:20], \"Sumbu Kecil\", 50)\n",
        "\n",
        "# Kesimpulan\n",
        "print(\"\\nKesimpulan:\\n     Hasil pengujian hipotesis menyatakan BENAR bahwa 'Nilai Rata-rata 20 baris pertama kolom Sumbu Kecil bukan 50'\")"
      ],
      "execution_count": 37,
      "outputs": [
        {
          "output_type": "stream",
          "text": [
            "Nilai Rata-rata 20 baris pertama kolom Sumbu Kecil bukan 50?\n",
            "\n",
            "Perhatikan bahwa agar original claim dapat dijadikan H0, ia harus memiliki tanda equality seperti '='\n",
            "Namun, karena original claim tersebut tidak mengandung equality, H0 akan dibentuk dari komplemennya\n",
            "H0: μ = 50 (Untuk 20 baris pertama)\n",
            "H1: μ != 50 (Untuk 20 baris pertama)\n",
            "Tingkat signifikan α: 5% = 0.05\n",
            "\n",
            "Karena atribut Sumbu Kecil memiliki distribusi normal, testing ini berjenis 1 sampel dan simpangan baku populasi diketahui maka dapat digunakan z-test\n",
            "Jenis z-test yang akan digunakan adalah two-sided karena H1 memiliki simbol daerah ' = ' \n",
            "\n",
            "Daerah kritis z < -z0.05/2 = -1.9599639845400545 atau z > z0.05/2 = 1.9599639845400545\n",
            "\n",
            "Rata-rata data: 54.887276260499995\n",
            "Standar Deviasi data: 3.2884513512581446\n",
            "Nilai z-test data: 6.6464610699610045\n",
            "Nilai p-value data: 3.002238088445661e-11\n",
            "\n",
            "Berdasarkan pengujian daerah kritis: \n",
            "Keputusan test hipotesis: H0 ditolak karena nilai uji terletak di daerah kritis\n",
            "\n",
            "Berdasarkan pengujian p-value:\n",
            "Keputusan test hipotesis: H0 ditolak karena p-value lebih kecil dibanding tingkat signifikansi alpha\n",
            "\n",
            "Kesimpulan:\n",
            "     Hasil pengujian hipotesis menyatakan BENAR bahwa 'Nilai Rata-rata 20 baris pertama kolom Sumbu Kecil bukan 50'\n"
          ],
          "name": "stdout"
        }
      ]
    },
    {
      "cell_type": "markdown",
      "metadata": {
        "id": "oBKXbU0_VmNS"
      },
      "source": [
        "#### d. Proporsi nilai Diameter yang lebih dari 85, adalah tidak sama dengan 15%?"
      ]
    },
    {
      "cell_type": "code",
      "metadata": {
        "colab": {
          "base_uri": "https://localhost:8080/",
          "height": 0
        },
        "id": "NchaA0_sDdZ7",
        "outputId": "0563e281-53ea-41a0-aa98-d2538158660a"
      },
      "source": [
        "# Boxplot untuk atribut terkait [Seluruh atribut]\n",
        "plt.figure(figsize=(5.1,3))\n",
        "sns.boxplot(df['Diameter'])\n",
        "plt.suptitle('Boxplot atribut Diameter keseluruhan')\n",
        "plt.show()\n",
        "\n",
        "# Boxplot untuk atribut terkait [Diameter yang lebih dari 85]\n",
        "plt.figure(figsize=(5,3))\n",
        "sns.boxplot(df['Diameter'][df['Diameter'] > 85])\n",
        "plt.suptitle('Boxplot atribut Diameter yang lebih dari 85')\n",
        "plt.show()"
      ],
      "execution_count": 38,
      "outputs": [
        {
          "output_type": "display_data",
          "data": {
            "image/png": "[encoded data removed]",
            "text/plain": [
              "<Figure size 367.2x216 with 1 Axes>"
            ]
          },
          "metadata": {
            "tags": [],
            "needs_background": "light"
          }
        },
        {
          "output_type": "display_data",
          "data": {
            "image/png": "[encoded data removed]",
            "text/plain": [
              "<Figure size 360x216 with 1 Axes>"
            ]
          },
          "metadata": {
            "tags": [],
            "needs_background": "light"
          }
        }
      ]
    },
    {
      "cell_type": "code",
      "metadata": {
        "colab": {
          "base_uri": "https://localhost:8080/"
        },
        "id": "8Z3G7dPkVXrG",
        "outputId": "5663aee9-38f7-4a46-a04e-dbdbdf9deb0e"
      },
      "source": [
        "# Langkah testing hipotesis:\n",
        "print(\"Proporsi nilai Diameter yang lebih dari 85, adalah tidak sama dengan 15%?\\n\")\n",
        "print(\"Perhatikan bahwa agar original claim dapat dijadikan H0, ia harus memiliki tanda equality seperti '='\")\n",
        "print(\"Namun, karena original claim tersebut tidak mengandung equality, H0 akan dibentuk dari komplemennya\")\n",
        "\n",
        "# 1. Tentukan Hipotesis nol (H0: θ = θ0)\n",
        "print(\"H0: π = 15% (Untuk Diameter yang > 86)\")\n",
        "\n",
        "# 2. Pilih hipotesis alternatif H1\n",
        "print(\"H1: π != 15% (Untuk Diameter yang > 86)\\n\")\n",
        "\n",
        "# Langkah 3 4 5 6\n",
        "data = df.Diameter[df.Diameter > 85]\n",
        "phat = data.shape[0] / df.Diameter.shape[0]\n",
        "po = 0.15\n",
        "\n",
        "# Tentukan Phat dan P0\n",
        "# Phat : observed proportion\n",
        "# P0   : hypothesized probability\n",
        "print(f\"P hat = {phat}\")\n",
        "print(f\"P0 = {po}\\n\")\n",
        "\n",
        "one_sample_two_sided_proportion_ztest(data, \"Diameter\", phat, po)\n",
        "\n",
        "# Kesimpulan\n",
        "print(\"\\nKesimpulan:\\n     Hasil pengujian hipotesis menyatakan BENAR bahwa 'Proporsi nilai Diameter yang lebih dari 85, adalah tidak sama dengan 15%'\")"
      ],
      "execution_count": 39,
      "outputs": [
        {
          "output_type": "stream",
          "text": [
            "Proporsi nilai Diameter yang lebih dari 85, adalah tidak sama dengan 15%?\n",
            "\n",
            "Perhatikan bahwa agar original claim dapat dijadikan H0, ia harus memiliki tanda equality seperti '='\n",
            "Namun, karena original claim tersebut tidak mengandung equality, H0 akan dibentuk dari komplemennya\n",
            "H0: π = 15% (Untuk Diameter yang > 86)\n",
            "H1: π != 15% (Untuk Diameter yang > 86)\n",
            "\n",
            "P hat = 0.194\n",
            "P0 = 0.15\n",
            "\n",
            "Tingkat signifikan α: 5% = 0.05\n",
            "\n",
            "Karena atribut Diameter memiliki distribusi normal, testing ini berjenis 1 sampel dan simpangan baku populasi diketahui maka dapat digunakan z-test\n",
            "Jenis z-test yang akan digunakan adalah two-sided karena H1 memiliki simbol daerah ' = ' \n",
            "\n",
            "Daerah kritis z < -z0.05/2 = -1.9599639845400545 atau z > z0.05/2 = 1.9599639845400545\n",
            "\n",
            "Rata-rata data: 89.17190935680412\n",
            "Standar Deviasi data: 3.183449014734056\n",
            "Nilai z-test data: 2.755386880774658\n",
            "Nilai p-value data: 0.005862277168409654\n",
            "\n",
            "Berdasarkan pengujian daerah kritis: \n",
            "Keputusan test hipotesis: H0 ditolak karena nilai uji terletak di daerah kritis\n",
            "\n",
            "Berdasarkan pengujian p-value:\n",
            "Keputusan test hipotesis: H0 ditolak karena p-value lebih kecil dibanding tingkat signifikansi alpha\n",
            "\n",
            "Kesimpulan:\n",
            "     Hasil pengujian hipotesis menyatakan BENAR bahwa 'Proporsi nilai Diameter yang lebih dari 85, adalah tidak sama dengan 15%'\n"
          ],
          "name": "stdout"
        }
      ]
    },
    {
      "cell_type": "markdown",
      "metadata": {
        "id": "crcP3duXzvlw"
      },
      "source": [
        "Hasil pengujian hipotesis menyatakan BENAR bahwa \"Proporsi nilai Diameter yang lebih dari 85, adalah tidak sama dengan 15%\""
      ]
    },
    {
      "cell_type": "markdown",
      "metadata": {
        "id": "RW1TFZsQVom-"
      },
      "source": [
        "#### e. Proporsi nilai Keliling yang kurang dari 100, adalah kurang dari 5% ?"
      ]
    },
    {
      "cell_type": "code",
      "metadata": {
        "id": "VchhDhAVDhl3",
        "colab": {
          "base_uri": "https://localhost:8080/",
          "height": 0
        },
        "outputId": "a5624836-60da-4c35-9bb8-7fb86b390bc0"
      },
      "source": [
        "# Boxplot untuk atribut terkait [Seluruh atribut]\n",
        "plt.figure(figsize=(5.11,3))\n",
        "sns.boxplot(df['Keliling'])\n",
        "plt.suptitle('Boxplot atribut Keliling keseluruhan')\n",
        "plt.show()\n",
        "\n",
        "# Boxplot untuk atribut terkait [Keliling yang kurang dari 100]\n",
        "plt.figure(figsize=(5,3))\n",
        "sns.boxplot(df['Keliling'][df['Keliling'] < 100])\n",
        "plt.suptitle('Boxplot atribut Keliling yang kurang dari 100')\n",
        "plt.show()"
      ],
      "execution_count": 40,
      "outputs": [
        {
          "output_type": "display_data",
          "data": {
            "image/png": "[encoded data removed]",
            "text/plain": [
              "<Figure size 367.92x216 with 1 Axes>"
            ]
          },
          "metadata": {
            "tags": [],
            "needs_background": "light"
          }
        },
        {
          "output_type": "display_data",
          "data": {
            "image/png": "[encoded data removed]",
            "text/plain": [
              "<Figure size 360x216 with 1 Axes>"
            ]
          },
          "metadata": {
            "tags": [],
            "needs_background": "light"
          }
        }
      ]
    },
    {
      "cell_type": "code",
      "metadata": {
        "colab": {
          "base_uri": "https://localhost:8080/"
        },
        "id": "Ku6-XPTEXqNA",
        "outputId": "dab60827-561a-46b6-cd48-e2651711e2d5"
      },
      "source": [
        "# Langkah testing hipotesis:\n",
        "print(\"Proporsi nilai Keliling yang kurang dari 100, adalah kurang dari 5% ?\\n\")\n",
        "print(\"Perhatikan bahwa agar original claim dapat dijadikan H0, ia harus memiliki tanda equality seperti '='\")\n",
        "print(\"Namun, karena original claim tersebut tidak mengandung equality, H0 akan dibentuk dari komplemennya\")\n",
        "\n",
        "# 1. Tentukan Hipotesis nol (H0: θ = θ0)\n",
        "print(\"H0: π >= 5% (Untuk Keliling yang kurang dari 100)\")\n",
        "\n",
        "# 2. Pilih hipotesis alternatif H1\n",
        "print(\"H1: π < 5% (Untuk Keliling yang kurang dari 100)\\n\")\n",
        "\n",
        "# Langkah 3 4 5 6\n",
        "data = df.Keliling[df.Keliling < 100]\n",
        "phat = data.shape[0] / df.Keliling.shape[0]\n",
        "po = 0.05\n",
        "\n",
        "# Tentukan Phat dan P0\n",
        "# Phat : observed proportion\n",
        "# P0   : hypothesized probability\n",
        "print(f\"P hat = {phat}\")\n",
        "print(f\"P0 = {po}\\n\")\n",
        "\n",
        "one_sample_one_sided_proportion_ztest(data, \"Keliling\", phat, po, \"left\")\n",
        "\n",
        "# Kesimpulan\n",
        "print(\"\\nKesimpulan:\\n     Hasil pengujian hipotesis menyatakan BENAR bahwa 'Proporsi nilai Keliling yang kurang dari 100, adalah kurang dari 5%'\")"
      ],
      "execution_count": 41,
      "outputs": [
        {
          "output_type": "stream",
          "text": [
            "Proporsi nilai Keliling yang kurang dari 100, adalah kurang dari 5% ?\n",
            "\n",
            "Perhatikan bahwa agar original claim dapat dijadikan H0, ia harus memiliki tanda equality seperti '='\n",
            "Namun, karena original claim tersebut tidak mengandung equality, H0 akan dibentuk dari komplemennya\n",
            "H0: π >= 5% (Untuk Keliling yang kurang dari 100)\n",
            "H1: π < 5% (Untuk Keliling yang kurang dari 100)\n",
            "\n",
            "P hat = 0.0\n",
            "P0 = 0.05\n",
            "\n",
            "Tingkat signifikan α: 5% = 0.05\n",
            "\n",
            "Karena atribut Keliling memiliki distribusi normal, testing ini berjenis 1 sampel dan simpangan baku populasi diketahui maka dapat digunakan z-test\n",
            "Jenis z-test yang akan digunakan adalah one-sided left-tailed karena H1 memiliki simbol daerah ' < ' \n",
            "\n",
            "Daerah kritis z < -z0.05 = -1.6448536269514729\n",
            "\n",
            "Rata-rata data: nan\n",
            "Standar Deviasi data: nan\n",
            "Nilai z-test data: -5.129891760425771\n",
            "Nilai p-value data: 1.4495441414387716e-07\n",
            "\n",
            "Berdasarkan pengujian daerah kritis: \n",
            "z < -z0.05 = -5.129891760425771 < 1.6448536269514729\n",
            "Keputusan test hipotesis: H0 ditolak karena nilai uji terletak di daerah kritis\n",
            "\n",
            "Berdasarkan pengujian p-value:\n",
            "Keputusan test hipotesis: H0 ditolak karena p-value lebih kecil dibanding tingkat signifikansi alpha\n",
            "\n",
            "Kesimpulan:\n",
            "     Hasil pengujian hipotesis menyatakan BENAR bahwa 'Proporsi nilai Keliling yang kurang dari 100, adalah kurang dari 5%'\n"
          ],
          "name": "stdout"
        }
      ]
    },
    {
      "cell_type": "markdown",
      "metadata": {
        "id": "B8AZ3RNiAjxm"
      },
      "source": [
        "## Soal 5\n",
        "> Melakukan test hipotesis 2 sampel, dengan menuliskan 6 langkah testing dan menampilkan juga boxplotnya untuk kolom/bagian yang bersesuaian."
      ]
    },
    {
      "cell_type": "markdown",
      "metadata": {
        "id": "IquS0eJscGW2"
      },
      "source": [
        "\n",
        "##### a. Data kolom AreaBulatan dibagi 2 sama rata: bagian awal dan bagian akhir kolom. Benarkah rata-rata kedua bagian tersebut sama?"
      ]
    },
    {
      "cell_type": "code",
      "metadata": {
        "colab": {
          "base_uri": "https://localhost:8080/",
          "height": 0
        },
        "id": "Cn626og2hF-g",
        "outputId": "b5f684ee-9955-4647-f001-b834a421e50a"
      },
      "source": [
        "# Boxplot untuk atribut terkait (AreaBulatan: KESELURUHAN)\n",
        "plt.figure(figsize=(5,3))\n",
        "sns.boxplot(df['AreaBulatan'])\n",
        "plt.suptitle('Beragam Boxplot untuk AreaBulatan')\n",
        "plt.show()\n",
        "\n",
        "# Boxplot untuk AreaBulatan (250 PERTAMA)\n",
        "plt.figure(figsize=(5,3))\n",
        "sns.boxplot(df['AreaBulatan'].iloc[:250])\n",
        "plt.suptitle('Beragam Boxplot untuk AreaBulatan')\n",
        "plt.show()\n",
        "\n",
        "# Boxplot untuk AreaBulatan (250 TERAKHIR)\n",
        "plt.figure(figsize=(5,3))\n",
        "sns.boxplot(df['AreaBulatan'].iloc[-250:])\n",
        "plt.suptitle('Beragam Boxplot untuk AreaBulatan')\n",
        "plt.show()"
      ],
      "execution_count": 42,
      "outputs": [
        {
          "output_type": "display_data",
          "data": {
            "image/png": "[encoded data removed]",
            "text/plain": [
              "<Figure size 360x216 with 1 Axes>"
            ]
          },
          "metadata": {
            "tags": [],
            "needs_background": "light"
          }
        },
        {
          "output_type": "display_data",
          "data": {
            "image/png": "[encoded data removed]",
            "text/plain": [
              "<Figure size 360x216 with 1 Axes>"
            ]
          },
          "metadata": {
            "tags": [],
            "needs_background": "light"
          }
        },
        {
          "output_type": "display_data",
          "data": {
            "image/png": "[encoded data removed]",
            "text/plain": [
              "<Figure size 360x216 with 1 Axes>"
            ]
          },
          "metadata": {
            "tags": [],
            "needs_background": "light"
          }
        }
      ]
    },
    {
      "cell_type": "code",
      "metadata": {
        "id": "SvZY7SKLdZ4n",
        "colab": {
          "base_uri": "https://localhost:8080/"
        },
        "outputId": "a8d09790-8ac1-4aa3-bb04-d69a602430c0"
      },
      "source": [
        "# Langkah testing hipotesis:\n",
        "print(\"Data kolom AreaBulatan dibagi 2 sama rata: bagian awal dan bagian akhir kolom. Benarkah rata-rata kedua bagian tersebut sama?\\n\")\n",
        "\n",
        "# 1. Tentukan Hipotesis nol (H0: θ = θ0), dimana θ bisa berupa μ, σ2, p, atau data lain berdistribusi tertentu (normal, binomial, dsc.).\n",
        "alpha = 0.05; d0 = 0\n",
        "\n",
        "print(f\"H0: μ1 - μ2 = {d0}\")\n",
        "\n",
        "# 2. Pilih hipotesis alternatif H1 salah dari dari θ > θ0, θ < θ0, atau θ ≠ θ0.\n",
        "print(f\"H1: μ1 - μ2 ≠ {d0}\")\n",
        "\n",
        "# 3. Tentukan tingkat signifikan α.\n",
        "print(f\"Tingkat signifikan α: {int(alpha*100)}% = {alpha}\\n\")\n",
        "\n",
        "# 4. Tentukan uji statistik yang sesuai dan tentukan daerah kritis.\n",
        "print(\"Perhatikan bahwa kedua pecahan atribut AreaBulatan berdistribusi normal, testing berjenis 2 sampel dan standar deviasi diketahui sehingga dapat digunakan z-test\")\n",
        "print(\"Jenis z-test yang digunakan adalah two-sided karena H1 memiliki simbol ' ≠ '\\n\")\n",
        "\n",
        "n1 = 250; n2 = 250\n",
        "\n",
        "one_mean = df['AreaBulatan'].iloc[:n1].mean()\n",
        "two_mean = df['AreaBulatan'].iloc[-n2:].mean()\n",
        "one_var = df['AreaBulatan'].iloc[:n1].var()\n",
        "two_var = df['AreaBulatan'].iloc[-n2:].var()\n",
        "one_std = df['AreaBulatan'].iloc[:n1].std()\n",
        "two_std = df['AreaBulatan'].iloc[-n2:].std()\n",
        "\n",
        "z = ((one_mean - two_mean) - d0)/(np.sqrt((one_var/n1) + (two_var/n2)))\n",
        "critical_zone = -1 * stats.norm.ppf(alpha/2)\n",
        "\n",
        "print(f\"Daerah kritis z < -z{alpha}/2 = {-1 * critical_zone} dan z > z{alpha}/2 = {critical_zone}\")\n",
        "\n",
        "print(f\"Rata-rata 1 = {one_mean}\")\n",
        "print(f\"Rata-rata 2 = {two_mean}\")\n",
        "print(f\"Standar deviasi 1 = {one_std}\")\n",
        "print(f\"Standar deviasi 2 = {two_std}\\n\")\n",
        "\n",
        "# 5. Hitung nilai uji statistik dari data sample. Hitung p-value sesuai denganuji statistik yang digunakan.\n",
        "p_value = stats.norm.sf(abs(z))\n",
        "\n",
        "print(f\"Nilai z-test data = {z}\")\n",
        "print(f\"Nilai p-value data = {p_value}\\n\")\n",
        "\n",
        "# 6. Ambil keputusan dengan TOLAK H0 jika nilai uji terletak di daerah kritis atau dengan tes signifikan, TOLAK H0 jika p-value lebih kecil dibanding tingkat signifikansi α yang diinginkan\n",
        "print(\"Berdasarkan pengujian daerah kritis: \")\n",
        "if (z < -1 * critical_zone or z > critical_zone):\n",
        "  print(\"Keputusan test hipotesis: \", end=\"\")\n",
        "  print(\"H0 ditolak karena nilai uji terletak di daerah kritis sehingga μ1 ≠ μ2\")\n",
        "else:\n",
        "  print(\"Keputusan test hipotesis: \", end=\"\")\n",
        "  print(\"H0 tidak berhasil ditolak (H0 diterima) karena nilai uji tidak terletak di daerah kritis sehingga BENAR, μ1 = μ2\")\n",
        "\n",
        "print(\"\\nBerdasarkan pengujian p-value:\")\n",
        "if (p_value < alpha):\n",
        "  print(\"Keputusan test hipotesis: \", end=\"\")\n",
        "  print(\"H0 ditolak karena p-value lebih kecil dibanding tingkat signifikansi alpha sehingga μ1 ≠ μ2\")\n",
        "else:\n",
        "  print(\"Keputusan test hipotesis: \", end=\"\")\n",
        "  print(\"H0 tidak berhasil ditolak (H0 diterima) karena p-value lebih besar dibanding tingkat signifikansi alpha sehingga BENAR, μ1 = μ2\")"
      ],
      "execution_count": 43,
      "outputs": [
        {
          "output_type": "stream",
          "text": [
            "Data kolom AreaBulatan dibagi 2 sama rata: bagian awal dan bagian akhir kolom. Benarkah rata-rata kedua bagian tersebut sama?\n",
            "\n",
            "H0: μ1 - μ2 = 0\n",
            "H1: μ1 - μ2 ≠ 0\n",
            "Tingkat signifikan α: 5% = 0.05\n",
            "\n",
            "Perhatikan bahwa kedua pecahan atribut AreaBulatan berdistribusi normal, testing berjenis 2 sampel dan standar deviasi diketahui sehingga dapat digunakan z-test\n",
            "Jenis z-test yang digunakan adalah two-sided karena H1 memiliki simbol ' ≠ '\n",
            "\n",
            "Daerah kritis z < -z0.05/2 = -1.9599639845400545 dan z > z0.05/2 = 1.9599639845400545\n",
            "Rata-rata 1 = 5549.804\n",
            "Rata-rata 2 = 4324.292\n",
            "Standar deviasi 1 = 867.0254356176825\n",
            "Standar deviasi 2 = 738.5664658199252\n",
            "\n",
            "Nilai z-test data = 17.013036648485464\n",
            "Nilai p-value data = 3.287012297809474e-65\n",
            "\n",
            "Berdasarkan pengujian daerah kritis: \n",
            "Keputusan test hipotesis: H0 ditolak karena nilai uji terletak di daerah kritis sehingga μ1 ≠ μ2\n",
            "\n",
            "Berdasarkan pengujian p-value:\n",
            "Keputusan test hipotesis: H0 ditolak karena p-value lebih kecil dibanding tingkat signifikansi alpha sehingga μ1 ≠ μ2\n"
          ],
          "name": "stdout"
        }
      ]
    },
    {
      "cell_type": "markdown",
      "metadata": {
        "id": "Ugoi08v9cQck"
      },
      "source": [
        "##### b. Data kolom Kadar Air dibagi 2 sama rata: bagian awal dan bagian akhir kolom. Benarkah rata-rata bagian awal lebih besar dari pada bagian akhir sebesar 0.2?"
      ]
    },
    {
      "cell_type": "code",
      "metadata": {
        "colab": {
          "base_uri": "https://localhost:8080/",
          "height": 0
        },
        "id": "ETFKvWSeiuV6",
        "outputId": "f320e0ee-25ee-48ab-96d4-025d15e52054"
      },
      "source": [
        "# Boxplot untuk atribut terkait (KadarAir: KESELURUHAN)\n",
        "plt.figure(figsize=(5,3))\n",
        "sns.boxplot(df['KadarAir'])\n",
        "plt.suptitle('Beragam Boxplot untuk KadarAir')\n",
        "plt.show()\n",
        "\n",
        "# Boxplot untuk KadarAir (250 PERTAMA)\n",
        "plt.figure(figsize=(5,3))\n",
        "sns.boxplot(df['KadarAir'].iloc[:250])\n",
        "plt.suptitle('Beragam Boxplot untuk KadarAir')\n",
        "plt.show()\n",
        "\n",
        "# Boxplot untuk KadarAir (250 TERAKHIR)\n",
        "plt.figure(figsize=(5,3))\n",
        "sns.boxplot(df['KadarAir'].iloc[-250:])\n",
        "plt.suptitle('Beragam Boxplot untuk KadarAir')\n",
        "plt.show()"
      ],
      "execution_count": 44,
      "outputs": [
        {
          "output_type": "display_data",
          "data": {
            "image/png": "[encoded data removed]",
            "text/plain": [
              "<Figure size 360x216 with 1 Axes>"
            ]
          },
          "metadata": {
            "tags": [],
            "needs_background": "light"
          }
        },
        {
          "output_type": "display_data",
          "data": {
            "image/png": "[encoded data removed]",
            "text/plain": [
              "<Figure size 360x216 with 1 Axes>"
            ]
          },
          "metadata": {
            "tags": [],
            "needs_background": "light"
          }
        },
        {
          "output_type": "display_data",
          "data": {
            "image/png": "[encoded data removed]",
            "text/plain": [
              "<Figure size 360x216 with 1 Axes>"
            ]
          },
          "metadata": {
            "tags": [],
            "needs_background": "light"
          }
        }
      ]
    },
    {
      "cell_type": "code",
      "metadata": {
        "colab": {
          "base_uri": "https://localhost:8080/"
        },
        "id": "MOIY5QZcuPfg",
        "outputId": "73fcc7cc-cc7c-44c5-a2d2-57a0180cc267"
      },
      "source": [
        "# Langkah testing hipotesis:\n",
        "print(\"Data kolom Kadar Air dibagi 2 sama rata: bagian awal dan bagian akhir kolom. Benarkah rata-rata bagian awal lebih besar dari pada bagian akhir sebesar 0.2?\\n\")\n",
        "\n",
        "# 1. Tentukan Hipotesis nol (H0: θ = θ0), dimana θ bisa berupa μ, σ2, p, atau data lain berdistribusi tertentu (normal, binomial, dsc.).\n",
        "alpha = 0.05; d0 = 0.2\n",
        "\n",
        "print(f\"H0: μ1 - μ2 = {d0}\")\n",
        "\n",
        "# 2. Pilih hipotesis alternatif H1 salah dari dari θ > θ0, θ < θ0, atau θ ≠ θ0.\n",
        "print(f\"H1: μ1 - μ2 ≠ {d0}\")\n",
        "\n",
        "# 3. Tentukan tingkat signifikan α.\n",
        "print(f\"Tingkat signifikan α: {int(alpha*100)}% = {alpha}\\n\")\n",
        "\n",
        "# 4. Tentukan uji statistik yang sesuai dan tentukan daerah kritis.\n",
        "print(\"Perhatikan bahwa kedua pecahan atribut KadarAir berdistribusi normal, testing berjenis 2 sampel dan standar deviasi diketahui sehingga dapat digunakan z-test\")\n",
        "print(\"Jenis z-test yang digunakan adalah two-sided karena H1 memiliki simbol ' ≠ '\\n\")\n",
        "\n",
        "n1 = 250; n2 = 250\n",
        "\n",
        "one_mean = df['KadarAir'].iloc[:n1].mean()\n",
        "two_mean = df['KadarAir'].iloc[-n2:].mean()\n",
        "one_var = df['KadarAir'].iloc[:n1].var()\n",
        "two_var = df['KadarAir'].iloc[-n2:].var()\n",
        "one_std = df['KadarAir'].iloc[:n1].std()\n",
        "two_std = df['KadarAir'].iloc[-n2:].std()\n",
        "\n",
        "z = ((one_mean - two_mean) - d0)/(np.sqrt((one_var/n1) + (two_var/n2)))\n",
        "critical_zone = -1 * stats.norm.ppf(alpha/2)\n",
        "\n",
        "print(f\"Daerah kritis z < -z{alpha}/2 = {-1 * critical_zone} dan z > z{alpha}/2 = {critical_zone}\")\n",
        "\n",
        "print(f\"Rata-rata 1 = {one_mean}\")\n",
        "print(f\"Rata-rata 2 = {two_mean}\")\n",
        "print(f\"Standar deviasi 1 = {one_std}\")\n",
        "print(f\"Standar deviasi 2 = {two_std}\\n\")\n",
        "\n",
        "# 5. Hitung nilai uji statistik dari data sample. Hitung p-value sesuai denganuji statistik yang digunakan.\n",
        "p_value = stats.norm.sf(abs(z))\n",
        "\n",
        "print(f\"Nilai z-test data = {z}\")\n",
        "print(f\"Nilai p-value data = {p_value}\\n\")\n",
        "\n",
        "# 6. Ambil keputusan dengan TOLAK H0 jika nilai uji terletak di daerah kritis atau dengan tes signifikan, TOLAK H0 jika p-value lebih kecil dibanding tingkat signifikansi α yang diinginkan\n",
        "print(\"Berdasarkan pengujian daerah kritis: \")\n",
        "if (z < -1 * critical_zone or z > critical_zone):\n",
        "  print(\"Keputusan test hipotesis: \", end=\"\")\n",
        "  print(\"H0 ditolak karena nilai uji terletak di daerah kritis sehingga μ1 ≠ μ2 + 0.2\")\n",
        "else:\n",
        "  print(\"Keputusan test hipotesis: \", end=\"\")\n",
        "  print(\"H0 tidak berhasil ditolak (H0 diterima) karena nilai uji tidak terletak di daerah kritis sehingga BENAR, μ1 = μ2 + 0.2\")\n",
        "\n",
        "print(\"\\nBerdasarkan pengujian p-value:\")\n",
        "if (p_value < alpha):\n",
        "  print(\"Keputusan test hipotesis: \", end=\"\")\n",
        "  print(\"H0 ditolak karena p-value lebih kecil dibanding tingkat signifikansi alpha sehingga μ1 ≠ μ2 + 0.2\")\n",
        "else:\n",
        "  print(\"Keputusan test hipotesis: \", end=\"\")\n",
        "  print(\"H0 tidak berhasil ditolak (H0 diterima) karena p-value lebih besar dibanding tingkat signifikansi alpha sehingga BENAR, μ1 = μ2 + 0.2\")"
      ],
      "execution_count": 45,
      "outputs": [
        {
          "output_type": "stream",
          "text": [
            "Data kolom Kadar Air dibagi 2 sama rata: bagian awal dan bagian akhir kolom. Benarkah rata-rata bagian awal lebih besar dari pada bagian akhir sebesar 0.2?\n",
            "\n",
            "H0: μ1 - μ2 = 0.2\n",
            "H1: μ1 - μ2 ≠ 0.2\n",
            "Tingkat signifikan α: 5% = 0.05\n",
            "\n",
            "Perhatikan bahwa kedua pecahan atribut KadarAir berdistribusi normal, testing berjenis 2 sampel dan standar deviasi diketahui sehingga dapat digunakan z-test\n",
            "Jenis z-test yang digunakan adalah two-sided karena H1 memiliki simbol ' ≠ '\n",
            "\n",
            "Daerah kritis z < -z0.05/2 = -1.9599639845400545 dan z > z0.05/2 = 1.9599639845400545\n",
            "Rata-rata 1 = 0.63574344072\n",
            "Rata-rata 2 = 0.6609999030760001\n",
            "Standar deviasi 1 = 0.09509574147708488\n",
            "Standar deviasi 2 = 0.0921012305176788\n",
            "\n",
            "Nilai z-test data = -26.903444249744958\n",
            "Nilai p-value data = 1.0008041428008981e-159\n",
            "\n",
            "Berdasarkan pengujian daerah kritis: \n",
            "Keputusan test hipotesis: H0 ditolak karena nilai uji terletak di daerah kritis sehingga μ1 ≠ μ2 + 0.2\n",
            "\n",
            "Berdasarkan pengujian p-value:\n",
            "Keputusan test hipotesis: H0 ditolak karena p-value lebih kecil dibanding tingkat signifikansi alpha sehingga μ1 ≠ μ2 + 0.2\n"
          ],
          "name": "stdout"
        }
      ]
    },
    {
      "cell_type": "markdown",
      "metadata": {
        "id": "4iL5PX3ccSZd"
      },
      "source": [
        "##### c. Rata-rata 20 baris pertama kolom Bulatan sama dengan 20 baris terakhirnya?"
      ]
    },
    {
      "cell_type": "code",
      "metadata": {
        "colab": {
          "base_uri": "https://localhost:8080/",
          "height": 707
        },
        "id": "DTQyTGdjjMqY",
        "outputId": "37e5b15c-71b4-4f8a-eba7-8f4c0fe75a96"
      },
      "source": [
        "# Boxplot untuk atribut terkait (Bulatan: KESELURUHAN)\n",
        "plt.figure(figsize=(5,3))\n",
        "sns.boxplot(df['Bulatan'])\n",
        "plt.suptitle('Beragam Boxplot untuk Bulatan')\n",
        "plt.show()\n",
        "\n",
        "# Boxplot untuk Bulatan (20 PERTAMA)\n",
        "plt.figure(figsize=(5,3))\n",
        "sns.boxplot(df['Bulatan'].iloc[:20])\n",
        "plt.suptitle('Beragam Boxplot untuk Bulatan')\n",
        "plt.show()\n",
        "\n",
        "# Boxplot untuk Bulatan (20 TERAKHIR)\n",
        "plt.figure(figsize=(5,3))\n",
        "sns.boxplot(df['Bulatan'].iloc[-20:])\n",
        "plt.suptitle('Beragam Boxplot untuk Bulatan')\n",
        "plt.show()"
      ],
      "execution_count": 46,
      "outputs": [
        {
          "output_type": "display_data",
          "data": {
            "image/png": "[encoded data removed]",
            "text/plain": [
              "<Figure size 360x216 with 1 Axes>"
            ]
          },
          "metadata": {
            "tags": [],
            "needs_background": "light"
          }
        },
        {
          "output_type": "display_data",
          "data": {
            "image/png": "[encoded data removed]",
            "text/plain": [
              "<Figure size 360x216 with 1 Axes>"
            ]
          },
          "metadata": {
            "tags": [],
            "needs_background": "light"
          }
        },
        {
          "output_type": "display_data",
          "data": {
            "image/png": "[encoded data removed]",
            "text/plain": [
              "<Figure size 360x216 with 1 Axes>"
            ]
          },
          "metadata": {
            "tags": [],
            "needs_background": "light"
          }
        }
      ]
    },
    {
      "cell_type": "code",
      "metadata": {
        "colab": {
          "base_uri": "https://localhost:8080/"
        },
        "id": "NFpFrBiO3F45",
        "outputId": "d83af2bb-206e-4281-d2f1-c199efadaf24"
      },
      "source": [
        "# Langkah testing hipotesis:\n",
        "print(\"Rata-rata 20 baris pertama kolom Bulatan sama dengan 20 baris terakhirnya?\\n\")\n",
        "\n",
        "# 1. Tentukan Hipotesis nol (H0: θ = θ0), dimana θ bisa berupa μ, σ2, p, atau data lain berdistribusi tertentu (normal, binomial, dsc.).\n",
        "alpha = 0.05; d0 = 0\n",
        "\n",
        "print(f\"H0: μ1 - μ2 = {d0}\")\n",
        "\n",
        "# 2. Pilih hipotesis alternatif H1 salah dari dari θ > θ0, θ < θ0, atau θ ≠ θ0.\n",
        "print(f\"H1: μ1 - μ2 ≠ {d0}\")\n",
        "\n",
        "# 3. Tentukan tingkat signifikan α.\n",
        "print(f\"Tingkat signifikan α: {int(alpha*100)}% = {alpha}\\n\")\n",
        "\n",
        "# 4. Tentukan uji statistik yang sesuai dan tentukan daerah kritis.\n",
        "print(\"Perhatikan bahwa kedua pecahan atribut Bulatan berdistribusi normal, testing berjenis 2 sampel dan standar deviasi diketahui sehingga dapat digunakan z-test\")\n",
        "print(\"Jenis z-test yang digunakan adalah two-sided karena H1 memiliki simbol ' ≠ '\\n\")\n",
        "\n",
        "n1 = 20; n2 = 20\n",
        "\n",
        "one_mean = df['Bulatan'].iloc[:n1].mean()\n",
        "two_mean = df['Bulatan'].iloc[-n2:].mean()\n",
        "one_var = df['Bulatan'].iloc[:n1].var()\n",
        "two_var = df['Bulatan'].iloc[-n2:].var()\n",
        "one_std = df['Bulatan'].iloc[:n1].std()\n",
        "two_std = df['Bulatan'].iloc[-n2:].std()\n",
        "\n",
        "z = ((one_mean - two_mean) - d0)/(np.sqrt((one_var/n1) + (two_var/n2)))\n",
        "critical_zone = -1 * stats.norm.ppf(alpha/2)\n",
        "\n",
        "print(f\"Daerah kritis z < -z{alpha}/2 = {-1 * critical_zone} dan z > z{alpha}/2 = {critical_zone}\")\n",
        "\n",
        "print(f\"Rata-rata 1 = {one_mean}\")\n",
        "print(f\"Rata-rata 2 = {two_mean}\")\n",
        "print(f\"Standar deviasi 1 = {one_std}\")\n",
        "print(f\"Standar deviasi 2 = {two_std}\\n\")\n",
        "\n",
        "# 5. Hitung nilai uji statistik dari data sample. Hitung p-value sesuai denganuji statistik yang digunakan.\n",
        "p_value = stats.norm.sf(abs(z))\n",
        "\n",
        "print(f\"Nilai z-test data = {z}\")\n",
        "print(f\"Nilai p-value data = {p_value}\\n\")\n",
        "\n",
        "# 6. Ambil keputusan dengan TOLAK H0 jika nilai uji terletak di daerah kritis atau dengan tes signifikan, TOLAK H0 jika p-value lebih kecil dibanding tingkat signifikansi α yang diinginkan\n",
        "print(\"Berdasarkan pengujian daerah kritis: \")\n",
        "if (z < -1 * critical_zone or z > critical_zone):\n",
        "  print(\"Keputusan test hipotesis: \", end=\"\")\n",
        "  print(\"H0 ditolak karena nilai uji terletak di daerah kritis sehingga μ1 ≠ μ2\")\n",
        "else:\n",
        "  print(\"Keputusan test hipotesis: \", end=\"\")\n",
        "  print(\"H0 tidak berhasil ditolak (H0 diterima) karena nilai uji tidak terletak di daerah kritis sehingga BENAR, μ1 = μ2\")\n",
        "\n",
        "print(\"\\nBerdasarkan pengujian p-value:\")\n",
        "if (p_value < alpha):\n",
        "  print(\"Keputusan test hipotesis: \", end=\"\")\n",
        "  print(\"H0 ditolak karena p-value lebih kecil dibanding tingkat signifikansi alpha sehingga μ1 ≠ μ2\")\n",
        "else:\n",
        "  print(\"Keputusan test hipotesis: \", end=\"\")\n",
        "  print(\"H0 tidak berhasil ditolak (H0 diterima) karena p-value lebih besar dibanding tingkat signifikansi alpha sehingga BENAR, μ1 = μ2\")"
      ],
      "execution_count": 47,
      "outputs": [
        {
          "output_type": "stream",
          "text": [
            "Rata-rata 20 baris pertama kolom Bulatan sama dengan 20 baris terakhirnya?\n",
            "\n",
            "H0: μ1 - μ2 = 0\n",
            "H1: μ1 - μ2 ≠ 0\n",
            "Tingkat signifikan α: 5% = 0.05\n",
            "\n",
            "Perhatikan bahwa kedua pecahan atribut Bulatan berdistribusi normal, testing berjenis 2 sampel dan standar deviasi diketahui sehingga dapat digunakan z-test\n",
            "Jenis z-test yang digunakan adalah two-sided karena H1 memiliki simbol ' ≠ '\n",
            "\n",
            "Daerah kritis z < -z0.05/2 = -1.9599639845400545 dan z > z0.05/2 = 1.9599639845400545\n",
            "Rata-rata 1 = 0.7375353552499999\n",
            "Rata-rata 2 = 0.767322437\n",
            "Standar deviasi 1 = 0.03038477583561706\n",
            "Standar deviasi 2 = 0.025115057347653767\n",
            "\n",
            "Nilai z-test data = -3.3792268633124025\n",
            "Nilai p-value data = 0.0003634499872927443\n",
            "\n",
            "Berdasarkan pengujian daerah kritis: \n",
            "Keputusan test hipotesis: H0 ditolak karena nilai uji terletak di daerah kritis sehingga μ1 ≠ μ2\n",
            "\n",
            "Berdasarkan pengujian p-value:\n",
            "Keputusan test hipotesis: H0 ditolak karena p-value lebih kecil dibanding tingkat signifikansi alpha sehingga μ1 ≠ μ2\n"
          ],
          "name": "stdout"
        }
      ]
    },
    {
      "cell_type": "markdown",
      "metadata": {
        "id": "qumh60RCcSLv"
      },
      "source": [
        "##### d. Proporsi nilai bagian awal Ransum yang lebih dari 2, adalah lebih besar daripada, proporsi nilai yang sama di bagian akhir Ransum?"
      ]
    },
    {
      "cell_type": "code",
      "metadata": {
        "colab": {
          "base_uri": "https://localhost:8080/",
          "height": 0
        },
        "id": "y71czuarjaQi",
        "outputId": "2dbf4cef-ee03-4a61-d836-c65462110b60"
      },
      "source": [
        "# Boxplot untuk atribut terkait (Ransum: KESELURUHAN)\n",
        "plt.figure(figsize=(5,3))\n",
        "sns.boxplot(df['Ransum'])\n",
        "plt.suptitle('Beragam Boxplot untuk Ransum')\n",
        "plt.show()\n",
        "\n",
        "# Boxplot untuk Ransum (250 PERTAMA)\n",
        "plt.figure(figsize=(5,3))\n",
        "sns.boxplot(df['Ransum'].iloc[:250])\n",
        "plt.suptitle('Beragam Boxplot untuk Ransum')\n",
        "plt.show()\n",
        "\n",
        "# Boxplot untuk Ransum (250 TERAKHIR)\n",
        "plt.figure(figsize=(5,3))\n",
        "sns.boxplot(df['Ransum'].iloc[-250:])\n",
        "plt.suptitle('Beragam Boxplot untuk Ransum')\n",
        "plt.show()"
      ],
      "execution_count": 48,
      "outputs": [
        {
          "output_type": "display_data",
          "data": {
            "image/png": "[encoded data removed]",
            "text/plain": [
              "<Figure size 360x216 with 1 Axes>"
            ]
          },
          "metadata": {
            "tags": [],
            "needs_background": "light"
          }
        },
        {
          "output_type": "display_data",
          "data": {
            "image/png": "[encoded data removed]",
            "text/plain": [
              "<Figure size 360x216 with 1 Axes>"
            ]
          },
          "metadata": {
            "tags": [],
            "needs_background": "light"
          }
        },
        {
          "output_type": "display_data",
          "data": {
            "image/png": "[encoded data removed]",
            "text/plain": [
              "<Figure size 360x216 with 1 Axes>"
            ]
          },
          "metadata": {
            "tags": [],
            "needs_background": "light"
          }
        }
      ]
    },
    {
      "cell_type": "code",
      "metadata": {
        "colab": {
          "base_uri": "https://localhost:8080/"
        },
        "id": "86vL52xC9Idf",
        "outputId": "f7517d38-ca4d-4133-f888-1f537c563755"
      },
      "source": [
        "# Langkah testing hipotesis:\n",
        "print(\"Proporsi nilai bagian awal Ransum yang lebih dari 2, adalah lebih besar daripada, proporsi nilai yang sama di bagian akhir Ransum?\\n\")\n",
        "\n",
        "# 1. Tentukan Hipotesis nol (H0: θ = θ0), dimana θ bisa berupa μ, σ2, p, atau data lain berdistribusi tertentu (normal, binomial, dsc.).\n",
        "alpha = 0.05; d0 = 0\n",
        "\n",
        "print(f\"H0: p1 - p2 = {d0}\")\n",
        "\n",
        "# 2. Pilih hipotesis alternatif H1 salah dari dari θ > θ0, θ < θ0, atau θ ≠ θ0.\n",
        "print(f\"H1: p1 - p2 > {d0}\")\n",
        "\n",
        "# 3. Tentukan tingkat signifikan α.\n",
        "print(f\"Tingkat signifikan α: {int(alpha*100)}% = {alpha}\\n\")\n",
        "\n",
        "# 4. Tentukan uji statistik yang sesuai dan tentukan daerah kritis.\n",
        "print(\"Testing akan berjenis 2 sampel dan akan digunakan two-proportion test\")\n",
        "print(\"Jenis tes yang digunakan adalah one-tailed karena H1 memiliki simbol ' > '\\n\")\n",
        "\n",
        "n1 = 250; n2 = 250\n",
        "\n",
        "first_half = df['Ransum'].iloc[:n1]\n",
        "second_half = df['Ransum'].iloc[-n2:]\n",
        "x1 = first_half[first_half > 2].count()\n",
        "x2 = second_half[second_half > 2].count()\n",
        "\n",
        "p = (x1 + x2)/(n1 + n2)\n",
        "z = ((x1/n1) - (x2/n2))/(np.sqrt((p) * (1-p) * ((1/n1) + (1/n2))))\n",
        "critical_zone = -1 * stats.norm.ppf(alpha)\n",
        "\n",
        "print(f\"Daerah kritis z > z{alpha} = {critical_zone}\")\n",
        "\n",
        "print(f\"x1 = {x1}\")\n",
        "print(f\"x2 = {x2}\")\n",
        "print(f\"ṕ1 = {x1/n1}\")\n",
        "print(f\"ṕ2 = {x2/n2}\")\n",
        "print(f\"ṕ = {p} → q = {1-p}\\n\")\n",
        "\n",
        "# 5. Hitung nilai uji statistik dari data sample. Hitung p-value sesuai denganuji statistik yang digunakan.\n",
        "p_value = stats.norm.sf(abs(z))\n",
        "\n",
        "print(f\"Nilai z-test data = {z}\")\n",
        "print(f\"Nilai p-value data = {p_value}\\n\")\n",
        "\n",
        "# 6. Ambil keputusan dengan TOLAK H0 jika nilai uji terletak di daerah kritis atau dengan tes signifikan, TOLAK H0 jika p-value lebih kecil dibanding tingkat signifikansi α yang diinginkan\n",
        "print(\"Berdasarkan pengujian daerah kritis: \")\n",
        "if (z < -1 * critical_zone or z > critical_zone):\n",
        "  print(\"Keputusan test hipotesis: \", end=\"\")\n",
        "  print(\"H0 ditolak karena nilai uji terletak di daerah kritis sehingga BENAR, p1 > p2\")\n",
        "else:\n",
        "  print(\"Keputusan test hipotesis: \", end=\"\")\n",
        "  print(\"H0 tidak berhasil ditolak (H0 diterima) karena nilai uji tidak terletak di daerah kritis sehingga p1 >/ p2 (tidak kurang dari)\")\n",
        "\n",
        "print(\"\\nBerdasarkan pengujian p-value:\")\n",
        "if (p_value < alpha):\n",
        "  print(\"Keputusan test hipotesis: \", end=\"\")\n",
        "  print(\"H0 ditolak karena p-value lebih kecil dibanding tingkat signifikansi alpha sehingga BENAR, p1 > p2\")\n",
        "else:\n",
        "  print(\"Keputusan test hipotesis: \", end=\"\")\n",
        "  print(\"H0 tidak berhasil ditolak (H0 diterima) karena p-value lebih besar dibanding tingkat signifikansi alpha sehingga p1 >/ p2 (tidak kurang dari)\")"
      ],
      "execution_count": 49,
      "outputs": [
        {
          "output_type": "stream",
          "text": [
            "Proporsi nilai bagian awal Ransum yang lebih dari 2, adalah lebih besar daripada, proporsi nilai yang sama di bagian akhir Ransum?\n",
            "\n",
            "H0: p1 - p2 = 0\n",
            "H1: p1 - p2 > 0\n",
            "Tingkat signifikan α: 5% = 0.05\n",
            "\n",
            "Testing akan berjenis 2 sampel dan akan digunakan two-proportion test\n",
            "Jenis tes yang digunakan adalah one-tailed karena H1 memiliki simbol ' > '\n",
            "\n",
            "Daerah kritis z > z0.05 = 1.6448536269514729\n",
            "x1 = 249\n",
            "x2 = 116\n",
            "ṕ1 = 0.996\n",
            "ṕ2 = 0.464\n",
            "ṕ = 0.73 → q = 0.27\n",
            "\n",
            "Nilai z-test data = 13.397486455610238\n",
            "Nilai p-value data = 3.1272867966039766e-41\n",
            "\n",
            "Berdasarkan pengujian daerah kritis: \n",
            "Keputusan test hipotesis: H0 ditolak karena nilai uji terletak di daerah kritis sehingga BENAR, p1 > p2\n",
            "\n",
            "Berdasarkan pengujian p-value:\n",
            "Keputusan test hipotesis: H0 ditolak karena p-value lebih kecil dibanding tingkat signifikansi alpha sehingga BENAR, p1 > p2\n"
          ],
          "name": "stdout"
        }
      ]
    },
    {
      "cell_type": "markdown",
      "metadata": {
        "id": "ZId_VPw_cRu0"
      },
      "source": [
        "##### e. Bagian awal kolom Diameter memiliki variansi yang sama dengan bagian akhirnya?"
      ]
    },
    {
      "cell_type": "code",
      "metadata": {
        "colab": {
          "base_uri": "https://localhost:8080/",
          "height": 707
        },
        "id": "0mHs3ONojob2",
        "outputId": "6764c516-3afe-4c75-e4cf-6ae42d2b7b89"
      },
      "source": [
        "# Boxplot untuk atribut terkait (Diameter: KESELURUHAN)\n",
        "plt.figure(figsize=(5,3))\n",
        "sns.boxplot(df['Diameter'])\n",
        "plt.suptitle('Beragam Boxplot untuk Diameter')\n",
        "plt.show()\n",
        "\n",
        "# Boxplot untuk Diameter (250 PERTAMA)\n",
        "plt.figure(figsize=(5,3))\n",
        "sns.boxplot(df['Diameter'].iloc[:250])\n",
        "plt.suptitle('Beragam Boxplot untuk Diameter')\n",
        "plt.show()\n",
        "\n",
        "# Boxplot untuk Diameter (250 TERAKHIR)\n",
        "plt.figure(figsize=(5,3))\n",
        "sns.boxplot(df['Diameter'].iloc[-250:])\n",
        "plt.suptitle('Beragam Boxplot untuk Diameter')\n",
        "plt.show()"
      ],
      "execution_count": 50,
      "outputs": [
        {
          "output_type": "display_data",
          "data": {
            "image/png": "[encoded data removed]",
            "text/plain": [
              "<Figure size 360x216 with 1 Axes>"
            ]
          },
          "metadata": {
            "tags": [],
            "needs_background": "light"
          }
        },
        {
          "output_type": "display_data",
          "data": {
            "image/png": "[encoded data removed]",
            "text/plain": [
              "<Figure size 360x216 with 1 Axes>"
            ]
          },
          "metadata": {
            "tags": [],
            "needs_background": "light"
          }
        },
        {
          "output_type": "display_data",
          "data": {
            "image/png": "[encoded data removed]",
            "text/plain": [
              "<Figure size 360x216 with 1 Axes>"
            ]
          },
          "metadata": {
            "tags": [],
            "needs_background": "light"
          }
        }
      ]
    },
    {
      "cell_type": "code",
      "metadata": {
        "colab": {
          "base_uri": "https://localhost:8080/"
        },
        "id": "_TTN5UU7fFrZ",
        "outputId": "7bafc8e9-2175-4a86-fe4a-6392661b8e8c"
      },
      "source": [
        "# Langkah testing hipotesis:\n",
        "print(\"Bagian awal kolom Diameter memiliki variansi yang sama dengan bagian akhirnya?\\n\")\n",
        "\n",
        "# 1. Tentukan Hipotesis nol (H0: θ = θ0), dimana θ bisa berupa μ, σ2, p, atau data lain berdistribusi tertentu (normal, binomial, dsc.).\n",
        "alpha = 0.05; d0 = 0\n",
        "\n",
        "print(f\"H0: σ1^2 - σ2^2 = {d0}\")\n",
        "\n",
        "# 2. Pilih hipotesis alternatif H1 salah dari dari θ > θ0, θ < θ0, atau θ ≠ θ0.\n",
        "print(f\"H1: σ1^2 - σ2^2 ≠ {d0}\")\n",
        "\n",
        "# 3. Tentukan tingkat signifikan α.\n",
        "print(f\"Tingkat signifikan α: {int(alpha*100)}% = {alpha}\\n\")\n",
        "\n",
        "# 4. Tentukan uji statistik yang sesuai dan tentukan daerah kritis.\n",
        "print(\"Perhatikan bahwa testing akan berjenis 2 sampel sehingga dapat digunakan dist f-test\")\n",
        "print(\"Test akan two-sided karena H1 memiliki simbol ' ≠ '\\n\")\n",
        "\n",
        "n1 = 250; n2 = 250\n",
        "\n",
        "one_mean = df['Diameter'].iloc[:n1].mean()\n",
        "two_mean = df['Diameter'].iloc[-n2:].mean()\n",
        "one_var = df['Diameter'].iloc[:n1].var()\n",
        "two_var = df['Diameter'].iloc[-n2:].var()\n",
        "one_std = df['Diameter'].iloc[:n1].std()\n",
        "two_std = df['Diameter'].iloc[-n2:].std()\n",
        "\n",
        "critical_zone_upper = sp.stats.f.ppf(q=1-alpha, dfn=n1-1, dfd=n2-1)\n",
        "critical_zone_lower = sp.stats.f.ppf(q=alpha, dfn=n1-1, dfd=n2-1)\n",
        "\n",
        "print(f\"Rata-rata 1 = {one_mean}\")\n",
        "print(f\"Rata-rata 2 = {two_mean}\")\n",
        "print(f\"Standar deviasi 1 = {one_std}\")\n",
        "print(f\"Standar deviasi 2 = {two_std}\\n\")\n",
        "\n",
        "print(f\"Daerah kritis f < {critical_zone_lower} dan f > {critical_zone_upper}\\n\")\n",
        "\n",
        "# 5. Hitung nilai uji statistik dari data sample. Hitung p-value sesuai denganuji statistik yang digunakan.\n",
        "f = one_var/two_var\n",
        "p_value = 1 - sp.stats.f.cdf(f, dfn=n1-1, dfd=n2-1)\n",
        "\n",
        "print(f\"Nilai f-test data = {f}\")\n",
        "print(f\"Nilai p-value data = {p_value}\\n\")\n",
        "\n",
        "# 6. Ambil keputusan dengan TOLAK H0 jika nilai uji terletak di daerah kritis atau dengan tes signifikan, TOLAK H0 jika p-value lebih kecil dibanding tingkat signifikansi α yang diinginkan\n",
        "print(\"Berdasarkan pengujian daerah kritis: \")\n",
        "if (f < critical_zone_lower or f > critical_zone_upper):\n",
        "  print(\"Keputusan test hipotesis: \", end=\"\")\n",
        "  print(\"H0 ditolak karena nilai uji terletak di daerah kritis sehingga σ1^2 ≠ σ2^2\")\n",
        "else:\n",
        "  print(\"Keputusan test hipotesis: \", end=\"\")\n",
        "  print(\"H0 tidak berhasil ditolak (H0 diterima) karena nilai uji tidak terletak di daerah kritis sehingga BENAR, σ1^2 = σ2^2\")\n",
        "\n",
        "print(\"\\nBerdasarkan pengujian p-value:\")\n",
        "if (p_value < alpha):\n",
        "  print(\"Keputusan test hipotesis: \", end=\"\")\n",
        "  print(\"H0 ditolak karena p-value lebih kecil dibanding tingkat signifikansi alpha sehingga σ1^2 ≠ σ2^2\")\n",
        "else:\n",
        "  print(\"Keputusan test hipotesis: \", end=\"\")\n",
        "  print(\"H0 tidak berhasil ditolak (H0 diterima) karena p-value lebih besar dibanding tingkat signifikansi alpha sehingga BENAR, σ1^2 = σ2^2\")"
      ],
      "execution_count": 51,
      "outputs": [
        {
          "output_type": "stream",
          "text": [
            "Bagian awal kolom Diameter memiliki variansi yang sama dengan bagian akhirnya?\n",
            "\n",
            "H0: σ1^2 - σ2^2 = 0\n",
            "H1: σ1^2 - σ2^2 ≠ 0\n",
            "Tingkat signifikan α: 5% = 0.05\n",
            "\n",
            "Perhatikan bahwa testing akan berjenis 2 sampel sehingga dapat digunakan dist f-test\n",
            "Test akan two-sided karena H1 memiliki simbol ' ≠ '\n",
            "\n",
            "Rata-rata 1 = 82.61374558964\n",
            "Rata-rata 2 = 72.928570027\n",
            "Standar deviasi 1 = 6.570310527389285\n",
            "Standar deviasi 2 = 6.310963824019057\n",
            "\n",
            "Daerah kritis f < 0.8114963871039081 dan f > 1.2322913766367205\n",
            "\n",
            "Nilai f-test data = 1.0838780220421882\n",
            "Nilai p-value data = 0.26278959201893937\n",
            "\n",
            "Berdasarkan pengujian daerah kritis: \n",
            "Keputusan test hipotesis: H0 tidak berhasil ditolak (H0 diterima) karena nilai uji tidak terletak di daerah kritis sehingga BENAR, σ1^2 = σ2^2\n",
            "\n",
            "Berdasarkan pengujian p-value:\n",
            "Keputusan test hipotesis: H0 tidak berhasil ditolak (H0 diterima) karena p-value lebih besar dibanding tingkat signifikansi alpha sehingga BENAR, σ1^2 = σ2^2\n"
          ],
          "name": "stdout"
        }
      ]
    },
    {
      "cell_type": "markdown",
      "metadata": {
        "id": "WcIKsyf_Ak6D"
      },
      "source": [
        "## Soal 6\n",
        "> Test korelasi: tentukan apakah setiap kolom non-target berkorelasi dengan kolom target, dengan menggambarkan juga scatter plot nya. Gunakan correlation test."
      ]
    },
    {
      "cell_type": "markdown",
      "metadata": {
        "id": "5-bKtIS1FDZx"
      },
      "source": [
        "#####Nilai korelasi kolom non-target terhadap kolom target"
      ]
    },
    {
      "cell_type": "code",
      "metadata": {
        "colab": {
          "base_uri": "https://localhost:8080/",
          "height": 77
        },
        "id": "fxpoBPywI77k",
        "outputId": "8c50d87d-9983-4ec1-8585-a6494aae277a"
      },
      "source": [
        "# nilai korelasi masing-masing kolom non-target dengan target (kelas)\n",
        "pd.DataFrame({ 'corr': df.corrwith(target, method='pearson') }).T"
      ],
      "execution_count": 53,
      "outputs": [
        {
          "output_type": "execute_result",
          "data": {
            "text/html": [
              "<div>\n",
              "<style scoped>\n",
              "    .dataframe tbody tr th:only-of-type {\n",
              "        vertical-align: middle;\n",
              "    }\n",
              "\n",
              "    .dataframe tbody tr th {\n",
              "        vertical-align: top;\n",
              "    }\n",
              "\n",
              "    .dataframe thead th {\n",
              "        text-align: right;\n",
              "    }\n",
              "</style>\n",
              "<table border=\"1\" class=\"dataframe\">\n",
              "  <thead>\n",
              "    <tr style=\"text-align: right;\">\n",
              "      <th></th>\n",
              "      <th>Daerah</th>\n",
              "      <th>SumbuUtama</th>\n",
              "      <th>SumbuKecil</th>\n",
              "      <th>Keunikan</th>\n",
              "      <th>AreaBulatan</th>\n",
              "      <th>Diameter</th>\n",
              "      <th>KadarAir</th>\n",
              "      <th>Keliling</th>\n",
              "      <th>Bulatan</th>\n",
              "      <th>Ransum</th>\n",
              "    </tr>\n",
              "  </thead>\n",
              "  <tbody>\n",
              "    <tr>\n",
              "      <th>corr</th>\n",
              "      <td>-0.602747</td>\n",
              "      <td>-0.713091</td>\n",
              "      <td>-0.152975</td>\n",
              "      <td>-0.730456</td>\n",
              "      <td>-0.607313</td>\n",
              "      <td>-0.602536</td>\n",
              "      <td>0.134344</td>\n",
              "      <td>-0.634861</td>\n",
              "      <td>0.545005</td>\n",
              "      <td>-0.839904</td>\n",
              "    </tr>\n",
              "  </tbody>\n",
              "</table>\n",
              "</div>"
            ],
            "text/plain": [
              "        Daerah  SumbuUtama  SumbuKecil  ...  Keliling   Bulatan    Ransum\n",
              "corr -0.602747   -0.713091   -0.152975  ... -0.634861  0.545005 -0.839904\n",
              "\n",
              "[1 rows x 10 columns]"
            ]
          },
          "metadata": {
            "tags": []
          },
          "execution_count": 53
        }
      ]
    },
    {
      "cell_type": "markdown",
      "metadata": {
        "id": "n2QBb3x3E3_u"
      },
      "source": [
        "#####Interpretasi korelasi kolom non-target terhadap kolom target"
      ]
    },
    {
      "cell_type": "code",
      "metadata": {
        "colab": {
          "base_uri": "https://localhost:8080/",
          "height": 77
        },
        "id": "iHw_yo9Tw5PC",
        "outputId": "9dda4195-daf7-4d0e-e0fb-62a6f8afd609"
      },
      "source": [
        "# set degreeFrame sebagai dataframe yang menyimpan nilai korelasi\n",
        "degreeFrame = pd.DataFrame({ 'degree': df.corrwith(target, method='pearson') }).T\n",
        "\n",
        "# define helper function\n",
        "def interpret(x):\n",
        "  if (abs(float(x)) > 0 and abs(float(x)) <= 0.3):\n",
        "    return 'weak'\n",
        "  elif (abs(float(x)) > 0.3 and abs(float(x)) <= 0.5):\n",
        "    return 'medium'\n",
        "  else:\n",
        "    return 'strong'\n",
        "\n",
        "# change float data type to string\n",
        "for column in degreeFrame.columns:\n",
        "  degreeFrame[column] = degreeFrame[column].astype(str)\n",
        "\n",
        "# redefine degreeFrame dengan menerapkan fungsi\n",
        "degreeFrame = { 'degree': degreeFrame.apply(interpret) }\n",
        "\n",
        "# interpretasi korelasi (|x|>0.5 : strong, 0.3<|x|<=0.5 : medium, |x|<=0.3 : weak)\n",
        "pd.DataFrame(degreeFrame).T"
      ],
      "execution_count": 54,
      "outputs": [
        {
          "output_type": "execute_result",
          "data": {
            "text/html": [
              "<div>\n",
              "<style scoped>\n",
              "    .dataframe tbody tr th:only-of-type {\n",
              "        vertical-align: middle;\n",
              "    }\n",
              "\n",
              "    .dataframe tbody tr th {\n",
              "        vertical-align: top;\n",
              "    }\n",
              "\n",
              "    .dataframe thead th {\n",
              "        text-align: right;\n",
              "    }\n",
              "</style>\n",
              "<table border=\"1\" class=\"dataframe\">\n",
              "  <thead>\n",
              "    <tr style=\"text-align: right;\">\n",
              "      <th></th>\n",
              "      <th>Daerah</th>\n",
              "      <th>SumbuUtama</th>\n",
              "      <th>SumbuKecil</th>\n",
              "      <th>Keunikan</th>\n",
              "      <th>AreaBulatan</th>\n",
              "      <th>Diameter</th>\n",
              "      <th>KadarAir</th>\n",
              "      <th>Keliling</th>\n",
              "      <th>Bulatan</th>\n",
              "      <th>Ransum</th>\n",
              "    </tr>\n",
              "  </thead>\n",
              "  <tbody>\n",
              "    <tr>\n",
              "      <th>degree</th>\n",
              "      <td>strong</td>\n",
              "      <td>strong</td>\n",
              "      <td>weak</td>\n",
              "      <td>strong</td>\n",
              "      <td>strong</td>\n",
              "      <td>strong</td>\n",
              "      <td>weak</td>\n",
              "      <td>strong</td>\n",
              "      <td>strong</td>\n",
              "      <td>strong</td>\n",
              "    </tr>\n",
              "  </tbody>\n",
              "</table>\n",
              "</div>"
            ],
            "text/plain": [
              "        Daerah SumbuUtama SumbuKecil Keunikan  ... KadarAir Keliling Bulatan  Ransum\n",
              "degree  strong     strong       weak   strong  ...     weak   strong  strong  strong\n",
              "\n",
              "[1 rows x 10 columns]"
            ]
          },
          "metadata": {
            "tags": []
          },
          "execution_count": 54
        }
      ]
    },
    {
      "cell_type": "markdown",
      "metadata": {
        "id": "6ybEIsLREwv6"
      },
      "source": [
        "#####Visualisasi scatter plot"
      ]
    },
    {
      "cell_type": "code",
      "metadata": {
        "colab": {
          "base_uri": "https://localhost:8080/",
          "height": 1000
        },
        "id": "3YY8ReH2TeJq",
        "outputId": "b89b2b35-202c-4838-e4b9-3917391d1dd2"
      },
      "source": [
        "# Visualisasi scatter plot\n",
        "# Membuat figure dan axis\n",
        "fig, ax = plt.subplots(figsize=(20,20), ncols=2, nrows=5)\n",
        "\n",
        "# Mengatur positioning\n",
        "left   =  0.125\n",
        "right  =  0.9\n",
        "bottom =  0.1\n",
        "top    =  0.95\n",
        "wspace =  .2\n",
        "hspace =  .3\n",
        "\n",
        "plt.subplots_adjust(\n",
        "    left    =  left, \n",
        "    bottom  =  bottom, \n",
        "    right   =  right, \n",
        "    top     =  top, \n",
        "    wspace  =  wspace, \n",
        "    hspace  =  hspace,\n",
        ")\n",
        "\n",
        "y_title_margin = .2\n",
        "\n",
        "# Title\n",
        "plt.suptitle(\"Scatter Plot Kolom Target-Nontarget\", y = 1, fontsize=20)\n",
        "\n",
        "# Memplot setiap atribut numerik pada kotak tertentu \n",
        "sns.scatterplot(data=df_all, x=\"Daerah\", y=\"Kelas\", ax=ax[0][0])\n",
        "sns.scatterplot(data=df_all, x=\"SumbuUtama\", y=\"Kelas\", ax=ax[0][1])\n",
        "sns.scatterplot(data=df_all, x=\"SumbuKecil\", y=\"Kelas\", ax=ax[1][0])\n",
        "sns.scatterplot(data=df_all, x=\"Keunikan\", y=\"Kelas\", ax=ax[1][1])\n",
        "sns.scatterplot(data=df_all, x=\"AreaBulatan\", y=\"Kelas\", ax=ax[2][0])\n",
        "sns.scatterplot(data=df_all, x=\"Diameter\", y=\"Kelas\", ax=ax[2][1])\n",
        "sns.scatterplot(data=df_all, x=\"KadarAir\", y=\"Kelas\", ax=ax[3][0])\n",
        "sns.scatterplot(data=df_all, x=\"Keliling\", y=\"Kelas\", ax=ax[3][1])\n",
        "sns.scatterplot(data=df_all, x=\"Bulatan\", y=\"Kelas\", ax=ax[4][0])\n",
        "sns.scatterplot(data=df_all, x=\"Ransum\", y=\"Kelas\", ax=ax[4][1])\n",
        "\n",
        "plt.show()"
      ],
      "execution_count": 55,
      "outputs": [
        {
          "output_type": "display_data",
          "data": {
            "image/png": "[encoded data removed]",
            "text/plain": [
              "<Figure size 1440x1440 with 10 Axes>"
            ]
          },
          "metadata": {
            "tags": [],
            "needs_background": "light"
          }
        }
      ]
    }
  ]
}